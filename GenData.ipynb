{
 "cells": [
  {
   "cell_type": "markdown",
   "id": "89fe03fc405575a5",
   "metadata": {
    "collapsed": false
   },
   "source": [
    "This is a worksheet for generating some test data."
   ]
  },
  {
   "cell_type": "code",
   "execution_count": 1,
   "id": "7f1f2ae05ba47fd",
   "metadata": {
    "ExecuteTime": {
     "end_time": "2024-03-08T03:47:12.662907Z",
     "start_time": "2024-03-08T03:47:12.658460Z"
    },
    "collapsed": false
   },
   "outputs": [],
   "source": [
    "import random\n",
    "from random import gauss, randint\n",
    "from matplotlib import pyplot as plot\n",
    "import numpy as np\n",
    "\n",
    "# cokie laptop\n",
    "dataPath = \"C:\\\\Users\\\\cokie\\\\Workspace\\\\GithubProjects\\\\MLPlay\\\\data\\\\\""
   ]
  },
  {
   "cell_type": "code",
   "execution_count": 3,
   "id": "8863f59581a0eefe",
   "metadata": {
    "ExecuteTime": {
     "end_time": "2024-03-08T03:47:12.685986Z",
     "start_time": "2024-03-08T03:47:12.680985Z"
    },
    "collapsed": false
   },
   "outputs": [],
   "source": [
    "dim = 2\n",
    "sigma = 0.5\n",
    "nType = 3\n",
    "nSamp = 100\n",
    "\n",
    "seed = None\n",
    "\n",
    "cent = ((1,1), (0,-1), (-1,0))\n",
    "colorL = ['red', 'blue', 'green']\n",
    "\n",
    "prop = [0.5, 0.2, 0.3]"
   ]
  },
  {
   "cell_type": "code",
   "execution_count": 6,
   "id": "3abfb3aecc6fd618",
   "metadata": {
    "ExecuteTime": {
     "end_time": "2024-03-08T03:47:12.720147Z",
     "start_time": "2024-03-08T03:47:12.714070Z"
    },
    "collapsed": false
   },
   "outputs": [],
   "source": [
    "def SetSeed(seed=None):\n",
    "    if seed == None:\n",
    "        random.seed()\n",
    "        maxSeed = 999\n",
    "        seed = randint(0, maxSeed)\n",
    "\n",
    "    random.seed(seed)\n",
    "\n",
    "    return seed"
   ]
  },
  {
   "cell_type": "code",
   "execution_count": 7,
   "id": "5e7d27676ddb4075",
   "metadata": {
    "ExecuteTime": {
     "end_time": "2024-03-08T03:47:12.772356Z",
     "start_time": "2024-03-08T03:47:12.722151Z"
    },
    "collapsed": false
   },
   "outputs": [],
   "source": [
    "def UnZip(list_):\n",
    "\tnElem = len(list_)\n",
    "\tnDim = len(list_[0])\n",
    "\t\n",
    "\tresult = [[] for _ in range(nDim)]\n",
    "\tfor i in range(nElem):\n",
    "\t\tfor j in range(nDim):\n",
    "\t\t\tresult[j].append(list_[i][j])\n",
    "\t\t\n",
    "\treturn result"
   ]
  },
  {
   "cell_type": "code",
   "execution_count": 8,
   "id": "2e71646aeb6f3139",
   "metadata": {
    "ExecuteTime": {
     "end_time": "2024-03-08T03:47:12.807630Z",
     "start_time": "2024-03-08T03:47:12.775357Z"
    },
    "collapsed": false
   },
   "outputs": [],
   "source": [
    "def Group(list_):\n",
    "\tcopy = sorted(list_, key=lambda p: p[0])\n",
    "\t\n",
    "\tresult = []\n",
    "\t\n",
    "\ti = 0\n",
    "\tprev = copy[0][0]\n",
    "\tout = [copy[0][1]]\n",
    "\n",
    "\tfor i in range(1, len(list_)):\n",
    "\t\tcurr = copy[i][0]\n",
    "\n",
    "\t\tif curr == prev:\n",
    "\t\t\tout.append(copy[i][1])\n",
    "\t\telse:\n",
    "\t\t\tresult.append((prev,out))\n",
    "\t\t\tout = [copy[i][1]]\n",
    "\t\t\tprev = curr\n",
    "\t\t\n",
    "\tresult.append((prev, out))\n",
    "\t\n",
    "\treturn result  \t"
   ]
  },
  {
   "cell_type": "code",
   "execution_count": 9,
   "id": "a029077caef71e96",
   "metadata": {
    "ExecuteTime": {
     "end_time": "2024-03-08T03:47:12.833447Z",
     "start_time": "2024-03-08T03:47:12.809631Z"
    },
    "collapsed": false
   },
   "outputs": [
    {
     "name": "stdout",
     "output_type": "stream",
     "text": [
      "Seed = 509\n"
     ]
    }
   ],
   "source": [
    "seed = SetSeed(seed)\n",
    "print(f'Seed = {seed}')\n",
    "\n",
    "type_ = [randint(0,nType - 1) for _ in range(nSamp)]\n",
    "loc = [(gauss(cent[t][0], sigma), gauss(cent[t][1], sigma)) for t in type_]"
   ]
  },
  {
   "cell_type": "code",
   "execution_count": 10,
   "id": "6802f8a3ecc23464",
   "metadata": {
    "ExecuteTime": {
     "end_time": "2024-03-08T03:47:12.878921Z",
     "start_time": "2024-03-08T03:47:12.837447Z"
    },
    "collapsed": false
   },
   "outputs": [],
   "source": [
    "byType = Group(list(zip(type_,loc)))"
   ]
  },
  {
   "cell_type": "code",
   "execution_count": 14,
   "id": "563db9854052fe00",
   "metadata": {
    "ExecuteTime": {
     "end_time": "2024-03-08T03:47:13.214386Z",
     "start_time": "2024-03-08T03:47:12.882921Z"
    },
    "collapsed": false
   },
   "outputs": [
    {
     "data": {
      "image/png": "[encoded data removed]",
      "text/plain": [
       "<Figure size 650x650 with 1 Axes>"
      ]
     },
     "metadata": {},
     "output_type": "display_data"
    }
   ],
   "source": [
    "fig,ax = plot.subplots(figsize=(6.5,6.5))\n",
    "ax.set_aspect('equal')\n",
    "\n",
    "for t, pointL in byType:\n",
    "\tx,y = UnZip(pointL)\n",
    "\tplot.plot(x,y, 'o', markersize=4, color=colorL[t])\n",
    "\t\n",
    "plot.savefig(dataPath + 'GenData.png')"
   ]
  },
  {
   "cell_type": "code",
   "execution_count": 18,
   "id": "6a0e74a6",
   "metadata": {},
   "outputs": [
    {
     "name": "stdout",
     "output_type": "stream",
     "text": [
      "100\n",
      "100\n"
     ]
    }
   ],
   "source": [
    "print(len(type_))\n",
    "print(len(loc))\n",
    "\n",
    "np.save(dataPath+\"2D_GroupsData_X.npy\", np.array(loc))\n",
    "np.save(dataPath+\"2D_GroupsData_Y.npy\", np.array(type_))"
   ]
  }
 ],
 "metadata": {
  "kernelspec": {
   "display_name": "Python 3",
   "language": "python",
   "name": "python3"
  },
  "language_info": {
   "codemirror_mode": {
    "name": "ipython",
    "version": 3
   },
   "file_extension": ".py",
   "mimetype": "text/x-python",
   "name": "python",
   "nbconvert_exporter": "python",
   "pygments_lexer": "ipython3",
   "version": "3.11.8"
  }
 },
 "nbformat": 4,
 "nbformat_minor": 5
}

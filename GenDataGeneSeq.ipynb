{
 "cells": [
  {
   "cell_type": "code",
   "execution_count": 6,
   "metadata": {},
   "outputs": [],
   "source": [
    "import random\n",
    "import numpy as np"
   ]
  },
  {
   "cell_type": "code",
   "execution_count": 11,
   "metadata": {},
   "outputs": [],
   "source": [
    "transitionProb = 0.1\n",
    "simSeqLen = 100\n",
    "snpList = [0, 1]\n",
    "initSNP = 0\n",
    "\n",
    "numChunks = 4\n",
    "numClasses = 4\n",
    "\n",
    "numSeq = 100\n",
    "\n",
    "random.seed(2525)\n",
    "\n",
    "# Cokie laptop\n",
    "dataPath = \"C:\\\\Users\\\\cokie\\\\Workspace\\\\GithubProjects\\\\MLPlay\\\\data\\\\\"\n"
   ]
  },
  {
   "cell_type": "code",
   "execution_count": 15,
   "metadata": {},
   "outputs": [
    {
     "name": "stdout",
     "output_type": "stream",
     "text": [
      "[1, 0, 0, 0, 0, 0, 0, 0, 0, 0, 0, 0, 0, 0, 0, 0, 0, 0, 0, 0, 0, 0, 0, 0, 0, 1, 0, 0, 0, 0, 0, 0, 0, 0, 0, 0, 0, 0, 0, 0, 0, 0, 0, 0, 0, 0, 0, 0, 0, 0, 1, 0, 0, 0, 0, 0, 0, 0, 0, 0, 0, 0, 0, 0, 0, 0, 0, 0, 0, 0, 0, 0, 0, 0, 0, 1, 0, 0, 0, 0, 0, 0, 0, 0, 0, 0, 0, 0, 0, 0, 0, 0, 0, 0, 0, 0, 0, 0, 0, 0]\n",
      "100\n"
     ]
    }
   ],
   "source": [
    "chunkInterval = simSeqLen // numChunks\n",
    "\n",
    "maskCounter = 0\n",
    "chunkMask = []\n",
    "for snp in range(simSeqLen):\n",
    "    if maskCounter % chunkInterval == 0:\n",
    "        chunkMask.append(1)\n",
    "    else:\n",
    "        chunkMask.append(0)\n",
    "    \n",
    "    maskCounter = maskCounter + 1\n",
    "\n",
    "print(chunkMask)\n",
    "print(len(chunkMask))"
   ]
  },
  {
   "cell_type": "code",
   "execution_count": 23,
   "metadata": {},
   "outputs": [],
   "source": [
    "currSNP = initSNP\n",
    "\n",
    "xfile = open(dataPath+\"GeneSeqX.txt\", \"w\")\n",
    "yfile = open(dataPath+\"GeneSeqY.txt\", \"w\")\n",
    "\n",
    "for seq in range(numSeq):\n",
    "    simSeq = []\n",
    "    for snp in range(simSeqLen):\n",
    "        if (random.random() <= transitionProb):\n",
    "            currSNP = (currSNP + 1) % len(snpList)\n",
    "\n",
    "        simSeq.append(snpList[currSNP])\n",
    "\n",
    "    # write the sequence to file\n",
    "    xfile.writelines(map(lambda x: str(x), simSeq))\n",
    "    xfile.write(\"\\n\")\n",
    "\n",
    "    maskedSeq = np.multiply(np.array(chunkMask), np.array(simSeq))\n",
    "    label = np.sum(maskedSeq)\n",
    "\n",
    "    # write the label (class) to file\n",
    "    yfile.write(str(label))\n",
    "    yfile.write(\"\\n\")\n"
   ]
  }
 ],
 "metadata": {
  "kernelspec": {
   "display_name": "RandomForestScikitPrecVacc",
   "language": "python",
   "name": "python3"
  },
  "language_info": {
   "codemirror_mode": {
    "name": "ipython",
    "version": 3
   },
   "file_extension": ".py",
   "mimetype": "text/x-python",
   "name": "python",
   "nbconvert_exporter": "python",
   "pygments_lexer": "ipython3",
   "version": "3.11.8"
  }
 },
 "nbformat": 4,
 "nbformat_minor": 2
}

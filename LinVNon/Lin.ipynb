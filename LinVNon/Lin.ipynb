{
 "cells": [
  {
   "metadata": {},
   "cell_type": "markdown",
   "source": [
    "## Linear Model\n",
    "\n",
    "Start with packages"
   ],
   "id": "43ad652c8e7ae1c3"
  },
  {
   "metadata": {
    "ExecuteTime": {
     "end_time": "2024-04-14T01:54:32.340301Z",
     "start_time": "2024-04-14T01:54:30.599639Z"
    }
   },
   "cell_type": "code",
   "source": [
    "from math import prod, sqrt\n",
    "import matplotlib.pyplot as plot\n",
    "import numpy as np\n",
    "import random\n",
    "from random import gauss, randint, uniform\n",
    "from sklearn.linear_model import LinearRegression\n",
    "from statistics import mean"
   ],
   "id": "eaf522f4b496db37",
   "outputs": [],
   "execution_count": 1
  },
  {
   "metadata": {},
   "cell_type": "markdown",
   "source": [
    "Set constants.\n",
    "\n",
    "Set *masterSeed* to None to make every run different.  Set it to an integer to repeat to get \n",
    "the sam results over and over.\n",
    "\n",
    "Sigma represents the amount of additive noise in the output."
   ],
   "id": "25cf6e8b76fd48f7"
  },
  {
   "metadata": {
    "ExecuteTime": {
     "end_time": "2024-04-14T01:54:32.348352Z",
     "start_time": "2024-04-14T01:54:32.342295Z"
    }
   },
   "cell_type": "code",
   "source": [
    "nGene = 4\n",
    "nSamp = 100\n",
    "\n",
    "# masterSeed = 851  \n",
    "masterSeed = None\n",
    "\n",
    "sigma = 0.1"
   ],
   "id": "de65cf9928e80a33",
   "outputs": [],
   "execution_count": 2
  },
  {
   "metadata": {},
   "cell_type": "markdown",
   "source": [
    "#### Set up the problem\n",
    "\n",
    "The model assumes that of each gene:\n",
    "1. Contributors something to the final output\n",
    "2. That the contributions are additive.\n",
    "3. That the contributions of each gene are independent of each other.\n",
    "\n",
    "Writing this model as an algebraic shows that this is equivalent to assuming \"the linear model\"."
   ],
   "id": "1f5a38a64b68efa7"
  },
  {
   "metadata": {
    "ExecuteTime": {
     "end_time": "2024-04-14T01:54:32.366254Z",
     "start_time": "2024-04-14T01:54:32.350352Z"
    }
   },
   "cell_type": "code",
   "source": [
    "if masterSeed is not None:\n",
    "\tseed = masterSeed\n",
    "else:\n",
    "\trandom.seed()\n",
    "\tseed = randint(0, 999)\n",
    "\t\n",
    "random.seed(seed)\n",
    "print(f'Seed = {seed}')"
   ],
   "id": "5daaec80f44f43ed",
   "outputs": [
    {
     "name": "stdout",
     "output_type": "stream",
     "text": [
      "Seed = 207\n"
     ]
    }
   ],
   "execution_count": 3
  },
  {
   "metadata": {
    "ExecuteTime": {
     "end_time": "2024-04-14T01:54:32.379405Z",
     "start_time": "2024-04-14T01:54:32.368255Z"
    }
   },
   "cell_type": "code",
   "source": [
    "nGene = 4\n",
    "\n",
    "weightTrue = [uniform(-1,1) for _ in range(nGene)]\n",
    "print(f'weights = {weightTrue}')\n",
    "\n",
    "varName = ['x'+str(i) for i in range(nGene)]"
   ],
   "id": "ea6b80dbfd00c354",
   "outputs": [
    {
     "name": "stdout",
     "output_type": "stream",
     "text": [
      "weights = [0.011953333899681118, 0.3381304235283351, 0.7069638661032367, -0.5564007350486941]\n"
     ]
    }
   ],
   "execution_count": 4
  },
  {
   "metadata": {},
   "cell_type": "markdown",
   "source": "Make a callable function for this model.",
   "id": "fcc4da181a73e628"
  },
  {
   "metadata": {
    "ExecuteTime": {
     "end_time": "2024-04-14T01:54:32.392186Z",
     "start_time": "2024-04-14T01:54:32.384403Z"
    }
   },
   "cell_type": "code",
   "source": [
    "def LinMod(weights, inputs):\n",
    "\tassert(len(weights) == len(inputs))\n",
    "\tresult = sum((weight*input for (weight,input) in zip(weights,inputs)))\n",
    "\treturn result"
   ],
   "id": "d294f3bf1083eb8a",
   "outputs": [],
   "execution_count": 5
  },
  {
   "metadata": {},
   "cell_type": "markdown",
   "source": "Test the *LinMod* function",
   "id": "adee274271c2c6c6"
  },
  {
   "metadata": {
    "ExecuteTime": {
     "end_time": "2024-04-14T01:54:32.411206Z",
     "start_time": "2024-04-14T01:54:32.394187Z"
    }
   },
   "cell_type": "code",
   "source": "LinMod(weightTrue, (1,1,1,1)) - sum(weightTrue)",
   "id": "f2356bc09c387287",
   "outputs": [
    {
     "data": {
      "text/plain": [
       "0.0"
      ]
     },
     "execution_count": 6,
     "metadata": {},
     "output_type": "execute_result"
    }
   ],
   "execution_count": 6
  },
  {
   "metadata": {},
   "cell_type": "markdown",
   "source": [
    "Assume that each gene (or perhaps SNIP) occurs in the population with a fixed proportion, not \n",
    "necessarily 1/2."
   ],
   "id": "6e4f087d9e50b075"
  },
  {
   "metadata": {
    "ExecuteTime": {
     "end_time": "2024-04-14T01:54:32.445501Z",
     "start_time": "2024-04-14T01:54:32.413207Z"
    }
   },
   "cell_type": "code",
   "source": [
    "prev = [uniform(0,1) for _ in range(nGene)]\n",
    "print(f'Prevalence = {prev}')"
   ],
   "id": "dab70983c5e2de25",
   "outputs": [
    {
     "name": "stdout",
     "output_type": "stream",
     "text": [
      "Prevalence = [0.15997528302862918, 0.6737426813866002, 0.34661343807210643, 0.6948884091173562]\n"
     ]
    }
   ],
   "execution_count": 7
  },
  {
   "metadata": {},
   "cell_type": "markdown",
   "source": "Generate samples",
   "id": "e55b96bf55196a87"
  },
  {
   "metadata": {
    "ExecuteTime": {
     "end_time": "2024-04-14T01:54:32.470547Z",
     "start_time": "2024-04-14T01:54:32.446502Z"
    }
   },
   "cell_type": "code",
   "source": [
    "geneSamp = tuple(tuple(uniform(0,1) < p for p in prev) for _ in range(nSamp))\n",
    "print(f'1st sample = {geneSamp[0]}')\n",
    "print(f'2nd sample = {geneSamp[1]}')"
   ],
   "id": "545c8147a235f6b1",
   "outputs": [
    {
     "name": "stdout",
     "output_type": "stream",
     "text": [
      "1st sample = (False, True, False, True)\n",
      "2nd sample = (False, False, True, True)\n"
     ]
    }
   ],
   "execution_count": 8
  },
  {
   "metadata": {
    "ExecuteTime": {
     "end_time": "2024-04-14T01:54:32.508724Z",
     "start_time": "2024-04-14T01:54:32.473544Z"
    }
   },
   "cell_type": "code",
   "source": [
    "geneNum = tuple(tuple(1 if hasGene else 0 for hasGene in samp) for samp in geneSamp)\n",
    "print(f'1st sample = {geneNum[0]}')\n",
    "print(f'2nd sample = {geneNum[1]}')"
   ],
   "id": "22db47be4660dde8",
   "outputs": [
    {
     "name": "stdout",
     "output_type": "stream",
     "text": [
      "1st sample = (0, 1, 0, 1)\n",
      "2nd sample = (0, 0, 1, 1)\n"
     ]
    }
   ],
   "execution_count": 9
  },
  {
   "metadata": {},
   "cell_type": "markdown",
   "source": "Generate synthetic measurements",
   "id": "7334129872d84fbc"
  },
  {
   "metadata": {
    "ExecuteTime": {
     "end_time": "2024-04-14T01:54:32.530974Z",
     "start_time": "2024-04-14T01:54:32.512728Z"
    }
   },
   "cell_type": "code",
   "source": [
    "meas = tuple(LinMod(weightTrue, gn) + gauss(0,sigma) for gn in geneNum)\n",
    "print(f'1st sample = {meas[0]}')\n",
    "print(f'2nd sample = {meas[1]}')"
   ],
   "id": "ffcb6d7f9f7f7dc2",
   "outputs": [
    {
     "name": "stdout",
     "output_type": "stream",
     "text": [
      "1st sample = -0.29429870771412614\n",
      "2nd sample = 0.21315027666164021\n"
     ]
    }
   ],
   "execution_count": 10
  },
  {
   "metadata": {
    "ExecuteTime": {
     "end_time": "2024-04-14T01:54:33.123242Z",
     "start_time": "2024-04-14T01:54:32.532964Z"
    }
   },
   "cell_type": "code",
   "source": [
    "fig, (ax0,ax1) = plot.subplots(1,2, figsize=(9,5))\n",
    "\n",
    "ax0.hist(meas,bins=20)\n",
    "ax0.title.set_text('Histogram of Measurements')\n",
    "\n",
    "x = [(k + 0.5)/(nSamp + 1) for k in range(nSamp)]\n",
    "ax1.plot(x,sorted(meas), 'o', ms=4, c='maroon')\n",
    "ax1.title.set_text('Cumulative Distribution Function')"
   ],
   "id": "e56a1cd9f62fb802",
   "outputs": [
    {
     "data": {
      "text/plain": [
       "<Figure size 900x500 with 2 Axes>"
      ],
      "image/png": "[encoded data removed]"
     },
     "metadata": {},
     "output_type": "display_data"
    }
   ],
   "execution_count": 11
  },
  {
   "metadata": {},
   "cell_type": "markdown",
   "source": "#### Learn Module from (i.e., Fit Model to) the Data",
   "id": "d64b92d230844760"
  },
  {
   "metadata": {
    "ExecuteTime": {
     "end_time": "2024-04-14T01:54:33.131322Z",
     "start_time": "2024-04-14T01:54:33.125243Z"
    }
   },
   "cell_type": "code",
   "source": [
    "x = np.array(geneNum)\n",
    "y = np.array(meas)\n",
    "print(f'x shape = {x.shape}, y shape = {y.shape}')"
   ],
   "id": "75e6f04558250f2b",
   "outputs": [
    {
     "name": "stdout",
     "output_type": "stream",
     "text": [
      "x shape = (100, 4), y shape = (100,)\n"
     ]
    }
   ],
   "execution_count": 12
  },
  {
   "metadata": {
    "ExecuteTime": {
     "end_time": "2024-04-14T01:54:33.145785Z",
     "start_time": "2024-04-14T01:54:33.134294Z"
    }
   },
   "cell_type": "code",
   "source": [
    "reg = LinearRegression()\n",
    "reg.fit(x,y)\n",
    "weightFit = reg.coef_"
   ],
   "id": "1172b32f0a25a67",
   "outputs": [],
   "execution_count": 13
  },
  {
   "metadata": {
    "ExecuteTime": {
     "end_time": "2024-04-14T01:54:33.166572Z",
     "start_time": "2024-04-14T01:54:33.149784Z"
    }
   },
   "cell_type": "code",
   "source": [
    "nCase = 2 ** nGene\n",
    "cases = tuple(tuple((num & (1 << bNum)) >> bNum for bNum in range(nGene)) for num in range(nCase))\n",
    "cases"
   ],
   "id": "708c2a1b04c4d6e7",
   "outputs": [
    {
     "data": {
      "text/plain": [
       "((0, 0, 0, 0),\n",
       " (1, 0, 0, 0),\n",
       " (0, 1, 0, 0),\n",
       " (1, 1, 0, 0),\n",
       " (0, 0, 1, 0),\n",
       " (1, 0, 1, 0),\n",
       " (0, 1, 1, 0),\n",
       " (1, 1, 1, 0),\n",
       " (0, 0, 0, 1),\n",
       " (1, 0, 0, 1),\n",
       " (0, 1, 0, 1),\n",
       " (1, 1, 0, 1),\n",
       " (0, 0, 1, 1),\n",
       " (1, 0, 1, 1),\n",
       " (0, 1, 1, 1),\n",
       " (1, 1, 1, 1))"
      ]
     },
     "execution_count": 14,
     "metadata": {},
     "output_type": "execute_result"
    }
   ],
   "execution_count": 14
  },
  {
   "metadata": {
    "ExecuteTime": {
     "end_time": "2024-04-14T01:54:33.175268Z",
     "start_time": "2024-04-14T01:54:33.168572Z"
    }
   },
   "cell_type": "code",
   "source": "prob = tuple(prod((p if g == 1 else (1 - p) for (p,g) in zip(prev,case))) for case in cases)",
   "id": "435a384d2abb3159",
   "outputs": [],
   "execution_count": 15
  },
  {
   "metadata": {},
   "cell_type": "markdown",
   "source": "Check that the probabilites of the cases add to one",
   "id": "9d30199532374eb6"
  },
  {
   "metadata": {
    "ExecuteTime": {
     "end_time": "2024-04-14T01:54:33.189795Z",
     "start_time": "2024-04-14T01:54:33.177268Z"
    }
   },
   "cell_type": "code",
   "source": "sum(prob)",
   "id": "7f26a32f338999d9",
   "outputs": [
    {
     "data": {
      "text/plain": [
       "1.0"
      ]
     },
     "execution_count": 16,
     "metadata": {},
     "output_type": "execute_result"
    }
   ],
   "execution_count": 16
  },
  {
   "metadata": {
    "ExecuteTime": {
     "end_time": "2024-04-14T01:54:33.201087Z",
     "start_time": "2024-04-14T01:54:33.191796Z"
    }
   },
   "cell_type": "code",
   "source": [
    "noNoiseMeas = tuple(LinMod(weightTrue, case) for case in cases)\n",
    "estMeas = tuple(LinMod(weightFit, case) for case in cases)"
   ],
   "id": "31c1b35e6e845cc6",
   "outputs": [],
   "execution_count": 17
  },
  {
   "metadata": {
    "ExecuteTime": {
     "end_time": "2024-04-14T01:54:33.238745Z",
     "start_time": "2024-04-14T01:54:33.203089Z"
    }
   },
   "cell_type": "code",
   "source": [
    "error = [(nnm - em, p) for (nnm,em,p) in zip(noNoiseMeas, estMeas, prob)]\n",
    "error"
   ],
   "id": "c908e7b9315a0e4",
   "outputs": [
    {
     "data": {
      "text/plain": [
       "[(0.0, 0.054636293844973295),\n",
       " (0.004473407628558914, 0.010404999275494937),\n",
       " (-0.016463600861508332, 0.11282751685873339),\n",
       " (-0.01199019323294942, 0.02148700339195907),\n",
       " (-0.03573127688680844, 0.02898387379937267),\n",
       " (-0.03125786925824947, 0.005519722599399105),\n",
       " (-0.05219487774831677, 0.059853593272798225),\n",
       " (-0.047721470119757914, 0.011398587839913148),\n",
       " (0.022173401338633103, 0.12443357920350177),\n",
       " (0.02664680896719207, 0.023697275388652614),\n",
       " (0.005709800477124771, 0.2569634718491674),\n",
       " (0.010183208105683683, 0.0489364221154111),\n",
       " (-0.013557875548175335, 0.06601046488021174),\n",
       " (-0.009084467919616368, 0.012571109621793619),\n",
       " (-0.030021476409683667, 0.13631592326261235),\n",
       " (-0.02554806878112481, 0.02596016279600559)]"
      ]
     },
     "execution_count": 18,
     "metadata": {},
     "output_type": "execute_result"
    }
   ],
   "execution_count": 18
  },
  {
   "metadata": {},
   "cell_type": "markdown",
   "source": "The probability weighted mean RMS error",
   "id": "e62a81f25a2e5f4c"
  },
  {
   "metadata": {
    "ExecuteTime": {
     "end_time": "2024-04-14T01:54:33.257488Z",
     "start_time": "2024-04-14T01:54:33.240741Z"
    }
   },
   "cell_type": "code",
   "source": [
    "rmsErr = sqrt(mean(er*er*p for (er,p) in error))\n",
    "rmsErr"
   ],
   "id": "ced8209c28dfebb9",
   "outputs": [
    {
     "data": {
      "text/plain": [
       "0.005644286607225818"
      ]
     },
     "execution_count": 19,
     "metadata": {},
     "output_type": "execute_result"
    }
   ],
   "execution_count": 19
  },
  {
   "metadata": {
    "ExecuteTime": {
     "end_time": "2024-04-14T01:54:33.282431Z",
     "start_time": "2024-04-14T01:54:33.259491Z"
    }
   },
   "cell_type": "code",
   "source": "sigma/rmsErr",
   "id": "df52346e6b59aa03",
   "outputs": [
    {
     "data": {
      "text/plain": [
       "17.717030859485405"
      ]
     },
     "execution_count": 20,
     "metadata": {},
     "output_type": "execute_result"
    }
   ],
   "execution_count": 20
  },
  {
   "metadata": {},
   "cell_type": "markdown",
   "source": "Only expected 10x improvement",
   "id": "f4ad00cf40b743f7"
  }
 ],
 "metadata": {
  "kernelspec": {
   "display_name": "Python 3",
   "language": "python",
   "name": "python3"
  },
  "language_info": {
   "codemirror_mode": {
    "name": "ipython",
    "version": 2
   },
   "file_extension": ".py",
   "mimetype": "text/x-python",
   "name": "python",
   "nbconvert_exporter": "python",
   "pygments_lexer": "ipython2",
   "version": "2.7.6"
  }
 },
 "nbformat": 4,
 "nbformat_minor": 5
}

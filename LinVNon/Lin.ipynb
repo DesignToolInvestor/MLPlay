{
 "cells": [
  {
   "metadata": {},
   "cell_type": "markdown",
   "source": [
    "## Linear Model\n",
    "\n",
    "Start with packages"
   ],
   "id": "43ad652c8e7ae1c3"
  },
  {
   "metadata": {
    "ExecuteTime": {
     "end_time": "2024-04-13T23:27:46.246680Z",
     "start_time": "2024-04-13T23:27:42.491096Z"
    }
   },
   "cell_type": "code",
   "source": [
    "import matplotlib.pyplot as plot\n",
    "import numpy as np\n",
    "import random\n",
    "from random import gauss, randint, uniform\n",
    "from scipy import stats\n",
    "from sklearn.decomposition import PCA"
   ],
   "id": "eaf522f4b496db37",
   "outputs": [],
   "execution_count": 115
  },
  {
   "metadata": {},
   "cell_type": "markdown",
   "source": [
    "Set constants.\n",
    "\n",
    "Set *masterSeed* to None to make every run different.  Set it to an integer to repeat to get \n",
    "the sam results over and over.\n",
    "\n",
    "Sigma represents the amount of additive noise in the output."
   ],
   "id": "25cf6e8b76fd48f7"
  },
  {
   "metadata": {
    "ExecuteTime": {
     "end_time": "2024-04-13T23:00:46.730226Z",
     "start_time": "2024-04-13T23:00:46.723238Z"
    }
   },
   "cell_type": "code",
   "source": [
    "nGene = 4\n",
    "nSamp = 100\n",
    "\n",
    "masterSeed = None  \n",
    "\n",
    "sigma = 0.1"
   ],
   "id": "de65cf9928e80a33",
   "outputs": [],
   "execution_count": 107
  },
  {
   "metadata": {},
   "cell_type": "markdown",
   "source": [
    "#### Set up the problem\n",
    "\n",
    "The model assumes that of each gene:\n",
    "1. Contributors something to the final output\n",
    "2. That the contributions are additive.\n",
    "3. That the contributions of each gene are independent of each other.\n",
    "\n",
    "Writing this model as an algebraic shows that this is equivalent to assuming \"the linear model\"."
   ],
   "id": "1f5a38a64b68efa7"
  },
  {
   "metadata": {
    "ExecuteTime": {
     "end_time": "2024-04-13T21:54:04.742827Z",
     "start_time": "2024-04-13T21:54:04.735840Z"
    }
   },
   "cell_type": "code",
   "source": [
    "if masterSeed is not None:\n",
    "\tseed = masterSeed\n",
    "else:\n",
    "\trandom.seed()\n",
    "\tseed = randint(0, 999)\n",
    "\t\n",
    "random.seed(seed)\n",
    "print(f'Seed = {seed}')"
   ],
   "id": "5daaec80f44f43ed",
   "outputs": [
    {
     "name": "stdout",
     "output_type": "stream",
     "text": [
      "Seed = 830\n"
     ]
    }
   ],
   "execution_count": 25
  },
  {
   "metadata": {
    "ExecuteTime": {
     "end_time": "2024-04-13T21:54:05.649736Z",
     "start_time": "2024-04-13T21:54:05.642179Z"
    }
   },
   "cell_type": "code",
   "source": [
    "nGene = 4\n",
    "\n",
    "weight = [uniform(-1,1) for _ in range(nGene)]\n",
    "print(f'weights = {weight}')\n",
    "\n",
    "varName = ['x'+str(i) for i in range(nGene)]"
   ],
   "id": "ea6b80dbfd00c354",
   "outputs": [
    {
     "name": "stdout",
     "output_type": "stream",
     "text": [
      "weights = [-0.7885815994771888, 0.5237690245176625, -0.44925232231825096, 0.6362077562232531]\n"
     ]
    }
   ],
   "execution_count": 26
  },
  {
   "metadata": {},
   "cell_type": "markdown",
   "source": "Make a callable function for this model.",
   "id": "fcc4da181a73e628"
  },
  {
   "metadata": {
    "ExecuteTime": {
     "end_time": "2024-04-13T22:35:53.986627Z",
     "start_time": "2024-04-13T22:35:53.966829Z"
    }
   },
   "cell_type": "code",
   "source": [
    "termStr = [f'{weight[i]}*x{i}' for i in range(nGene)]\n",
    "funcStr = f'sum(({','.join(f'{weight[i]}*x{i}' for i in range(nGene))}))'\n",
    "print(f'funcStr = {funcStr}')\n",
    "\n",
    "linModFunc = lambda x0,x1,x2,x3: eval(funcStr)\n",
    "print(f'Sum of weights check:  {linModFunc(1,1,1,1)} = {sum(weight)}')"
   ],
   "id": "62a0e930dfd71f17",
   "outputs": [
    {
     "name": "stdout",
     "output_type": "stream",
     "text": [
      "funcStr = sum((-0.7885815994771888*x0,0.5237690245176625*x1,-0.44925232231825096*x2,0.6362077562232531*x3))\n",
      "Sum of weights check:  -0.07785714105452413 = -0.07785714105452413\n"
     ]
    }
   ],
   "execution_count": 84
  },
  {
   "metadata": {},
   "cell_type": "markdown",
   "source": [
    "Assume that each gene (or perhaps SNIP) occurs in the population with a fixed proportion, not \n",
    "necessarily 1/2."
   ],
   "id": "6e4f087d9e50b075"
  },
  {
   "metadata": {
    "ExecuteTime": {
     "end_time": "2024-04-13T21:57:55.577873Z",
     "start_time": "2024-04-13T21:57:55.570935Z"
    }
   },
   "cell_type": "code",
   "source": [
    "prev = [uniform(0,1) for _ in range(nGene)]\n",
    "print(f'Prevalence = {prev}')"
   ],
   "id": "dab70983c5e2de25",
   "outputs": [
    {
     "name": "stdout",
     "output_type": "stream",
     "text": [
      "Gene prevalence = [0.27060841353522047, 0.8409336853401432, 0.7260718346937711, 0.6393870983862727]\n"
     ]
    }
   ],
   "execution_count": 27
  },
  {
   "metadata": {},
   "cell_type": "markdown",
   "source": "Generate samples",
   "id": "e55b96bf55196a87"
  },
  {
   "metadata": {
    "ExecuteTime": {
     "end_time": "2024-04-13T22:37:41.906321Z",
     "start_time": "2024-04-13T22:37:41.886868Z"
    }
   },
   "cell_type": "code",
   "source": [
    "geneSamp = tuple(tuple(uniform(0,1) < p for p in prev) for _ in range(nSamp))\n",
    "print(f'1st sample = {geneSamp[0]}')\n",
    "print(f'2nd sample = {geneSamp[1]}')"
   ],
   "id": "545c8147a235f6b1",
   "outputs": [
    {
     "name": "stdout",
     "output_type": "stream",
     "text": [
      "1st sample = (False, True, False, True)\n",
      "2nd sample = (False, True, False, True)\n"
     ]
    }
   ],
   "execution_count": 86
  },
  {
   "metadata": {
    "ExecuteTime": {
     "end_time": "2024-04-13T22:12:34.947604Z",
     "start_time": "2024-04-13T22:12:34.931476Z"
    }
   },
   "cell_type": "code",
   "source": [
    "geneNum = tuple(tuple(1 if hasGene else 0 for hasGene in samp) for samp in geneSamp)\n",
    "print(f'1st sample = {geneNum[0]}')\n",
    "print(f'2nd sample = {geneNum[1]}')"
   ],
   "id": "22db47be4660dde8",
   "outputs": [
    {
     "name": "stdout",
     "output_type": "stream",
     "text": [
      "1st sample = (1, 1, 0, 0)\n",
      "2nd sample = (0, 1, 0, 1)\n"
     ]
    }
   ],
   "execution_count": 43
  },
  {
   "metadata": {},
   "cell_type": "markdown",
   "source": "Generate synthetic measurements",
   "id": "7334129872d84fbc"
  },
  {
   "metadata": {
    "ExecuteTime": {
     "end_time": "2024-04-13T23:00:54.619117Z",
     "start_time": "2024-04-13T23:00:54.592201Z"
    }
   },
   "cell_type": "code",
   "source": [
    "meas = tuple(linModFunc(*gn) + gauss(0,sigma) for gn in geneNum)\n",
    "print(f'1st sample = {meas[0]}')\n",
    "print(f'2nd sample = {meas[1]}')"
   ],
   "id": "ffcb6d7f9f7f7dc2",
   "outputs": [
    {
     "name": "stdout",
     "output_type": "stream",
     "text": [
      "1st sample = -0.17251718232955673\n",
      "2nd sample = 0.9940777932225174\n"
     ]
    }
   ],
   "execution_count": 108
  },
  {
   "metadata": {
    "ExecuteTime": {
     "end_time": "2024-04-13T23:38:31.834065Z",
     "start_time": "2024-04-13T23:38:30.631065Z"
    }
   },
   "cell_type": "code",
   "source": [
    "fig, (ax0,ax1) = plot.subplots(1,2, figsize=(9,5))\n",
    "\n",
    "ax0.hist(meas,bins=20)\n",
    "ax0.title.set_text('Histogram of Measurements')\n",
    "\n",
    "x = [(k + 0.5)/(nSamp + 1) for k in range(nSamp)]\n",
    "ax1.plot(x,sorted(meas), 'o', ms=4, c='maroon')\n",
    "ax1.title.set_text('Cumulative Distribution Function')"
   ],
   "id": "e56a1cd9f62fb802",
   "outputs": [
    {
     "data": {
      "text/plain": [
       "<Figure size 900x500 with 2 Axes>"
      ],
      "image/png": "[encoded data removed]"
     },
     "metadata": {},
     "output_type": "display_data"
    }
   ],
   "execution_count": 133
  },
  {
   "metadata": {},
   "cell_type": "markdown",
   "source": "#### Learn Module from (i.e., Fit Model to) the Data",
   "id": "d64b92d230844760"
  },
  {
   "metadata": {
    "ExecuteTime": {
     "end_time": "2024-04-13T23:40:26.584989Z",
     "start_time": "2024-04-13T23:40:26.578546Z"
    }
   },
   "cell_type": "code",
   "source": [
    "x = np.array(geneNum)\n",
    "y = np.array(meas)\n",
    "print(f'x shape = {x.shape}, y shape = {y.shape}')"
   ],
   "id": "75e6f04558250f2b",
   "outputs": [
    {
     "name": "stdout",
     "output_type": "stream",
     "text": [
      "x shape = (100, 4), y shape = (100,)\n"
     ]
    }
   ],
   "execution_count": 138
  },
  {
   "metadata": {
    "ExecuteTime": {
     "end_time": "2024-04-13T23:40:44.949106Z",
     "start_time": "2024-04-13T23:40:44.908400Z"
    }
   },
   "cell_type": "code",
   "source": [
    "pca = PCA()\n",
    "pca.fit(x,y)\n",
    "\n",
    "print(pca.explained_variance_ratio_)\n",
    "print(pca.singular_values_)"
   ],
   "id": "1172b32f0a25a67",
   "outputs": [
    {
     "name": "stdout",
     "output_type": "stream",
     "text": [
      "[0.34636652 0.2770628  0.197937   0.17863368]\n",
      "[5.0201223  4.48988743 3.79498302 3.60518888]\n"
     ]
    }
   ],
   "execution_count": 139
  }
 ],
 "metadata": {
  "kernelspec": {
   "display_name": "Python 3",
   "language": "python",
   "name": "python3"
  },
  "language_info": {
   "codemirror_mode": {
    "name": "ipython",
    "version": 2
   },
   "file_extension": ".py",
   "mimetype": "text/x-python",
   "name": "python",
   "nbconvert_exporter": "python",
   "pygments_lexer": "ipython2",
   "version": "2.7.6"
  }
 },
 "nbformat": 4,
 "nbformat_minor": 5
}

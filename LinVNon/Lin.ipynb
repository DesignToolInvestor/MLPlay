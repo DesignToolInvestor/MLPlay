{
 "cells": [
  {
   "cell_type": "markdown",
   "id": "43ad652c8e7ae1c3",
   "metadata": {},
   "source": [
    "## Linear Model\n",
    "\n",
    "Start with packages"
   ]
  },
  {
   "cell_type": "code",
   "execution_count": 321,
   "id": "eaf522f4b496db37",
   "metadata": {
    "ExecuteTime": {
     "end_time": "2024-04-14T12:57:34.339488Z",
     "start_time": "2024-04-14T12:57:34.334112Z"
    }
   },
   "outputs": [],
   "source": [
    "from math import prod, sqrt\n",
    "import matplotlib.pyplot as plot\n",
    "import numpy as np\n",
    "import random\n",
    "from random import gauss, randint, uniform\n",
    "from sklearn.linear_model import LinearRegression\n",
    "from statistics import mean"
   ]
  },
  {
   "cell_type": "markdown",
   "id": "25cf6e8b76fd48f7",
   "metadata": {},
   "source": [
    "Set constants.\n",
    "\n",
    "Set *masterSeed* to None to make every run different.  Set it to an integer to repeat to get \n",
    "the sam results over and over.\n",
    "\n",
    "Sigma represents the amount of additive noise in the output."
   ]
  },
  {
   "cell_type": "code",
   "execution_count": 322,
   "id": "de65cf9928e80a33",
   "metadata": {
    "ExecuteTime": {
     "end_time": "2024-04-14T12:57:34.585240Z",
     "start_time": "2024-04-14T12:57:34.580247Z"
    }
   },
   "outputs": [],
   "source": [
    "nGene = 4\n",
    "nSamp = 100\n",
    "\n",
    "masterSeed = None\n",
    "masterSeed = 150\n",
    "\n",
    "sigma = 0.1"
   ]
  },
  {
   "cell_type": "markdown",
   "id": "1f5a38a64b68efa7",
   "metadata": {},
   "source": [
    "#### Set up the problem\n",
    "\n",
    "The model assumes that of each gene:\n",
    "1. Contributors something to the final output\n",
    "2. That the contributions are additive.\n",
    "3. That the contributions of each gene are independent of each other.\n",
    "\n",
    "Writing this model as an algebraic shows that this is equivalent to assuming \"the linear model\"."
   ]
  },
  {
   "cell_type": "code",
   "execution_count": 323,
   "id": "5daaec80f44f43ed",
   "metadata": {
    "ExecuteTime": {
     "end_time": "2024-04-14T12:57:34.619539Z",
     "start_time": "2024-04-14T12:57:34.609219Z"
    }
   },
   "outputs": [
    {
     "name": "stdout",
     "output_type": "stream",
     "text": [
      "Seed = 150\n"
     ]
    }
   ],
   "source": [
    "if masterSeed is not None:\n",
    "\tseed = masterSeed\n",
    "else:\n",
    "\trandom.seed()\n",
    "\tseed = randint(0, 999)\n",
    "\t\n",
    "random.seed(seed)\n",
    "print(f'Seed = {seed}')"
   ]
  },
  {
   "cell_type": "code",
   "execution_count": 324,
   "id": "ea6b80dbfd00c354",
   "metadata": {
    "ExecuteTime": {
     "end_time": "2024-04-14T12:57:34.712731Z",
     "start_time": "2024-04-14T12:57:34.704446Z"
    }
   },
   "outputs": [
    {
     "name": "stdout",
     "output_type": "stream",
     "text": [
      "weights = [0.6476144839281761, 0.7904183178983359, -0.6242631788932305, -0.3922820566266936]\n"
     ]
    }
   ],
   "source": [
    "nGene = 4\n",
    "\n",
    "weightTrue = [uniform(-1,1) for _ in range(nGene)]\n",
    "print(f'weights = {weightTrue}')\n",
    "\n",
    "varName = ['x'+str(i) for i in range(nGene)]"
   ]
  },
  {
   "cell_type": "markdown",
   "id": "fcc4da181a73e628",
   "metadata": {},
   "source": [
    "Make a callable function for this model."
   ]
  },
  {
   "cell_type": "code",
   "execution_count": 325,
   "id": "d294f3bf1083eb8a",
   "metadata": {
    "ExecuteTime": {
     "end_time": "2024-04-14T12:57:34.758141Z",
     "start_time": "2024-04-14T12:57:34.752694Z"
    }
   },
   "outputs": [],
   "source": [
    "def LinMod(weights, inputs):\n",
    "\tassert(len(weights) == len(inputs))\n",
    "\tresult = sum((weight*input for (weight,input) in zip(weights,inputs)))\n",
    "\treturn result"
   ]
  },
  {
   "cell_type": "markdown",
   "id": "adee274271c2c6c6",
   "metadata": {},
   "source": [
    "Test the *LinMod* function"
   ]
  },
  {
   "cell_type": "code",
   "execution_count": 326,
   "id": "f2356bc09c387287",
   "metadata": {
    "ExecuteTime": {
     "end_time": "2024-04-14T12:57:34.811386Z",
     "start_time": "2024-04-14T12:57:34.804098Z"
    }
   },
   "outputs": [
    {
     "data": {
      "text/plain": [
       "0.0"
      ]
     },
     "execution_count": 326,
     "metadata": {},
     "output_type": "execute_result"
    }
   ],
   "source": [
    "LinMod(weightTrue, (1,1,1,1)) - sum(weightTrue)"
   ]
  },
  {
   "cell_type": "markdown",
   "id": "6e4f087d9e50b075",
   "metadata": {},
   "source": [
    "Assume that each gene (or perhaps SNP) occurs in the population with a fixed proportion, not \n",
    "necessarily 1/2."
   ]
  },
  {
   "cell_type": "code",
   "execution_count": 327,
   "id": "dab70983c5e2de25",
   "metadata": {
    "ExecuteTime": {
     "end_time": "2024-04-14T12:57:34.867925Z",
     "start_time": "2024-04-14T12:57:34.862334Z"
    }
   },
   "outputs": [
    {
     "name": "stdout",
     "output_type": "stream",
     "text": [
      "Prevalence = [0.4782984565594395, 0.1629042284197154, 0.09176496297891834, 0.744110280968943]\n"
     ]
    }
   ],
   "source": [
    "prev = [uniform(0,1) for _ in range(nGene)]\n",
    "print(f'Prevalence = {prev}')"
   ]
  },
  {
   "cell_type": "markdown",
   "id": "e55b96bf55196a87",
   "metadata": {},
   "source": [
    "Generate samples"
   ]
  },
  {
   "cell_type": "code",
   "execution_count": 328,
   "id": "545c8147a235f6b1",
   "metadata": {
    "ExecuteTime": {
     "end_time": "2024-04-14T12:57:34.948773Z",
     "start_time": "2024-04-14T12:57:34.940857Z"
    }
   },
   "outputs": [
    {
     "name": "stdout",
     "output_type": "stream",
     "text": [
      "1st sample = (True, False, False, True)\n",
      "2nd sample = (False, True, False, True)\n"
     ]
    }
   ],
   "source": [
    "geneSamp = tuple(tuple(uniform(0,1) < p for p in prev) for _ in range(nSamp))\n",
    "print(f'1st sample = {geneSamp[0]}')\n",
    "print(f'2nd sample = {geneSamp[1]}')"
   ]
  },
  {
   "cell_type": "code",
   "execution_count": 329,
   "id": "22db47be4660dde8",
   "metadata": {
    "ExecuteTime": {
     "end_time": "2024-04-14T12:57:34.980226Z",
     "start_time": "2024-04-14T12:57:34.972754Z"
    }
   },
   "outputs": [
    {
     "name": "stdout",
     "output_type": "stream",
     "text": [
      "1st sample = (1, 0, 0, 1)\n",
      "2nd sample = (0, 1, 0, 1)\n"
     ]
    }
   ],
   "source": [
    "geneNum = tuple(tuple(1 if hasGene else 0 for hasGene in samp) for samp in geneSamp)\n",
    "print(f'1st sample = {geneNum[0]}')\n",
    "print(f'2nd sample = {geneNum[1]}')"
   ]
  },
  {
   "cell_type": "markdown",
   "id": "7334129872d84fbc",
   "metadata": {},
   "source": [
    "Generate synthetic measurements"
   ]
  },
  {
   "cell_type": "code",
   "execution_count": 330,
   "id": "ffcb6d7f9f7f7dc2",
   "metadata": {
    "ExecuteTime": {
     "end_time": "2024-04-14T12:57:35.027046Z",
     "start_time": "2024-04-14T12:57:35.020188Z"
    }
   },
   "outputs": [
    {
     "name": "stdout",
     "output_type": "stream",
     "text": [
      "1st sample = 0.3621369214826788\n",
      "2nd sample = 0.5339270097930593\n"
     ]
    }
   ],
   "source": [
    "meas = tuple(LinMod(weightTrue, gn) + gauss(0,sigma) for gn in geneNum)\n",
    "print(f'1st sample = {meas[0]}')\n",
    "print(f'2nd sample = {meas[1]}')"
   ]
  },
  {
   "cell_type": "code",
   "execution_count": 331,
   "id": "e56a1cd9f62fb802",
   "metadata": {
    "ExecuteTime": {
     "end_time": "2024-04-14T12:57:35.707984Z",
     "start_time": "2024-04-14T12:57:35.082986Z"
    }
   },
   "outputs": [
    {
     "data": {
      "image/png": "[encoded data removed]",
      "text/plain": [
       "<Figure size 900x500 with 2 Axes>"
      ]
     },
     "metadata": {},
     "output_type": "display_data"
    }
   ],
   "source": [
    "fig, (ax0,ax1) = plot.subplots(1,2, figsize=(9,5))\n",
    "\n",
    "ax0.hist(meas,bins=20)\n",
    "ax0.title.set_text('Histogram of Measurements')\n",
    "\n",
    "x = [(k + 0.5)/(nSamp + 1) for k in range(nSamp)]\n",
    "ax1.plot(x,sorted(meas), 'o', ms=4, c='maroon')\n",
    "ax1.title.set_text('Cumulative Distribution Function')"
   ]
  },
  {
   "cell_type": "markdown",
   "id": "d64b92d230844760",
   "metadata": {},
   "source": [
    "#### Learn Module from (i.e., Fit Model to) the Data"
   ]
  },
  {
   "cell_type": "code",
   "execution_count": 332,
   "id": "75e6f04558250f2b",
   "metadata": {
    "ExecuteTime": {
     "end_time": "2024-04-14T12:57:35.719347Z",
     "start_time": "2024-04-14T12:57:35.712982Z"
    }
   },
   "outputs": [
    {
     "name": "stdout",
     "output_type": "stream",
     "text": [
      "x shape = (100, 4), y shape = (100,)\n"
     ]
    }
   ],
   "source": [
    "x = np.array(geneNum)\n",
    "y = np.array(meas)\n",
    "print(f'x shape = {x.shape}, y shape = {y.shape}')"
   ]
  },
  {
   "cell_type": "code",
   "execution_count": 333,
   "id": "1172b32f0a25a67",
   "metadata": {
    "ExecuteTime": {
     "end_time": "2024-04-14T12:57:35.737923Z",
     "start_time": "2024-04-14T12:57:35.722348Z"
    }
   },
   "outputs": [],
   "source": [
    "reg = LinearRegression()\n",
    "reg.fit(x,y)\n",
    "weightFit = reg.coef_\n",
    "weightFit"
   ]
  },
  {
   "cell_type": "code",
   "execution_count": 334,
   "id": "708c2a1b04c4d6e7",
   "metadata": {
    "ExecuteTime": {
     "end_time": "2024-04-14T12:57:35.783311Z",
     "start_time": "2024-04-14T12:57:35.762901Z"
    }
   },
   "outputs": [
    {
     "data": {
      "text/plain": [
       "((0, 0, 0, 0),\n",
       " (1, 0, 0, 0),\n",
       " (0, 1, 0, 0),\n",
       " (1, 1, 0, 0),\n",
       " (0, 0, 1, 0),\n",
       " (1, 0, 1, 0),\n",
       " (0, 1, 1, 0),\n",
       " (1, 1, 1, 0),\n",
       " (0, 0, 0, 1),\n",
       " (1, 0, 0, 1),\n",
       " (0, 1, 0, 1),\n",
       " (1, 1, 0, 1),\n",
       " (0, 0, 1, 1),\n",
       " (1, 0, 1, 1),\n",
       " (0, 1, 1, 1),\n",
       " (1, 1, 1, 1))"
      ]
     },
     "execution_count": 334,
     "metadata": {},
     "output_type": "execute_result"
    }
   ],
   "source": [
    "nCase = 2 ** nGene\n",
    "cases = tuple(tuple((num & (1 << bNum)) >> bNum for bNum in range(nGene)) for num in range(nCase))\n",
    "cases"
   ]
  },
  {
   "cell_type": "code",
   "execution_count": 335,
   "id": "435a384d2abb3159",
   "metadata": {
    "ExecuteTime": {
     "end_time": "2024-04-14T12:57:35.805029Z",
     "start_time": "2024-04-14T12:57:35.786310Z"
    }
   },
   "outputs": [
    {
     "data": {
      "text/plain": [
       "(0.1014958672619467,\n",
       " 0.09305189388246808,\n",
       " 0.019751749447836656,\n",
       " 0.018108497845234744,\n",
       " 0.010254795424270295,\n",
       " 0.00940164522307976,\n",
       " 0.0019956492350201305,\n",
       " 0.0018296207112005714,\n",
       " 0.2951432304175826,\n",
       " 0.27058871752941327,\n",
       " 0.05743677349332697,\n",
       " 0.052658307143272604,\n",
       " 0.029820262937201764,\n",
       " 0.02733935890432208,\n",
       " 0.005803215223375407,\n",
       " 0.005320415320448333)"
      ]
     },
     "execution_count": 335,
     "metadata": {},
     "output_type": "execute_result"
    }
   ],
   "source": [
    "prob = tuple(prod((p if g == 1 else (1 - p) for (p,g) in zip(prev,case))) for case in cases)\n",
    "prob"
   ]
  },
  {
   "cell_type": "markdown",
   "id": "9d30199532374eb6",
   "metadata": {},
   "source": [
    "Check that the probabilites of the cases add to one"
   ]
  },
  {
   "cell_type": "code",
   "execution_count": 336,
   "id": "7f26a32f338999d9",
   "metadata": {
    "ExecuteTime": {
     "end_time": "2024-04-14T12:57:35.835329Z",
     "start_time": "2024-04-14T12:57:35.807029Z"
    }
   },
   "outputs": [
    {
     "data": {
      "text/plain": [
       "0.9999999999999999"
      ]
     },
     "execution_count": 336,
     "metadata": {},
     "output_type": "execute_result"
    }
   ],
   "source": [
    "sum(prob)"
   ]
  },
  {
   "cell_type": "code",
   "execution_count": 337,
   "id": "31c1b35e6e845cc6",
   "metadata": {
    "ExecuteTime": {
     "end_time": "2024-04-14T12:57:35.857969Z",
     "start_time": "2024-04-14T12:57:35.838324Z"
    }
   },
   "outputs": [],
   "source": [
    "noNoiseMeas = tuple(LinMod(weightTrue, case) for case in cases)\n",
    "estMeas = tuple(LinMod(weightFit, case) for case in cases)"
   ]
  },
  {
   "cell_type": "code",
   "execution_count": 338,
   "id": "c908e7b9315a0e4",
   "metadata": {
    "ExecuteTime": {
     "end_time": "2024-04-14T12:57:35.891753Z",
     "start_time": "2024-04-14T12:57:35.861969Z"
    }
   },
   "outputs": [
    {
     "data": {
      "text/plain": [
       "[(0.0, 0.1014958672619467),\n",
       " (-0.0296635562420281, 0.09305189388246808),\n",
       " (-0.0446440395633626, 0.019751749447836656),\n",
       " (-0.0743075958053907, 0.018108497845234744),\n",
       " (0.04804335915905611, 0.010254795424270295),\n",
       " (0.01837980291702801, 0.00940164522307976),\n",
       " (0.0033993195956935063, 0.0019956492350201305),\n",
       " (-0.026264236646334593, 0.0018296207112005714),\n",
       " (0.01880650821565022, 0.2951432304175826),\n",
       " (-0.01085704802637788, 0.27058871752941327),\n",
       " (-0.025837531347712384, 0.05743677349332697),\n",
       " (-0.055501087589740594, 0.052658307143272604),\n",
       " (0.06684986737470644, 0.029820262937201764),\n",
       " (0.03718631113267823, 0.02733935890432208),\n",
       " (0.022205827811343726, 0.005803215223375407),\n",
       " (-0.007457728430684374, 0.005320415320448333)]"
      ]
     },
     "execution_count": 338,
     "metadata": {},
     "output_type": "execute_result"
    }
   ],
   "source": [
    "error = [(nnm - em, p) for (nnm,em,p) in zip(noNoiseMeas, estMeas, prob)]\n",
    "error"
   ]
  },
  {
   "cell_type": "markdown",
   "id": "e62a81f25a2e5f4c",
   "metadata": {},
   "source": [
    "The probability weighted mean RMS error"
   ]
  },
  {
   "cell_type": "code",
   "execution_count": 339,
   "id": "ced8209c28dfebb9",
   "metadata": {
    "ExecuteTime": {
     "end_time": "2024-04-14T12:57:35.918084Z",
     "start_time": "2024-04-14T12:57:35.895756Z"
    }
   },
   "outputs": [
    {
     "data": {
      "text/plain": [
       "0.006893955384692816"
      ]
     },
     "execution_count": 339,
     "metadata": {},
     "output_type": "execute_result"
    }
   ],
   "source": [
    "rmsErr = sqrt(mean(er*er*p for (er,p) in error))\n",
    "rmsErr"
   ]
  },
  {
   "cell_type": "code",
   "execution_count": 340,
   "id": "df52346e6b59aa03",
   "metadata": {
    "ExecuteTime": {
     "end_time": "2024-04-14T12:57:35.947116Z",
     "start_time": "2024-04-14T12:57:35.922084Z"
    }
   },
   "outputs": [
    {
     "data": {
      "text/plain": [
       "14.50546085952888"
      ]
     },
     "execution_count": 340,
     "metadata": {},
     "output_type": "execute_result"
    }
   ],
   "source": [
    "sigma/rmsErr"
   ]
  },
  {
   "cell_type": "markdown",
   "id": "f4ad00cf40b743f7",
   "metadata": {},
   "source": [
    "So if the noise is measurement nose (rather than model missmatch), then measuring the gene and \n",
    "using them to predict the quantity of interest is dramatically better than making a \n",
    "noisy direct measurement of the quantity.\n",
    "\n",
    "In the real world this phenomena occurs, but in the real world there is also model miss-match.  \n",
    "If the models are simple model-mismatch will be large.  But in the real world nothing is measured\n",
    "directly, at the instrumentation level.  The quantity of interest is inferred from physical\n",
    "measurements using some model (usually involving a calibration process) \n",
    "\n",
    "For this example, where there is zero model-mismatch, the expected reduction in rmsError (below \n",
    "sigma) is the square root of number of subjects times the number of genes.  Which is the average \n",
    "across a large selection of seeds."
   ]
  },
  {
   "cell_type": "code",
   "execution_count": 341,
   "id": "2339d791ae001595",
   "metadata": {
    "ExecuteTime": {
     "end_time": "2024-04-14T12:57:35.976483Z",
     "start_time": "2024-04-14T12:57:35.952115Z"
    }
   },
   "outputs": [
    {
     "data": {
      "text/plain": [
       "20.0"
      ]
     },
     "execution_count": 341,
     "metadata": {},
     "output_type": "execute_result"
    }
   ],
   "source": [
    "sqrt(nGene * nSamp)"
   ]
  }
 ],
 "metadata": {
  "kernelspec": {
   "display_name": "Python 3",
   "language": "python",
   "name": "python3"
  },
  "language_info": {
   "codemirror_mode": {
    "name": "ipython",
    "version": 3
   },
   "file_extension": ".py",
   "mimetype": "text/x-python",
   "name": "python",
   "nbconvert_exporter": "python",
   "pygments_lexer": "ipython3",
   "version": "3.11.5"
  }
 },
 "nbformat": 4,
 "nbformat_minor": 5
}

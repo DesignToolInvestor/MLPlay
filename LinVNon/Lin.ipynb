{
 "cells": [
  {
   "metadata": {},
   "cell_type": "markdown",
   "source": [
    "## Linear Model\n",
    "\n",
    "Start with packages"
   ],
   "id": "43ad652c8e7ae1c3"
  },
  {
   "metadata": {
    "ExecuteTime": {
     "end_time": "2024-04-14T12:57:34.339488Z",
     "start_time": "2024-04-14T12:57:34.334112Z"
    }
   },
   "cell_type": "code",
   "source": [
    "from math import prod, sqrt\n",
    "import matplotlib.pyplot as plot\n",
    "import numpy as np\n",
    "import random\n",
    "from random import gauss, randint, uniform\n",
    "from sklearn.linear_model import LinearRegression\n",
    "from statistics import mean"
   ],
   "id": "eaf522f4b496db37",
   "outputs": [],
   "execution_count": 23
  },
  {
   "metadata": {},
   "cell_type": "markdown",
   "source": [
    "Set constants.\n",
    "\n",
    "Set *masterSeed* to None to make every run different.  Set it to an integer to repeat to get \n",
    "the sam results over and over.\n",
    "\n",
    "Sigma represents the amount of additive noise in the output."
   ],
   "id": "25cf6e8b76fd48f7"
  },
  {
   "metadata": {
    "ExecuteTime": {
     "end_time": "2024-04-14T12:57:34.585240Z",
     "start_time": "2024-04-14T12:57:34.580247Z"
    }
   },
   "cell_type": "code",
   "source": [
    "nGene = 4\n",
    "nSamp = 100\n",
    "\n",
    "# masterSeed = 851  \n",
    "masterSeed = None\n",
    "\n",
    "sigma = 0.1"
   ],
   "id": "de65cf9928e80a33",
   "outputs": [],
   "execution_count": 24
  },
  {
   "metadata": {},
   "cell_type": "markdown",
   "source": [
    "#### Set up the problem\n",
    "\n",
    "The model assumes that of each gene:\n",
    "1. Contributors something to the final output\n",
    "2. That the contributions are additive.\n",
    "3. That the contributions of each gene are independent of each other.\n",
    "\n",
    "Writing this model as an algebraic shows that this is equivalent to assuming \"the linear model\"."
   ],
   "id": "1f5a38a64b68efa7"
  },
  {
   "metadata": {
    "ExecuteTime": {
     "end_time": "2024-04-14T12:57:34.619539Z",
     "start_time": "2024-04-14T12:57:34.609219Z"
    }
   },
   "cell_type": "code",
   "source": [
    "if masterSeed is not None:\n",
    "\tseed = masterSeed\n",
    "else:\n",
    "\trandom.seed()\n",
    "\tseed = randint(0, 999)\n",
    "\t\n",
    "random.seed(seed)\n",
    "print(f'Seed = {seed}')"
   ],
   "id": "5daaec80f44f43ed",
   "outputs": [
    {
     "name": "stdout",
     "output_type": "stream",
     "text": [
      "Seed = 847\n"
     ]
    }
   ],
   "execution_count": 25
  },
  {
   "metadata": {
    "ExecuteTime": {
     "end_time": "2024-04-14T12:57:34.712731Z",
     "start_time": "2024-04-14T12:57:34.704446Z"
    }
   },
   "cell_type": "code",
   "source": [
    "nGene = 4\n",
    "\n",
    "weightTrue = [uniform(-1,1) for _ in range(nGene)]\n",
    "print(f'weights = {weightTrue}')\n",
    "\n",
    "varName = ['x'+str(i) for i in range(nGene)]"
   ],
   "id": "ea6b80dbfd00c354",
   "outputs": [
    {
     "name": "stdout",
     "output_type": "stream",
     "text": [
      "weights = [-0.2209163905248741, 0.6972440987482829, -0.6357579000444693, 0.6897086617403303]\n"
     ]
    }
   ],
   "execution_count": 26
  },
  {
   "metadata": {},
   "cell_type": "markdown",
   "source": "Make a callable function for this model.",
   "id": "fcc4da181a73e628"
  },
  {
   "metadata": {
    "ExecuteTime": {
     "end_time": "2024-04-14T12:57:34.758141Z",
     "start_time": "2024-04-14T12:57:34.752694Z"
    }
   },
   "cell_type": "code",
   "source": [
    "def LinMod(weights, inputs):\n",
    "\tassert(len(weights) == len(inputs))\n",
    "\tresult = sum((weight*input for (weight,input) in zip(weights,inputs)))\n",
    "\treturn result"
   ],
   "id": "d294f3bf1083eb8a",
   "outputs": [],
   "execution_count": 27
  },
  {
   "metadata": {},
   "cell_type": "markdown",
   "source": "Test the *LinMod* function",
   "id": "adee274271c2c6c6"
  },
  {
   "metadata": {
    "ExecuteTime": {
     "end_time": "2024-04-14T12:57:34.811386Z",
     "start_time": "2024-04-14T12:57:34.804098Z"
    }
   },
   "cell_type": "code",
   "source": "LinMod(weightTrue, (1,1,1,1)) - sum(weightTrue)",
   "id": "f2356bc09c387287",
   "outputs": [
    {
     "data": {
      "text/plain": [
       "0.0"
      ]
     },
     "execution_count": 28,
     "metadata": {},
     "output_type": "execute_result"
    }
   ],
   "execution_count": 28
  },
  {
   "metadata": {},
   "cell_type": "markdown",
   "source": [
    "Assume that each gene (or perhaps SNIP) occurs in the population with a fixed proportion, not \n",
    "necessarily 1/2."
   ],
   "id": "6e4f087d9e50b075"
  },
  {
   "metadata": {
    "ExecuteTime": {
     "end_time": "2024-04-14T12:57:34.867925Z",
     "start_time": "2024-04-14T12:57:34.862334Z"
    }
   },
   "cell_type": "code",
   "source": [
    "prev = [uniform(0,1) for _ in range(nGene)]\n",
    "print(f'Prevalence = {prev}')"
   ],
   "id": "dab70983c5e2de25",
   "outputs": [
    {
     "name": "stdout",
     "output_type": "stream",
     "text": [
      "Prevalence = [0.5728090032482466, 0.3060775481014094, 0.9782686008047405, 0.876029894476704]\n"
     ]
    }
   ],
   "execution_count": 29
  },
  {
   "metadata": {},
   "cell_type": "markdown",
   "source": "Generate samples",
   "id": "e55b96bf55196a87"
  },
  {
   "metadata": {
    "ExecuteTime": {
     "end_time": "2024-04-14T12:57:34.948773Z",
     "start_time": "2024-04-14T12:57:34.940857Z"
    }
   },
   "cell_type": "code",
   "source": [
    "geneSamp = tuple(tuple(uniform(0,1) < p for p in prev) for _ in range(nSamp))\n",
    "print(f'1st sample = {geneSamp[0]}')\n",
    "print(f'2nd sample = {geneSamp[1]}')"
   ],
   "id": "545c8147a235f6b1",
   "outputs": [
    {
     "name": "stdout",
     "output_type": "stream",
     "text": [
      "1st sample = (False, False, True, False)\n",
      "2nd sample = (True, False, True, True)\n"
     ]
    }
   ],
   "execution_count": 30
  },
  {
   "metadata": {
    "ExecuteTime": {
     "end_time": "2024-04-14T12:57:34.980226Z",
     "start_time": "2024-04-14T12:57:34.972754Z"
    }
   },
   "cell_type": "code",
   "source": [
    "geneNum = tuple(tuple(1 if hasGene else 0 for hasGene in samp) for samp in geneSamp)\n",
    "print(f'1st sample = {geneNum[0]}')\n",
    "print(f'2nd sample = {geneNum[1]}')"
   ],
   "id": "22db47be4660dde8",
   "outputs": [
    {
     "name": "stdout",
     "output_type": "stream",
     "text": [
      "1st sample = (0, 0, 1, 0)\n",
      "2nd sample = (1, 0, 1, 1)\n"
     ]
    }
   ],
   "execution_count": 31
  },
  {
   "metadata": {},
   "cell_type": "markdown",
   "source": "Generate synthetic measurements",
   "id": "7334129872d84fbc"
  },
  {
   "metadata": {
    "ExecuteTime": {
     "end_time": "2024-04-14T12:57:35.027046Z",
     "start_time": "2024-04-14T12:57:35.020188Z"
    }
   },
   "cell_type": "code",
   "source": [
    "meas = tuple(LinMod(weightTrue, gn) + gauss(0,sigma) for gn in geneNum)\n",
    "print(f'1st sample = {meas[0]}')\n",
    "print(f'2nd sample = {meas[1]}')"
   ],
   "id": "ffcb6d7f9f7f7dc2",
   "outputs": [
    {
     "name": "stdout",
     "output_type": "stream",
     "text": [
      "1st sample = -0.5043680688662071\n",
      "2nd sample = -0.19879723186206574\n"
     ]
    }
   ],
   "execution_count": 32
  },
  {
   "metadata": {
    "ExecuteTime": {
     "end_time": "2024-04-14T12:57:35.707984Z",
     "start_time": "2024-04-14T12:57:35.082986Z"
    }
   },
   "cell_type": "code",
   "source": [
    "fig, (ax0,ax1) = plot.subplots(1,2, figsize=(9,5))\n",
    "\n",
    "ax0.hist(meas,bins=20)\n",
    "ax0.title.set_text('Histogram of Measurements')\n",
    "\n",
    "x = [(k + 0.5)/(nSamp + 1) for k in range(nSamp)]\n",
    "ax1.plot(x,sorted(meas), 'o', ms=4, c='maroon')\n",
    "ax1.title.set_text('Cumulative Distribution Function')"
   ],
   "id": "e56a1cd9f62fb802",
   "outputs": [
    {
     "data": {
      "text/plain": [
       "<Figure size 900x500 with 2 Axes>"
      ],
      "image/png": "[encoded data removed]"
     },
     "metadata": {},
     "output_type": "display_data"
    }
   ],
   "execution_count": 33
  },
  {
   "metadata": {},
   "cell_type": "markdown",
   "source": "#### Learn Module from (i.e., Fit Model to) the Data",
   "id": "d64b92d230844760"
  },
  {
   "metadata": {
    "ExecuteTime": {
     "end_time": "2024-04-14T12:57:35.719347Z",
     "start_time": "2024-04-14T12:57:35.712982Z"
    }
   },
   "cell_type": "code",
   "source": [
    "x = np.array(geneNum)\n",
    "y = np.array(meas)\n",
    "print(f'x shape = {x.shape}, y shape = {y.shape}')"
   ],
   "id": "75e6f04558250f2b",
   "outputs": [
    {
     "name": "stdout",
     "output_type": "stream",
     "text": [
      "x shape = (100, 4), y shape = (100,)\n"
     ]
    }
   ],
   "execution_count": 34
  },
  {
   "metadata": {
    "ExecuteTime": {
     "end_time": "2024-04-14T12:57:35.737923Z",
     "start_time": "2024-04-14T12:57:35.722348Z"
    }
   },
   "cell_type": "code",
   "source": [
    "reg = LinearRegression()\n",
    "reg.fit(x,y)\n",
    "weightFit = reg.coef_"
   ],
   "id": "1172b32f0a25a67",
   "outputs": [],
   "execution_count": 35
  },
  {
   "metadata": {
    "ExecuteTime": {
     "end_time": "2024-04-14T12:57:35.783311Z",
     "start_time": "2024-04-14T12:57:35.762901Z"
    }
   },
   "cell_type": "code",
   "source": [
    "nCase = 2 ** nGene\n",
    "cases = tuple(tuple((num & (1 << bNum)) >> bNum for bNum in range(nGene)) for num in range(nCase))\n",
    "cases"
   ],
   "id": "708c2a1b04c4d6e7",
   "outputs": [
    {
     "data": {
      "text/plain": [
       "((0, 0, 0, 0),\n",
       " (1, 0, 0, 0),\n",
       " (0, 1, 0, 0),\n",
       " (1, 1, 0, 0),\n",
       " (0, 0, 1, 0),\n",
       " (1, 0, 1, 0),\n",
       " (0, 1, 1, 0),\n",
       " (1, 1, 1, 0),\n",
       " (0, 0, 0, 1),\n",
       " (1, 0, 0, 1),\n",
       " (0, 1, 0, 1),\n",
       " (1, 1, 0, 1),\n",
       " (0, 0, 1, 1),\n",
       " (1, 0, 1, 1),\n",
       " (0, 1, 1, 1),\n",
       " (1, 1, 1, 1))"
      ]
     },
     "execution_count": 36,
     "metadata": {},
     "output_type": "execute_result"
    }
   ],
   "execution_count": 36
  },
  {
   "metadata": {
    "ExecuteTime": {
     "end_time": "2024-04-14T12:57:35.805029Z",
     "start_time": "2024-04-14T12:57:35.786310Z"
    }
   },
   "cell_type": "code",
   "source": "prob = tuple(prod((p if g == 1 else (1 - p) for (p,g) in zip(prev,case))) for case in cases)",
   "id": "435a384d2abb3159",
   "outputs": [],
   "execution_count": 37
  },
  {
   "metadata": {},
   "cell_type": "markdown",
   "source": "Check that the probabilites of the cases add to one",
   "id": "9d30199532374eb6"
  },
  {
   "metadata": {
    "ExecuteTime": {
     "end_time": "2024-04-14T12:57:35.835329Z",
     "start_time": "2024-04-14T12:57:35.807029Z"
    }
   },
   "cell_type": "code",
   "source": "sum(prob)",
   "id": "7f26a32f338999d9",
   "outputs": [
    {
     "data": {
      "text/plain": [
       "0.9999999999999999"
      ]
     },
     "execution_count": 38,
     "metadata": {},
     "output_type": "execute_result"
    }
   ],
   "execution_count": 38
  },
  {
   "metadata": {
    "ExecuteTime": {
     "end_time": "2024-04-14T12:57:35.857969Z",
     "start_time": "2024-04-14T12:57:35.838324Z"
    }
   },
   "cell_type": "code",
   "source": [
    "noNoiseMeas = tuple(LinMod(weightTrue, case) for case in cases)\n",
    "estMeas = tuple(LinMod(weightFit, case) for case in cases)"
   ],
   "id": "31c1b35e6e845cc6",
   "outputs": [],
   "execution_count": 39
  },
  {
   "metadata": {
    "ExecuteTime": {
     "end_time": "2024-04-14T12:57:35.891753Z",
     "start_time": "2024-04-14T12:57:35.861969Z"
    }
   },
   "cell_type": "code",
   "source": [
    "error = [(nnm - em, p) for (nnm,em,p) in zip(noNoiseMeas, estMeas, prob)]\n",
    "error"
   ],
   "id": "c908e7b9315a0e4",
   "outputs": [
    {
     "data": {
      "text/plain": [
       "[(0.0, 0.0007986154191706622),\n",
       " (-0.013736133413896734, 0.001070842095718746),\n",
       " (0.018896830563003952, 0.0003522558590040515),\n",
       " (0.0051606971491072184, 0.0004723304775117254),\n",
       " (-0.03016195378107278, 0.03595076330214399),\n",
       " (-0.04389808719496946, 0.04820541876981918),\n",
       " (-0.011265123218068829, 0.015857278365598172),\n",
       " (-0.025001256631965563, 0.021262601234329485),\n",
       " (0.021186369636391866, 0.0056433845759054834),\n",
       " (0.007450236222495132, 0.00756706372196661),\n",
       " (0.04008320019939582, 0.0024892022289529424),\n",
       " (0.02634706678549903, 0.0033377048170292376),\n",
       " (-0.008975584144680915, 0.25404466059775943),\n",
       " (-0.022711717558577593, 0.34064170341610644),\n",
       " (0.009921246418323038, 0.11205483640321866),\n",
       " (-0.003814886995573641, 0.15025133871576513)]"
      ]
     },
     "execution_count": 40,
     "metadata": {},
     "output_type": "execute_result"
    }
   ],
   "execution_count": 40
  },
  {
   "metadata": {},
   "cell_type": "markdown",
   "source": "The probability weighted mean RMS error",
   "id": "e62a81f25a2e5f4c"
  },
  {
   "metadata": {
    "ExecuteTime": {
     "end_time": "2024-04-14T12:57:35.918084Z",
     "start_time": "2024-04-14T12:57:35.895756Z"
    }
   },
   "cell_type": "code",
   "source": [
    "rmsErr = sqrt(mean(er*er*p for (er,p) in error))\n",
    "rmsErr"
   ],
   "id": "ced8209c28dfebb9",
   "outputs": [
    {
     "data": {
      "text/plain": [
       "0.004742793219729776"
      ]
     },
     "execution_count": 41,
     "metadata": {},
     "output_type": "execute_result"
    }
   ],
   "execution_count": 41
  },
  {
   "metadata": {
    "ExecuteTime": {
     "end_time": "2024-04-14T12:57:35.947116Z",
     "start_time": "2024-04-14T12:57:35.922084Z"
    }
   },
   "cell_type": "code",
   "source": "sigma/rmsErr",
   "id": "df52346e6b59aa03",
   "outputs": [
    {
     "data": {
      "text/plain": [
       "21.084621523031014"
      ]
     },
     "execution_count": 42,
     "metadata": {},
     "output_type": "execute_result"
    }
   ],
   "execution_count": 42
  },
  {
   "metadata": {},
   "cell_type": "markdown",
   "source": [
    "So if the noise is measurement nose (rather than model missmatch), then measuring the gene and \n",
    "using them to predict the quantity of interest is dramatically better than making a \n",
    "noisy direct measurement of the quantity.\n",
    "\n",
    "In he real world this pronominal occurs, but there is also model miss-match.\n",
    "\n",
    "For this example, where there is zero model-mismatch, the expected reduction in rmsError (below \n",
    "sigma) is the square root of number of subjects times the number of genes.  Which is the average \n",
    "across a large selection of seeds."
   ],
   "id": "f4ad00cf40b743f7"
  },
  {
   "metadata": {
    "ExecuteTime": {
     "end_time": "2024-04-14T12:57:35.976483Z",
     "start_time": "2024-04-14T12:57:35.952115Z"
    }
   },
   "cell_type": "code",
   "source": "sqrt(nGene * nSamp)",
   "id": "2339d791ae001595",
   "outputs": [
    {
     "data": {
      "text/plain": [
       "20.0"
      ]
     },
     "execution_count": 43,
     "metadata": {},
     "output_type": "execute_result"
    }
   ],
   "execution_count": 43
  }
 ],
 "metadata": {
  "kernelspec": {
   "display_name": "Python 3",
   "language": "python",
   "name": "python3"
  },
  "language_info": {
   "codemirror_mode": {
    "name": "ipython",
    "version": 2
   },
   "file_extension": ".py",
   "mimetype": "text/x-python",
   "name": "python",
   "nbconvert_exporter": "python",
   "pygments_lexer": "ipython2",
   "version": "2.7.6"
  }
 },
 "nbformat": 4,
 "nbformat_minor": 5
}

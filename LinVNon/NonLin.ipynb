{
 "cells": [
  {
   "metadata": {},
   "cell_type": "markdown",
   "source": [
    "## Non-Linear Model\n",
    "\n",
    "Start with packages"
   ],
   "id": "43ad652c8e7ae1c3"
  },
  {
   "metadata": {
    "ExecuteTime": {
     "end_time": "2024-04-14T15:51:07.042003Z",
     "start_time": "2024-04-14T15:51:07.022593Z"
    }
   },
   "cell_type": "code",
   "source": [
    "from math import isclose, prod, sqrt\n",
    "import matplotlib.pyplot as plot\n",
    "import numpy as np\n",
    "import random\n",
    "from random import gauss, randint, uniform\n",
    "from sklearn.linear_model import LinearRegression\n",
    "from statistics import mean"
   ],
   "id": "eaf522f4b496db37",
   "outputs": [],
   "execution_count": 157
  },
  {
   "metadata": {},
   "cell_type": "markdown",
   "source": [
    "Set constants.\n",
    "\n",
    "Set *masterSeed* to None to make every run different.  Set it to an integer to repeat to get \n",
    "the sam results over and over.\n",
    "\n",
    "Sigma represents the amount of additive noise in the output."
   ],
   "id": "25cf6e8b76fd48f7"
  },
  {
   "metadata": {
    "ExecuteTime": {
     "end_time": "2024-04-14T15:51:07.367663Z",
     "start_time": "2024-04-14T15:51:07.362802Z"
    }
   },
   "cell_type": "code",
   "source": [
    "nGene = 4\n",
    "nSamp = 100\n",
    "\n",
    "upDownLev = 1\n",
    "\n",
    "masterSeed = 445  \n",
    "# masterSeed = None\n",
    "\n",
    "sigma = 0.1"
   ],
   "id": "de65cf9928e80a33",
   "outputs": [],
   "execution_count": 158
  },
  {
   "metadata": {},
   "cell_type": "markdown",
   "source": [
    "### Set up the problem\n",
    "\n",
    "The model assumes that of each gene:\n",
    "1. Contributors something to the final output\n",
    "2. That the contributions are additive.\n",
    "3. That the contributions of each gene are independent of each other.\n",
    "\n",
    "Writing this model as an algebraic shows that this is equivalent to assuming \"the linear model\"."
   ],
   "id": "1f5a38a64b68efa7"
  },
  {
   "metadata": {
    "ExecuteTime": {
     "end_time": "2024-04-14T15:51:07.436973Z",
     "start_time": "2024-04-14T15:51:07.431164Z"
    }
   },
   "cell_type": "code",
   "source": [
    "if masterSeed is not None:\n",
    "\tseed = masterSeed\n",
    "else:\n",
    "\trandom.seed()\n",
    "\tseed = randint(0, 999)\n",
    "\t\n",
    "random.seed(seed)\n",
    "print(f'Seed = {seed}')"
   ],
   "id": "5daaec80f44f43ed",
   "outputs": [
    {
     "name": "stdout",
     "output_type": "stream",
     "text": [
      "Seed = 445\n"
     ]
    }
   ],
   "execution_count": 159
  },
  {
   "metadata": {
    "ExecuteTime": {
     "end_time": "2024-04-14T15:51:07.546431Z",
     "start_time": "2024-04-14T15:51:07.532132Z"
    }
   },
   "cell_type": "code",
   "source": [
    "nGene = 4\n",
    "\n",
    "linWeight = [uniform(-1,1) for _ in range(nGene)]\n",
    "print(f'weights = {linWeight}')"
   ],
   "id": "ea6b80dbfd00c354",
   "outputs": [
    {
     "name": "stdout",
     "output_type": "stream",
     "text": [
      "weights = [0.10164352392380116, -0.5002335298078537, -0.21417753879713186, 0.9390499130926009]\n"
     ]
    }
   ],
   "execution_count": 160
  },
  {
   "metadata": {},
   "cell_type": "markdown",
   "source": "Make a callable function for this model.",
   "id": "fcc4da181a73e628"
  },
  {
   "metadata": {
    "ExecuteTime": {
     "end_time": "2024-04-14T15:51:07.593179Z",
     "start_time": "2024-04-14T15:51:07.586849Z"
    }
   },
   "cell_type": "code",
   "source": [
    "def LinMod(weights, inputs):\n",
    "\tassert(len(weights) == len(inputs))\n",
    "\tresult = sum((weight*input for (weight,input) in zip(weights,inputs)))\n",
    "\treturn result"
   ],
   "id": "d294f3bf1083eb8a",
   "outputs": [],
   "execution_count": 161
  },
  {
   "metadata": {},
   "cell_type": "markdown",
   "source": "Create a model for up and down regulation based on pairs of genes",
   "id": "adee274271c2c6c6"
  },
  {
   "metadata": {
    "ExecuteTime": {
     "end_time": "2024-04-14T15:51:07.671574Z",
     "start_time": "2024-04-14T15:51:07.666116Z"
    }
   },
   "cell_type": "code",
   "source": [
    "upGroups = [(1,1,0,0), (0,0,1,1)]\n",
    "downGroups = [(0,1,1,0), (1,0,0,1)]"
   ],
   "id": "f2356bc09c387287",
   "outputs": [],
   "execution_count": 162
  },
  {
   "metadata": {
    "ExecuteTime": {
     "end_time": "2024-04-14T15:51:07.758353Z",
     "start_time": "2024-04-14T15:51:07.752223Z"
    }
   },
   "cell_type": "code",
   "source": [
    "def UpDownMod(geneSamp, upGroups,downGroups):\n",
    "\tresult = 0\n",
    "\tfor group in upGroups:\n",
    "\t\tif all((m and d) or not m for (m,d) in zip(geneSamp,group)):\n",
    "\t\t\tresult += upDownLev\n",
    "\tfor group in downGroups:\n",
    "\t\tif all((m and d) or not m for (m,d) in zip(geneSamp,group)):\n",
    "\t\t\tresult -= upDownLev\n",
    "\treturn result"
   ],
   "id": "22a6d7fe4a98515c",
   "outputs": [],
   "execution_count": 163
  },
  {
   "metadata": {},
   "cell_type": "markdown",
   "source": "Test *UpDownMod*",
   "id": "6caf9a876faae315"
  },
  {
   "metadata": {
    "ExecuteTime": {
     "end_time": "2024-04-14T15:51:07.828547Z",
     "start_time": "2024-04-14T15:51:07.818528Z"
    }
   },
   "cell_type": "code",
   "source": [
    "nCase = 2 ** nGene\n",
    "allCasesNum = tuple(\n",
    "\ttuple((num & (1 << bNum)) >> bNum for bNum in range(nGene)) \n",
    "\tfor num in range (nCase))\n",
    "\n",
    "allCasesBool = list(tuple(allCasesNum[i][j] == 1 for j in range(nGene)) for i in range(nCase))\n",
    "allCasesBool"
   ],
   "id": "3418bb9a48024d1b",
   "outputs": [
    {
     "data": {
      "text/plain": [
       "[(False, False, False, False),\n",
       " (True, False, False, False),\n",
       " (False, True, False, False),\n",
       " (True, True, False, False),\n",
       " (False, False, True, False),\n",
       " (True, False, True, False),\n",
       " (False, True, True, False),\n",
       " (True, True, True, False),\n",
       " (False, False, False, True),\n",
       " (True, False, False, True),\n",
       " (False, True, False, True),\n",
       " (True, True, False, True),\n",
       " (False, False, True, True),\n",
       " (True, False, True, True),\n",
       " (False, True, True, True),\n",
       " (True, True, True, True)]"
      ]
     },
     "execution_count": 164,
     "metadata": {},
     "output_type": "execute_result"
    }
   ],
   "execution_count": 164
  },
  {
   "metadata": {
    "ExecuteTime": {
     "end_time": "2024-04-14T15:51:07.906666Z",
     "start_time": "2024-04-14T15:51:07.898915Z"
    }
   },
   "cell_type": "code",
   "source": [
    "result = []\n",
    "for case in allCasesBool:\n",
    "\tresult.append((UpDownMod(case, upGroups,downGroups)))\n",
    "result"
   ],
   "id": "74eb124777ea4645",
   "outputs": [
    {
     "data": {
      "text/plain": [
       "[0, 0, 0, 1, 0, 0, -1, 0, 0, -1, 0, 0, 1, 0, 0, 0]"
      ]
     },
     "execution_count": 165,
     "metadata": {},
     "output_type": "execute_result"
    }
   ],
   "execution_count": 165
  },
  {
   "metadata": {},
   "cell_type": "markdown",
   "source": "Assume that each gene occurs in the population with a fixed proportion, not necessarily 1/2.",
   "id": "6e4f087d9e50b075"
  },
  {
   "metadata": {
    "ExecuteTime": {
     "end_time": "2024-04-14T15:51:07.976782Z",
     "start_time": "2024-04-14T15:51:07.970452Z"
    }
   },
   "cell_type": "code",
   "source": [
    "prev = [uniform(0,1) for _ in range(nGene)]\n",
    "print(f'Prevalence = {prev}')"
   ],
   "id": "dab70983c5e2de25",
   "outputs": [
    {
     "name": "stdout",
     "output_type": "stream",
     "text": [
      "Prevalence = [0.8899003733505119, 0.4047913222275106, 0.7377358513004266, 0.3113088768178486]\n"
     ]
    }
   ],
   "execution_count": 166
  },
  {
   "metadata": {},
   "cell_type": "markdown",
   "source": [
    "#### Generate Samples\n",
    "\n",
    "The genes combinations are selected randomly according to the (randomly selected) prevalence\n",
    "levels for the population."
   ],
   "id": "e55b96bf55196a87"
  },
  {
   "metadata": {
    "ExecuteTime": {
     "end_time": "2024-04-14T15:51:08.054327Z",
     "start_time": "2024-04-14T15:51:08.042533Z"
    }
   },
   "cell_type": "code",
   "source": [
    "geneSampBool = tuple(tuple(uniform(0,1) < p for p in prev) for _ in range(nSamp))\n",
    "print(f'1st sample = {geneSampBool[0]}')\n",
    "print(f'2nd sample = {geneSampBool[1]}')"
   ],
   "id": "545c8147a235f6b1",
   "outputs": [
    {
     "name": "stdout",
     "output_type": "stream",
     "text": [
      "1st sample = (True, False, False, False)\n",
      "2nd sample = (True, True, True, False)\n"
     ]
    }
   ],
   "execution_count": 167
  },
  {
   "metadata": {},
   "cell_type": "markdown",
   "source": "Represent the gene samples numerically (as well as logically), because sometimes it's easier to use.",
   "id": "50c80594979f80eb"
  },
  {
   "metadata": {
    "ExecuteTime": {
     "end_time": "2024-04-14T15:51:08.140663Z",
     "start_time": "2024-04-14T15:51:08.133709Z"
    }
   },
   "cell_type": "code",
   "source": [
    "geneSampNum = tuple(tuple(1 if hasGene else 0 for hasGene in samp) for samp in geneSampBool)\n",
    "print(f'1st sample = {geneSampNum[0]}')\n",
    "print(f'2nd sample = {geneSampNum[1]}')"
   ],
   "id": "22db47be4660dde8",
   "outputs": [
    {
     "name": "stdout",
     "output_type": "stream",
     "text": [
      "1st sample = (1, 0, 0, 0)\n",
      "2nd sample = (1, 1, 1, 0)\n"
     ]
    }
   ],
   "execution_count": 168
  },
  {
   "metadata": {},
   "cell_type": "markdown",
   "source": [
    "#### Generate Synthetic Measurements\n",
    "\n",
    "The ground truth for the quantity to be measured will be the sum the linear model and the up-down \n",
    "regulation model."
   ],
   "id": "7334129872d84fbc"
  },
  {
   "metadata": {
    "ExecuteTime": {
     "end_time": "2024-04-14T15:51:08.251226Z",
     "start_time": "2024-04-14T15:51:08.243759Z"
    }
   },
   "cell_type": "code",
   "source": [
    "meas = tuple(\n",
    "\tLinMod(linWeight, gn) + gauss(0,sigma) + UpDownMod(gs,upGroups,downGroups) \n",
    "\tfor (gn,gs) in zip(geneSampNum,geneSampBool))\n",
    "print(f'1st sample = {meas[0]}')\n",
    "print(f'2nd sample = {meas[1]}')"
   ],
   "id": "ffcb6d7f9f7f7dc2",
   "outputs": [
    {
     "name": "stdout",
     "output_type": "stream",
     "text": [
      "1st sample = 0.15494976847007744\n",
      "2nd sample = -0.6231084450013145\n"
     ]
    }
   ],
   "execution_count": 169
  },
  {
   "metadata": {
    "ExecuteTime": {
     "end_time": "2024-04-14T15:51:08.774382Z",
     "start_time": "2024-04-14T15:51:08.330542Z"
    }
   },
   "cell_type": "code",
   "source": [
    "fig, (ax0,ax1) = plot.subplots(1,2, figsize=(9,5))\n",
    "\n",
    "ax0.hist(meas,bins=20)\n",
    "ax0.title.set_text('Histogram of Measurements')\n",
    "\n",
    "x = [(k + 0.5)/(nSamp + 1) for k in range(nSamp)]\n",
    "ax1.plot(x,sorted(meas), 'o', ms=4, c='maroon')\n",
    "ax1.title.set_text('Cumulative Distribution Function')"
   ],
   "id": "e56a1cd9f62fb802",
   "outputs": [
    {
     "data": {
      "text/plain": [
       "<Figure size 900x500 with 2 Axes>"
      ],
      "image/png": "[encoded data removed]"
     },
     "metadata": {},
     "output_type": "display_data"
    }
   ],
   "execution_count": 170
  },
  {
   "metadata": {},
   "cell_type": "markdown",
   "source": [
    "Notice that the variance in measurements is larger, because of the up-down regulation increases \n",
    "the spread."
   ],
   "id": "5e85eaf662307b57"
  },
  {
   "metadata": {},
   "cell_type": "markdown",
   "source": "### Learn Module from (i.e., Fit Model to) the Data",
   "id": "d64b92d230844760"
  },
  {
   "metadata": {
    "ExecuteTime": {
     "end_time": "2024-04-14T15:51:08.786611Z",
     "start_time": "2024-04-14T15:51:08.774382Z"
    }
   },
   "cell_type": "code",
   "source": [
    "x = np.array(geneSampNum)\n",
    "y = np.array(meas)\n",
    "print(f'x shape = {x.shape}, y shape = {y.shape}')"
   ],
   "id": "75e6f04558250f2b",
   "outputs": [
    {
     "name": "stdout",
     "output_type": "stream",
     "text": [
      "x shape = (100, 4), y shape = (100,)\n"
     ]
    }
   ],
   "execution_count": 171
  },
  {
   "metadata": {
    "ExecuteTime": {
     "end_time": "2024-04-14T15:51:08.803861Z",
     "start_time": "2024-04-14T15:51:08.786611Z"
    }
   },
   "cell_type": "code",
   "source": [
    "reg = LinearRegression()\n",
    "reg.fit(x,y)\n",
    "\n",
    "linFit = reg.coef_\n",
    "print(f'linear model fit weights:\\n  {linFit}')\n",
    "print(f'Ture weights for linear component:\\n  {linWeight}')"
   ],
   "id": "1172b32f0a25a67",
   "outputs": [
    {
     "name": "stdout",
     "output_type": "stream",
     "text": [
      "linear model fit weights:\n",
      "  [ 0.43345783 -0.28887029 -0.25364032  0.6340592 ]\n",
      "Ture weights for linear component:\n",
      "  [0.10164352392380116, -0.5002335298078537, -0.21417753879713186, 0.9390499130926009]\n"
     ]
    }
   ],
   "execution_count": 172
  },
  {
   "metadata": {},
   "cell_type": "markdown",
   "source": [
    "Notice that the estimation of the linear model is somewhat close to the linear component\n",
    "of the model.  This is because the linear estimation is blind to the up-down component of the\n",
    "ground truth and because the effects on the up-down model tend to average out.\n",
    "\n",
    "Notice also that using a linear model to estimate the linear component of the linear model in\n",
    "the presence of the up-down phenomena is not nearly as accurate when the up-down phenomena isn't\n",
    "present.  This is because the up-down phenomena looks like noise to the linear model."
   ],
   "id": "fe5137bed53bfaa3"
  },
  {
   "metadata": {
    "ExecuteTime": {
     "end_time": "2024-04-14T15:51:08.814368Z",
     "start_time": "2024-04-14T15:51:08.803861Z"
    }
   },
   "cell_type": "code",
   "source": [
    "def RmsError(aList,bList):\n",
    "\tassert(len(aList) == len(bList))\n",
    "\tresult = sqrt(sum((a-b)**2 for (a,b) in zip(aList,bList)) / len(aList))\n",
    "\t\n",
    "\treturn result"
   ],
   "id": "4086d7449365931c",
   "outputs": [],
   "execution_count": 173
  },
  {
   "metadata": {
    "ExecuteTime": {
     "end_time": "2024-04-14T15:51:08.836279Z",
     "start_time": "2024-04-14T15:51:08.814368Z"
    }
   },
   "cell_type": "code",
   "source": "RmsError(linFit,linWeight)",
   "id": "b4e0a9d6ab35cd08",
   "outputs": [
    {
     "data": {
      "text/plain": [
       "0.24967569068511633"
      ]
     },
     "execution_count": 174,
     "metadata": {},
     "output_type": "execute_result"
    }
   ],
   "execution_count": 174
  },
  {
   "metadata": {},
   "cell_type": "markdown",
   "source": "Compute the probability of every gene combination",
   "id": "3d3741f1b032cf88"
  },
  {
   "metadata": {
    "ExecuteTime": {
     "end_time": "2024-04-14T15:51:08.848786Z",
     "start_time": "2024-04-14T15:51:08.836279Z"
    }
   },
   "cell_type": "code",
   "source": [
    "prob = tuple(prod((p if g == 1 else (1 - p) for (p,g) in zip(prev,case))) for case in allCasesNum)\n",
    "assert(isclose(sum(prob),1))"
   ],
   "id": "435a384d2abb3159",
   "outputs": [],
   "execution_count": 175
  },
  {
   "metadata": {
    "ExecuteTime": {
     "end_time": "2024-04-14T16:35:15.976465Z",
     "start_time": "2024-04-14T16:35:15.965359Z"
    }
   },
   "cell_type": "code",
   "source": [
    "def PlotColorCoded(data, upGroup,downGroup, mark='o'):\n",
    "\tredData = [d for d in data if (d[2] in upGroup)]\n",
    "\tblueData = [d for d in data if (d[2] in downGroup)]\n",
    "\tgreenData = [d for d in data if ((d[2] not in upGroup) and (d[2] not in downGroup))]\n",
    "\t\n",
    "\tredX = [d[0] for d in redData]\n",
    "\tredY = [d[1] for d in redData]\n",
    "\tplot.plot(redX, redY, mark, c='red')\n",
    "\t\t\n",
    "\tblueX = [d[0] for d in blueData]\n",
    "\tblueY = [d[1] for d in blueData]\n",
    "\tplot.plot(blueX, blueY, mark, c='blue')\n",
    "\t\n",
    "\tgreenX = [d[0] for d in greenData]\n",
    "\tgreenY = [d[1] for d in greenData]\n",
    "\tplot.plot(greenX, greenY, mark, c='green')"
   ],
   "id": "aeb3f39b9595055e",
   "outputs": [],
   "execution_count": 217
  },
  {
   "metadata": {
    "ExecuteTime": {
     "end_time": "2024-04-14T16:35:16.861095Z",
     "start_time": "2024-04-14T16:35:16.593353Z"
    }
   },
   "cell_type": "code",
   "source": [
    "x = [n for n in range(nCase)]\n",
    "data = list(zip(x,prob,allCasesNum))\n",
    "\n",
    "plot.subplots(figsize=(9,5))\n",
    "PlotColorCoded(data, upGroups, downGroups)\n",
    "\n",
    "plot.title('Probability of Occurrence')\n",
    "plot.xlabel('Gene Combination Ordinal')\n",
    "plot.ylabel('Probability')"
   ],
   "id": "5565a8fc837c081",
   "outputs": [
    {
     "data": {
      "text/plain": [
       "Text(0, 0.5, 'Probability')"
      ]
     },
     "execution_count": 218,
     "metadata": {},
     "output_type": "execute_result"
    },
    {
     "data": {
      "text/plain": [
       "<Figure size 900x500 with 1 Axes>"
      ],
      "image/png": "[encoded data removed]"
     },
     "metadata": {},
     "output_type": "display_data"
    }
   ],
   "execution_count": 218
  },
  {
   "metadata": {},
   "cell_type": "markdown",
   "source": [
    "Red markers correspond to gene combinations that yield up-regulation, the blue markers correspond\n",
    "to down-regulation, and the green markers to neither."
   ],
   "id": "b3798db67d6b8ab"
  },
  {
   "metadata": {
    "ExecuteTime": {
     "end_time": "2024-04-14T16:28:20.245705Z",
     "start_time": "2024-04-14T16:28:20.233624Z"
    }
   },
   "cell_type": "code",
   "source": [
    "groundTruth = tuple(LinMod(linWeight, case) for case in allCasesNum)\n",
    "estMeas = tuple(LinMod(linFit, case) for case in allCasesNum)"
   ],
   "id": "31c1b35e6e845cc6",
   "outputs": [],
   "execution_count": 195
  },
  {
   "metadata": {
    "ExecuteTime": {
     "end_time": "2024-04-14T16:28:20.478465Z",
     "start_time": "2024-04-14T16:28:20.457623Z"
    }
   },
   "cell_type": "code",
   "source": "error = [(nnm - em, p) for (nnm,em,p) in zip(groundTruth, estMeas, prob)]",
   "id": "c908e7b9315a0e4",
   "outputs": [],
   "execution_count": 196
  },
  {
   "metadata": {},
   "cell_type": "markdown",
   "source": "The probability weighted mean RMS error",
   "id": "e62a81f25a2e5f4c"
  },
  {
   "metadata": {
    "ExecuteTime": {
     "end_time": "2024-04-14T16:28:20.885110Z",
     "start_time": "2024-04-14T16:28:20.877687Z"
    }
   },
   "cell_type": "code",
   "source": [
    "def RmsErrorWeight(aList,bList,weight):\n",
    "\tassert((len(aList) == len(bList)) and (len(bList) == len(weight)))\n",
    "\ttotalWeight = sum(weight)\n",
    "\tresult = sqrt(sum(w * (a-b)**2 for (a,b,w) in zip(aList,bList,weight)) / totalWeight)\n",
    "\t\n",
    "\treturn result"
   ],
   "id": "91270defa2b9a2d2",
   "outputs": [],
   "execution_count": 197
  },
  {
   "metadata": {
    "ExecuteTime": {
     "end_time": "2024-04-14T16:28:21.114322Z",
     "start_time": "2024-04-14T16:28:21.105205Z"
    }
   },
   "cell_type": "code",
   "source": [
    "rmsErr = RmsErrorWeight(groundTruth,estMeas,prob)\n",
    "rmsErr"
   ],
   "id": "ced8209c28dfebb9",
   "outputs": [
    {
     "data": {
      "text/plain": [
       "0.32822463906736526"
      ]
     },
     "execution_count": 198,
     "metadata": {},
     "output_type": "execute_result"
    }
   ],
   "execution_count": 198
  },
  {
   "metadata": {
    "ExecuteTime": {
     "end_time": "2024-04-14T16:43:54.426279Z",
     "start_time": "2024-04-14T16:43:54.410022Z"
    }
   },
   "cell_type": "code",
   "source": "sigma/rmsErr",
   "id": "df52346e6b59aa03",
   "outputs": [
    {
     "data": {
      "text/plain": [
       "0.3046693882706224"
      ]
     },
     "execution_count": 224,
     "metadata": {},
     "output_type": "execute_result"
    }
   ],
   "execution_count": 224
  },
  {
   "metadata": {},
   "cell_type": "markdown",
   "source": [
    "Here the RMS error is larger than the measurement noise.  This is because most of the error is \n",
    "model mismatch."
   ],
   "id": "f4ad00cf40b743f7"
  },
  {
   "metadata": {},
   "cell_type": "markdown",
   "source": [
    "## Garbage and Work in Progress\n",
    "\n",
    "From here on is all stuff that doesn't work.  It's work in progress"
   ],
   "id": "4e97aefeab9a30d2"
  },
  {
   "metadata": {},
   "cell_type": "code",
   "outputs": [],
   "execution_count": null,
   "source": [
    "def MeanByGroup(data, group)\n",
    "\t"
   ],
   "id": "ba1d812af5acb7a1"
  },
  {
   "metadata": {
    "ExecuteTime": {
     "end_time": "2024-04-14T16:39:06.654995Z",
     "start_time": "2024-04-14T16:39:06.423459Z"
    }
   },
   "cell_type": "code",
   "source": [
    "x = [n for n in range(nCase)]\n",
    "\n",
    "plot.subplots(figsize=(9, 5))\n",
    "\n",
    "data = list(zip(x, groundTruth, allCasesNum))\n",
    "PlotColorCoded(data, upGroups, downGroups)\n",
    "\n",
    "data = list(zip(x, , allCasesNum))\n",
    "PlotColorCoded(data, upGroups, downGroups, '*')\n",
    "\n",
    "plot.xlabel('Gene Combination Ordinal')\n",
    "plot.ylabel('Quantity to be Measured')"
   ],
   "id": "37a5b6bc63b9e0e7",
   "outputs": [
    {
     "data": {
      "text/plain": [
       "Text(0, 0.5, 'Quantity to be Measured')"
      ]
     },
     "execution_count": 219,
     "metadata": {},
     "output_type": "execute_result"
    },
    {
     "data": {
      "text/plain": [
       "<Figure size 900x500 with 1 Axes>"
      ],
      "image/png": "[encoded data removed]"
     },
     "metadata": {},
     "output_type": "display_data"
    }
   ],
   "execution_count": 219
  },
  {
   "metadata": {
    "ExecuteTime": {
     "end_time": "2024-04-14T16:41:31.199547Z",
     "start_time": "2024-04-14T16:41:31.187005Z"
    }
   },
   "cell_type": "code",
   "source": "len(meas)",
   "id": "b14d7aadc7dfff53",
   "outputs": [
    {
     "data": {
      "text/plain": [
       "100"
      ]
     },
     "execution_count": 223,
     "metadata": {},
     "output_type": "execute_result"
    }
   ],
   "execution_count": 223
  }
 ],
 "metadata": {
  "kernelspec": {
   "display_name": "Python 3",
   "language": "python",
   "name": "python3"
  },
  "language_info": {
   "codemirror_mode": {
    "name": "ipython",
    "version": 2
   },
   "file_extension": ".py",
   "mimetype": "text/x-python",
   "name": "python",
   "nbconvert_exporter": "python",
   "pygments_lexer": "ipython2",
   "version": "2.7.6"
  }
 },
 "nbformat": 4,
 "nbformat_minor": 5
}

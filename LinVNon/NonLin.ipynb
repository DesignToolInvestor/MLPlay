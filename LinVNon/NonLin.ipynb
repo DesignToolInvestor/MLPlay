{
    "cells": [
     {
      "metadata": {},
      "cell_type": "markdown",
      "source": "# Mixed Linear and Non-Linear Model",
      "id": "43ad652c8e7ae1c3"
     },
     {
      "metadata": {},
      "cell_type": "markdown",
      "source": "Start by loading packages",
      "id": "df3fd346d86cf316"
     },
     {
      "metadata": {
       "ExecuteTime": {
        "end_time": "2024-04-14T23:28:10.815216Z",
        "start_time": "2024-04-14T23:28:10.807847Z"
       }
      },
      "cell_type": "code",
      "source": [
       "from math import isclose, prod, sqrt\n",
       "import matplotlib.pyplot as plot\n",
       "import numpy as np\n",
       "import random\n",
       "from random import gauss, randint, uniform\n",
       "from sklearn.linear_model import LinearRegression\n",
       "from statistics import mean"
      ],
      "id": "eaf522f4b496db37",
      "outputs": [],
      "execution_count": 30
     },
     {
      "metadata": {},
      "cell_type": "markdown",
      "source": [
       "Set constants.\n",
       "\n",
       "Set *masterSeed* to *None* to have a 3-digit seed randomly selected for each run.  \n",
       "Set it to an integer to get the sam results over and over.\n",
       "\n",
       "Sigma represents the amount of noise added to measurements of the phenotype."
      ],
      "id": "25cf6e8b76fd48f7"
     },
     {
      "metadata": {
       "ExecuteTime": {
        "end_time": "2024-04-14T23:28:11.193824Z",
        "start_time": "2024-04-14T23:28:11.176045Z"
       }
      },
      "cell_type": "code",
      "source": [
       "nGene = 4\n",
       "nSamp = 100\n",
       "\n",
       "upDownLev = 0.8\n",
       "\n",
       "# masterSeed = 445  \n",
       "masterSeed = None\n",
       "\n",
       "sigma = 0.1"
      ],
      "id": "de65cf9928e80a33",
      "outputs": [],
      "execution_count": 31
     },
     {
      "metadata": {},
      "cell_type": "markdown",
      "source": "Pick or set the seed.",
      "id": "9bffd06559179da2"
     },
     {
      "metadata": {
       "ExecuteTime": {
        "end_time": "2024-04-14T23:28:11.244947Z",
        "start_time": "2024-04-14T23:28:11.221921Z"
       }
      },
      "cell_type": "code",
      "source": [
       "if masterSeed is not None:\n",
       "\tseed = masterSeed\n",
       "else:\n",
       "\trandom.seed()\n",
       "\tseed = randint(0, 999)\n",
       "\t\n",
       "random.seed(seed)\n",
       "print(f'Seed = {seed}')"
      ],
      "id": "fd5623573516d08f",
      "outputs": [
       {
        "name": "stdout",
        "output_type": "stream",
        "text": [
         "Seed = 767\n"
        ]
       }
      ],
      "execution_count": 32
     },
     {
      "metadata": {},
      "cell_type": "markdown",
      "source": [
       "Enumerate all the possible gene combinations.  There are $2^n$ combinations.\n",
       "\n",
       "This enumeration of all combinations is used for testing and evaluation.  This is a luxury usually \n",
       "not available in experimental settings.  In such cases sampling of the population is used for \n",
       "testing and evaluation.\n",
       "\n",
       "*allCombNum* represents the gene combination with indicator functions (i.e., 0 or 1) and \n",
       "*allCombBool* represents the combination with booleans.  The distinction is merely to simplify \n",
       "the code."
      ],
      "id": "25f8c9d0bf070451"
     },
     {
      "metadata": {
       "ExecuteTime": {
        "end_time": "2024-04-14T23:28:11.353973Z",
        "start_time": "2024-04-14T23:28:11.341518Z"
       }
      },
      "cell_type": "code",
      "source": [
       "nCase = 2 ** nGene\n",
       "allCombNum = tuple(\n",
       "\ttuple((num & (1 << bNum)) >> bNum for bNum in range(nGene)) \n",
       "\tfor num in range (nCase))\n",
       "\n",
       "allCombBool = list(tuple(allCombNum[i][j] == 1 for j in range(nGene)) for i in range(nCase))\n",
       "allCombBool"
      ],
      "id": "c4a785b00aa00f7e",
      "outputs": [
       {
        "data": {
         "text/plain": [
          "[(False, False, False, False),\n",
          " (True, False, False, False),\n",
          " (False, True, False, False),\n",
          " (True, True, False, False),\n",
          " (False, False, True, False),\n",
          " (True, False, True, False),\n",
          " (False, True, True, False),\n",
          " (True, True, True, False),\n",
          " (False, False, False, True),\n",
          " (True, False, False, True),\n",
          " (False, True, False, True),\n",
          " (True, True, False, True),\n",
          " (False, False, True, True),\n",
          " (True, False, True, True),\n",
          " (False, True, True, True),\n",
          " (True, True, True, True)]"
         ]
        },
        "execution_count": 33,
        "metadata": {},
        "output_type": "execute_result"
       }
      ],
      "execution_count": 33
     },
     {
      "metadata": {},
      "cell_type": "markdown",
      "source": [
       "## Set up the problem\n",
       "\n",
       "Assume that:\n",
       "1. There is a fixed mechanism between the genotype and the phenotype.\n",
       "2. That this mechanism is the combination of a linear component and second non-linear component.\n",
       "3. That the non-linear component of the mechanism will either up-regulate or down-regulate when \n",
       "specific paris of genes are present. \n",
       "\n",
       "Don't become distracted by consideration of nature vs. nature, Lamarckian vs. Darwinian evolution,\n",
       " or epigenetics.  We have deliberately chosen a simple model because we think it illuminates \n",
       " procedural issues."
      ],
      "id": "1f5a38a64b68efa7"
     },
     {
      "metadata": {
       "ExecuteTime": {
        "end_time": "2024-04-14T23:28:11.420885Z",
        "start_time": "2024-04-14T23:28:11.413798Z"
       }
      },
      "cell_type": "code",
      "source": [
       "linCompWeight = [uniform(-1,1) for _ in range(nGene)]\n",
       "print(f'Weights of the linear component = {linCompWeight}')"
      ],
      "id": "ea6b80dbfd00c354",
      "outputs": [
       {
        "name": "stdout",
        "output_type": "stream",
        "text": [
         "Weights of the linear component = [0.6828137769936751, 0.44902049164912183, -0.785947238955746, -0.043293711395672396]\n"
        ]
       }
      ],
      "execution_count": 34
     },
     {
      "metadata": {},
      "cell_type": "markdown",
      "source": "Create a function to evaluate the linear model (or a linear component of a mdoel)",
      "id": "fcc4da181a73e628"
     },
     {
      "metadata": {
       "ExecuteTime": {
        "end_time": "2024-04-14T23:28:11.497045Z",
        "start_time": "2024-04-14T23:28:11.491998Z"
       }
      },
      "cell_type": "code",
      "source": [
       "def LinMod(weights, genes):\n",
       "\tassert(len(weights) == len(genes))\n",
       "\tresult = sum((w*g for (w,g) in zip(weights,genes)))\n",
       "\treturn result"
      ],
      "id": "d294f3bf1083eb8a",
      "outputs": [],
      "execution_count": 35
     },
     {
      "metadata": {},
      "cell_type": "markdown",
      "source": "Create a model for up and down regulation based on pairs of genes",
      "id": "adee274271c2c6c6"
     },
     {
      "metadata": {
       "ExecuteTime": {
        "end_time": "2024-04-14T23:28:11.572785Z",
        "start_time": "2024-04-14T23:28:11.567069Z"
       }
      },
      "cell_type": "code",
      "source": [
       "def UpDownModel(geneSamp, upGroups,downGroups):\n",
       "\tresult = 0\n",
       "\tfor group in upGroups:\n",
       "\t\t# if g => s is true\n",
       "\t\tif all((not g) or (g and s) for (s,g) in zip(geneSamp,group)):\n",
       "\t\t\tresult += upDownLev\n",
       "\tfor group in downGroups:\n",
       "\t\tif all((not g) or (g and s) for (s,g)  in zip(geneSamp,group)):\n",
       "\t\t\tresult -= upDownLev\n",
       "\treturn result"
      ],
      "id": "22a6d7fe4a98515c",
      "outputs": [],
      "execution_count": 36
     },
     {
      "metadata": {},
      "cell_type": "markdown",
      "source": "Choose 2 gene pairs that cause up-regulation and 2 genes pairs that cause down-regulation.",
      "id": "f83d2e23f8c528e8"
     },
     {
      "metadata": {
       "ExecuteTime": {
        "end_time": "2024-04-14T23:28:11.645050Z",
        "start_time": "2024-04-14T23:28:11.632365Z"
       }
      },
      "cell_type": "code",
      "source": [
       "upGroups = [(1,1,0,0), (0,0,1,1)]\n",
       "downGroups = [(0,1,1,0), (1,0,0,1)]"
      ],
      "id": "64c133327536498e",
      "outputs": [],
      "execution_count": 37
     },
     {
      "metadata": {},
      "cell_type": "markdown",
      "source": "Test *UpDownModelel*",
      "id": "6caf9a876faae315"
     },
     {
      "metadata": {
       "ExecuteTime": {
        "end_time": "2024-04-14T23:28:11.720423Z",
        "start_time": "2024-04-14T23:28:11.714409Z"
       }
      },
      "cell_type": "code",
      "source": [
       "result = []\n",
       "for case in allCombBool:\n",
       "\tresult.append((UpDownModel(case, upGroups,downGroups)))\n",
       "result"
      ],
      "id": "74eb124777ea4645",
      "outputs": [
       {
        "data": {
         "text/plain": [
          "[0, 0, 0, 0.8, 0, 0, -0.8, 0.0, 0, -0.8, 0, 0.0, 0.8, 0.0, 0.0, 0.0]"
         ]
        },
        "execution_count": 38,
        "metadata": {},
        "output_type": "execute_result"
       }
      ],
      "execution_count": 38
     },
     {
      "metadata": {},
      "cell_type": "markdown",
      "source": [
       "Assume that each gene occurs in the population with a fixed prevalence.  Randomly select the \n",
       "provenances of each gene."
      ],
      "id": "6e4f087d9e50b075"
     },
     {
      "metadata": {
       "ExecuteTime": {
        "end_time": "2024-04-14T23:28:11.813213Z",
        "start_time": "2024-04-14T23:28:11.808259Z"
       }
      },
      "cell_type": "code",
      "source": [
       "prev = [uniform(0,1) for _ in range(nGene)]\n",
       "print(f'Prevalence = {prev}')"
      ],
      "id": "dab70983c5e2de25",
      "outputs": [
       {
        "name": "stdout",
        "output_type": "stream",
        "text": [
         "Prevalence = [0.6929945607410272, 0.2945482572284368, 0.15120078518433422, 0.3462757139362944]\n"
        ]
       }
      ],
      "execution_count": 39
     },
     {
      "metadata": {},
      "cell_type": "markdown",
      "source": [
       "### Generate Samples\n",
       "\n",
       "The random combinations of genes according to the prevalence levels assumed in the population."
      ],
      "id": "e55b96bf55196a87"
     },
     {
      "metadata": {
       "ExecuteTime": {
        "end_time": "2024-04-14T23:28:11.840543Z",
        "start_time": "2024-04-14T23:28:11.834426Z"
       }
      },
      "cell_type": "code",
      "source": [
       "geneSampBool = tuple(tuple(uniform(0,1) < p for p in prev) for _ in range(nSamp))\n",
       "print(f'1st sample = {geneSampBool[0]}')\n",
       "print(f'2nd sample = {geneSampBool[1]}')"
      ],
      "id": "545c8147a235f6b1",
      "outputs": [
       {
        "name": "stdout",
        "output_type": "stream",
        "text": [
         "1st sample = (False, False, False, True)\n",
         "2nd sample = (True, True, False, False)\n"
        ]
       }
      ],
      "execution_count": 40
     },
     {
      "metadata": {},
      "cell_type": "markdown",
      "source": "Represent the gene samples numerically (as well as logically), because sometimes it's easier to use.",
      "id": "50c80594979f80eb"
     },
     {
      "metadata": {
       "ExecuteTime": {
        "end_time": "2024-04-14T23:28:11.926074Z",
        "start_time": "2024-04-14T23:28:11.920517Z"
       }
      },
      "cell_type": "code",
      "source": [
       "geneSampNum = tuple(tuple(1 if hasGene else 0 for hasGene in samp) for samp in geneSampBool)\n",
       "print(f'1st sample = {geneSampNum[0]}')\n",
       "print(f'2nd sample = {geneSampNum[1]}')"
      ],
      "id": "22db47be4660dde8",
      "outputs": [
       {
        "name": "stdout",
        "output_type": "stream",
        "text": [
         "1st sample = (0, 0, 0, 1)\n",
         "2nd sample = (1, 1, 0, 0)\n"
        ]
       }
      ],
      "execution_count": 41
     },
     {
      "metadata": {},
      "cell_type": "markdown",
      "source": [
       "#### Generate Synthetic Measurements\n",
       "\n",
       "The ground truth for the phenotype attribute to be measured will be the sum the linear model and the \n",
       "up-down regulation model."
      ],
      "id": "7334129872d84fbc"
     },
     {
      "metadata": {
       "ExecuteTime": {
        "end_time": "2024-04-14T23:28:11.996451Z",
        "start_time": "2024-04-14T23:28:11.989925Z"
       }
      },
      "cell_type": "code",
      "source": [
       "truePheno = tuple(\n",
       "\tLinMod(linCompWeight, gn) + UpDownModel(gs,upGroups,downGroups) \n",
       "\tfor (gn,gs) in zip(geneSampNum,geneSampBool)\n",
       ")"
      ],
      "id": "dccce209a5be3dff",
      "outputs": [],
      "execution_count": 42
     },
     {
      "metadata": {
       "ExecuteTime": {
        "end_time": "2024-04-14T23:28:12.104041Z",
        "start_time": "2024-04-14T23:28:12.099003Z"
       }
      },
      "cell_type": "code",
      "source": [
       "measPheno = tuple(tm + gauss(0,sigma) for tm in truePheno)\n",
       "print(f'1st sample = {measPheno[0]}')\n",
       "print(f'2nd sample = {measPheno[1]}')"
      ],
      "id": "ffcb6d7f9f7f7dc2",
      "outputs": [
       {
        "name": "stdout",
        "output_type": "stream",
        "text": [
         "1st sample = -0.17924649008562912\n",
         "2nd sample = 1.9459178434051823\n"
        ]
       }
      ],
      "execution_count": 43
     },
     {
      "metadata": {
       "ExecuteTime": {
        "end_time": "2024-04-14T23:28:12.641249Z",
        "start_time": "2024-04-14T23:28:12.133012Z"
       }
      },
      "cell_type": "code",
      "source": [
       "fig, (ax0,ax1) = plot.subplots(1,2, figsize=(9,5))\n",
       "\n",
       "ax0.hist(measPheno, bins=20)\n",
       "ax0.title.set_text('Histogram of Measurements')\n",
       "ax0.set_xlabel('Phenotype Value')\n",
       "ax0.set_ylabel('Bin Count')\n",
       "\n",
       "x = [100*(k + 0.5)/(nSamp + 1) for k in range(nSamp)]\n",
       "ax1.plot(x,sorted(measPheno), 'o', ms=4, c='maroon')\n",
       "ax1.title.set_text('Cumulative Distribution Function')\n",
       "ax1.set_xlabel('Percentile')\n",
       "ax1.set_ylabel('Phenotype Value')"
      ],
      "id": "e56a1cd9f62fb802",
      "outputs": [
       {
        "data": {
         "text/plain": [
          "Text(0, 0.5, 'Phenotype Value')"
         ]
        },
        "execution_count": 44,
        "metadata": {},
        "output_type": "execute_result"
       },
       {
        "data": {
         "text/plain": [
          "<Figure size 900x500 with 2 Axes>"
         ],
         "image/png": "[encoded data removed]"
        },
        "metadata": {},
        "output_type": "display_data"
       }
      ],
      "execution_count": 44
     },
     {
      "metadata": {},
      "cell_type": "markdown",
      "source": [
       "Notice that the variance in measurements is larger, because of the up-down regulation increases \n",
       "the spread."
      ],
      "id": "5e85eaf662307b57"
     },
     {
      "metadata": {},
      "cell_type": "markdown",
      "source": "### Learn Module from (i.e., Fit Model to) the Data",
      "id": "d64b92d230844760"
     },
     {
      "metadata": {
       "ExecuteTime": {
        "end_time": "2024-04-14T23:28:12.648879Z",
        "start_time": "2024-04-14T23:28:12.643703Z"
       }
      },
      "cell_type": "code",
      "source": [
       "x = np.array(geneSampNum)\n",
       "y = np.array(measPheno)\n",
       "print(f'x shape = {x.shape}, y shape = {y.shape}')"
      ],
      "id": "75e6f04558250f2b",
      "outputs": [
       {
        "name": "stdout",
        "output_type": "stream",
        "text": [
         "x shape = (100, 4), y shape = (100,)\n"
        ]
       }
      ],
      "execution_count": 45
     },
     {
      "metadata": {
       "ExecuteTime": {
        "end_time": "2024-04-14T23:28:12.666152Z",
        "start_time": "2024-04-14T23:28:12.650880Z"
       }
      },
      "cell_type": "code",
      "source": [
       "reg = LinearRegression()\n",
       "reg.fit(x,y)\n",
       "\n",
       "linFit = reg.coef_\n",
       "print(f'Linear model fit weights:\\n  {linFit}')\n",
       "print(f'Ture weights for linear component:\\n  {linCompWeight}')"
      ],
      "id": "1172b32f0a25a67",
      "outputs": [
       {
        "name": "stdout",
        "output_type": "stream",
        "text": [
         "Linear model fit weights:\n",
         "  [ 0.79511275  0.90279988 -0.8128346  -0.51398018]\n",
         "Ture weights for linear component:\n",
         "  [0.6828137769936751, 0.44902049164912183, -0.785947238955746, -0.043293711395672396]\n"
        ]
       }
      ],
      "execution_count": 46
     },
     {
      "metadata": {},
      "cell_type": "markdown",
      "source": [
       "Notice that the estimation of the linear model is somewhat close to the linear component\n",
       "of the model.  This is because the linear estimation is blind to the up-down component of the\n",
       "ground truth and because the effects on the up-down model tend to average out.\n",
       "\n",
       "Notice also that using a linear model to estimate the linear component of the linear model in\n",
       "the presence of the up-down phenomena is not nearly as accurate when the up-down phenomena isn't\n",
       "present.  This is because the up-down phenomena looks like noise to the linear model."
      ],
      "id": "fe5137bed53bfaa3"
     },
     {
      "metadata": {
       "ExecuteTime": {
        "end_time": "2024-04-14T23:28:12.690777Z",
        "start_time": "2024-04-14T23:28:12.669152Z"
       }
      },
      "cell_type": "code",
      "source": [
       "def RmsErrorPercent(tureL, estL):\n",
       "\tassert(len(tureL) == len(estL))\n",
       "\t\n",
       "\trms = sqrt(sum(t**2 for t in tureL))\n",
       "\tresult = sqrt(sum((e - t)**2 for (t,e) in zip(tureL,estL)) / rms)\n",
       "\t\n",
       "\treturn result"
      ],
      "id": "4086d7449365931c",
      "outputs": [],
      "execution_count": 47
     },
     {
      "metadata": {
       "ExecuteTime": {
        "end_time": "2024-04-14T23:28:12.717792Z",
        "start_time": "2024-04-14T23:28:12.692934Z"
       }
      },
      "cell_type": "code",
      "source": [
       "percErr = 100*RmsErrorPercent(linFit,linCompWeight)\n",
       "print(f'percent error = {percErr:.1f}%')"
      ],
      "id": "b4e0a9d6ab35cd08",
      "outputs": [
       {
        "name": "stdout",
        "output_type": "stream",
        "text": [
         "percent error = 53.5%\n"
        ]
       }
      ],
      "execution_count": 48
     },
     {
      "metadata": {},
      "cell_type": "markdown",
      "source": "Compute the probability of every gene combination",
      "id": "3d3741f1b032cf88"
     },
     {
      "metadata": {
       "ExecuteTime": {
        "end_time": "2024-04-14T23:28:12.737537Z",
        "start_time": "2024-04-14T23:28:12.719793Z"
       }
      },
      "cell_type": "code",
      "source": [
       "prob = tuple(prod((p if g == 1 else (1 - p) for (p,g) in zip(prev,case))) for case in allCombNum)\n",
       "assert(isclose(sum(prob),1))"
      ],
      "id": "435a384d2abb3159",
      "outputs": [],
      "execution_count": 49
     },
     {
      "metadata": {
       "ExecuteTime": {
        "end_time": "2024-04-14T23:28:12.758127Z",
        "start_time": "2024-04-14T23:28:12.738538Z"
       }
      },
      "cell_type": "code",
      "source": [
       "def PlotColorCoded(data, upGroup,downGroup, mark='o'):\n",
       "\tredData = [d for d in data if (d[2] in upGroup)]\n",
       "\tblueData = [d for d in data if (d[2] in downGroup)]\n",
       "\tgreenData = [d for d in data if ((d[2] not in upGroup) and (d[2] not in downGroup))]\n",
       "\t\n",
       "\tredX = [d[0] for d in redData]\n",
       "\tredY = [d[1] for d in redData]\n",
       "\tplot.plot(redX, redY, mark, c='red')\n",
       "\t\t\n",
       "\tblueX = [d[0] for d in blueData]\n",
       "\tblueY = [d[1] for d in blueData]\n",
       "\tplot.plot(blueX, blueY, mark, c='blue')\n",
       "\t\n",
       "\tgreenX = [d[0] for d in greenData]\n",
       "\tgreenY = [d[1] for d in greenData]\n",
       "\tplot.plot(greenX, greenY, mark, c='green')"
      ],
      "id": "aeb3f39b9595055e",
      "outputs": [],
      "execution_count": 50
     },
     {
      "metadata": {
       "ExecuteTime": {
        "end_time": "2024-04-14T23:28:13.033564Z",
        "start_time": "2024-04-14T23:28:12.760128Z"
       }
      },
      "cell_type": "code",
      "source": [
       "x = [n for n in range(nCase)]\n",
       "data = list(zip(x,prob,allCombNum))\n",
       "\n",
       "plot.subplots(figsize=(9,5))\n",
       "PlotColorCoded(data, upGroups, downGroups)\n",
       "\n",
       "plot.title('Probability of Occurrence')\n",
       "plot.xlabel('Gene Combination Ordinal')\n",
       "plot.ylabel('Probability')"
      ],
      "id": "5565a8fc837c081",
      "outputs": [
       {
        "data": {
         "text/plain": [
          "Text(0, 0.5, 'Probability')"
         ]
        },
        "execution_count": 51,
        "metadata": {},
        "output_type": "execute_result"
       },
       {
        "data": {
         "text/plain": [
          "<Figure size 900x500 with 1 Axes>"
         ],
         "image/png": "[encoded data removed]"
        },
        "metadata": {},
        "output_type": "display_data"
       }
      ],
      "execution_count": 51
     },
     {
      "metadata": {},
      "cell_type": "markdown",
      "source": [
       "Red markers correspond to gene combinations that yield up-regulation, the blue markers correspond\n",
       "to down-regulation, and the green markers to neither."
      ],
      "id": "b3798db67d6b8ab"
     },
     {
      "metadata": {
       "ExecuteTime": {
        "end_time": "2024-04-14T23:28:13.043773Z",
        "start_time": "2024-04-14T23:28:13.035564Z"
       }
      },
      "cell_type": "code",
      "source": [
       "linComp = tuple(LinMod(linCompWeight, case) for case in allCombNum)\n",
       "linEstMeas = tuple(LinMod(linFit, case) for case in allCombNum)"
      ],
      "id": "31c1b35e6e845cc6",
      "outputs": [],
      "execution_count": 52
     },
     {
      "metadata": {},
      "cell_type": "markdown",
      "source": "The probability weighted mean RMS error",
      "id": "e62a81f25a2e5f4c"
     },
     {
      "metadata": {
       "ExecuteTime": {
        "end_time": "2024-04-14T23:28:13.064633Z",
        "start_time": "2024-04-14T23:28:13.047771Z"
       }
      },
      "cell_type": "code",
      "source": [
       "def RmsErrorWeight(aList,bList,weight):\n",
       "\tassert((len(aList) == len(bList)) and (len(bList) == len(weight)))\n",
       "\ttotalWeight = sum(weight)\n",
       "\tresult = sqrt(sum(w * (a-b)**2 for (a,b,w) in zip(aList,bList,weight)) / totalWeight)\n",
       "\t\n",
       "\treturn result"
      ],
      "id": "91270defa2b9a2d2",
      "outputs": [],
      "execution_count": 53
     },
     {
      "metadata": {
       "ExecuteTime": {
        "end_time": "2024-04-14T23:28:13.077836Z",
        "start_time": "2024-04-14T23:28:13.065635Z"
       }
      },
      "cell_type": "code",
      "source": [
       "rmsErr = RmsErrorWeight(linComp,linEstMeas,prob)\n",
       "rmsErr"
      ],
      "id": "ced8209c28dfebb9",
      "outputs": [
       {
        "data": {
         "text/plain": [
          "0.31255084539269906"
         ]
        },
        "execution_count": 54,
        "metadata": {},
        "output_type": "execute_result"
       }
      ],
      "execution_count": 54
     },
     {
      "metadata": {
       "ExecuteTime": {
        "end_time": "2024-04-14T23:28:13.134061Z",
        "start_time": "2024-04-14T23:28:13.078839Z"
       }
      },
      "cell_type": "code",
      "source": "sigma/rmsErr",
      "id": "df52346e6b59aa03",
      "outputs": [
       {
        "data": {
         "text/plain": [
          "0.31994794278785826"
         ]
        },
        "execution_count": 55,
        "metadata": {},
        "output_type": "execute_result"
       }
      ],
      "execution_count": 55
     },
     {
      "metadata": {},
      "cell_type": "markdown",
      "source": [
       "Here the RMS error of the difference between the linear estimation of the linear component of \n",
       "phenomena and the actual linear component of the mechanism is a few times larger (or worse) \n",
       "than the noise in the measurements.  This is because most of the error is model mismatch."
      ],
      "id": "f4ad00cf40b743f7"
     },
     {
      "metadata": {},
      "cell_type": "markdown",
      "source": [
       "#### Plot Measurements, the Ture Linear Component, and the Learned Linear Component \n",
       "\n",
       "Learned is synonymous with estimated"
      ],
      "id": "4e97aefeab9a30d2"
     },
     {
      "metadata": {
       "ExecuteTime": {
        "end_time": "2024-04-14T23:28:13.160225Z",
        "start_time": "2024-04-14T23:28:13.139059Z"
       }
      },
      "cell_type": "code",
      "source": [
       "def MeanByComb(sampInfo):\n",
       "\tresult = []\n",
       "\tfor comb in allCombNum:\n",
       "\t\tgroupData = [s for s in sampInfo if (s[1] == comb)]\n",
       "\t\tif groupData: \n",
       "\t\t\tresult.append(mean(s[0] for s in groupData))\n",
       "\t\telse:\n",
       "\t\t\tresult.append(None)\n",
       "\treturn result"
      ],
      "id": "ba1d812af5acb7a1",
      "outputs": [],
      "execution_count": 56
     },
     {
      "metadata": {
       "ExecuteTime": {
        "end_time": "2024-04-14T23:28:13.193676Z",
        "start_time": "2024-04-14T23:28:13.162252Z"
       }
      },
      "cell_type": "code",
      "source": [
       "sampInfo = list(zip(measPheno, geneSampNum))\n",
       "meanMeas = MeanByComb(sampInfo)"
      ],
      "id": "12c7ee60d4698896",
      "outputs": [],
      "execution_count": 57
     },
     {
      "metadata": {
       "ExecuteTime": {
        "end_time": "2024-04-14T23:28:13.457295Z",
        "start_time": "2024-04-14T23:28:13.195677Z"
       }
      },
      "cell_type": "code",
      "source": [
       "x = [n for n in range(nCase)]\n",
       "\n",
       "plot.subplots(figsize=(9, 5))\n",
       "\n",
       "sampInfo = list(zip(x, linComp, allCombNum))\n",
       "PlotColorCoded(sampInfo, upGroups, downGroups)\n",
       "\n",
       "sampInfo = list(zip(x, meanMeas, allCombNum))\n",
       "PlotColorCoded(sampInfo, upGroups, downGroups, '*')\n",
       "\n",
       "sampInfo = list(zip(x, linEstMeas, allCombNum))\n",
       "PlotColorCoded(sampInfo, upGroups, downGroups, 's')\n",
       "\n",
       "plot.xlabel('Gene Combination Ordinal')\n",
       "plot.ylabel('Quantity to be Measured')"
      ],
      "id": "37a5b6bc63b9e0e7",
      "outputs": [
       {
        "data": {
         "text/plain": [
          "Text(0, 0.5, 'Quantity to be Measured')"
         ]
        },
        "execution_count": 58,
        "metadata": {},
        "output_type": "execute_result"
       },
       {
        "data": {
         "text/plain": [
          "<Figure size 900x500 with 1 Axes>"
         ],
         "image/png": "[encoded data removed]"
        },
        "metadata": {},
        "output_type": "display_data"
       }
      ],
      "execution_count": 58
     },
     {
      "metadata": {},
      "cell_type": "markdown",
      "source": [
       "This graph shows three results for each of the 16 gene combinations:\n",
       "* Circles:  represent the measurements that would occur if only the linear mechanism \n",
       "could be measured in the absence of noise.\n",
       "* Starts:  show the mean of the actual measurements.\n",
       "* Squares:  show the estimated component of the linear model.\n",
       "\n",
       "Notice that starts and the circles are almost the same, except for the particular gene sequences \n",
       "where the either up regulation or down regulation occurs.  This is because, except in these 4 \n",
       "cases, the linear model is the only affect on the phenotype.  For combinations where up \n",
       "regulation or down regulation occur, the measurements differ from the model by plus or minus 1.\n",
       "\n",
       "Notice that the estiment of the linear component is pulled off the actual linear component by a \n",
       "significant amount (towards the mean measurements for these combinations) at each of the gene \n",
       "combinations that up regulate or down regulate.  This in turn distorts the estiment of the linear \n",
       "component even for gene combinations that aren't up or down regulated."
      ],
      "id": "1037f4aeeedfd165"
     },
     {
      "metadata": {},
      "cell_type": "markdown",
      "source": [
       "## Conclusion\n",
       "\n",
       "The details of the notebook have shown that if the mechanism linking phenotypes to genotypes is\n",
       " a mixture of linear and non-linear mechanisms, then the \"interference\" of the non-linear \n",
       " mechanism severely limits the ability to estimate the linear component (at using a linear model).\n",
       "More generally, to estimate one component in a mixed model all the module components \n",
       " must be simultaneously estimated.\n",
       "\n",
       "But the far more significant point, not explicitly stated, is fitting with a linear model \n",
       "provides no clue to the existence of the non-linear component of the model. "
      ],
      "id": "d79e2fd9a11526ad"
     },
     {
      "metadata": {
       "ExecuteTime": {
        "end_time": "2024-04-14T23:28:13.463361Z",
        "start_time": "2024-04-14T23:28:13.460296Z"
       }
      },
      "cell_type": "code",
      "source": "",
      "id": "9684c4d4ad63175c",
      "outputs": [],
      "execution_count": 58
     }
    ],
    "metadata": {
     "kernelspec": {
      "display_name": "Python 3",
      "language": "python",
      "name": "python3"
     },
     "language_info": {
      "codemirror_mode": {
       "name": "ipython",
       "version": 2
      },
      "file_extension": ".py",
      "mimetype": "text/x-python",
      "name": "python",
      "nbconvert_exporter": "python",
      "pygments_lexer": "ipython2",
      "version": "2.7.6"
     }
    },
    "nbformat": 4,
    "nbformat_minor": 5
   }
{
 "cells": [
  {
   "metadata": {},
   "cell_type": "markdown",
   "source": [
    "## Non-Linear Model\n",
    "\n",
    "Start with packages"
   ],
   "id": "43ad652c8e7ae1c3"
  },
  {
   "metadata": {
    "ExecuteTime": {
     "end_time": "2024-04-14T14:58:59.746721Z",
     "start_time": "2024-04-14T14:58:57.902826Z"
    }
   },
   "cell_type": "code",
   "source": [
    "from math import prod, sqrt\n",
    "import matplotlib.pyplot as plot\n",
    "import numpy as np\n",
    "import random\n",
    "from random import gauss, randint, uniform\n",
    "from sklearn.linear_model import LinearRegression\n",
    "from statistics import mean"
   ],
   "id": "eaf522f4b496db37",
   "outputs": [],
   "execution_count": 1
  },
  {
   "metadata": {},
   "cell_type": "markdown",
   "source": [
    "Set constants.\n",
    "\n",
    "Set *masterSeed* to None to make every run different.  Set it to an integer to repeat to get \n",
    "the sam results over and over.\n",
    "\n",
    "Sigma represents the amount of additive noise in the output."
   ],
   "id": "25cf6e8b76fd48f7"
  },
  {
   "metadata": {
    "ExecuteTime": {
     "end_time": "2024-04-14T14:58:59.755123Z",
     "start_time": "2024-04-14T14:58:59.750714Z"
    }
   },
   "cell_type": "code",
   "source": [
    "nGene = 4\n",
    "nSamp = 100\n",
    "\n",
    "upDownLev = 1\n",
    "\n",
    "masterSeed = 889  \n",
    "# masterSeed = None\n",
    "\n",
    "sigma = 0.1"
   ],
   "id": "de65cf9928e80a33",
   "outputs": [],
   "execution_count": 2
  },
  {
   "metadata": {},
   "cell_type": "markdown",
   "source": [
    "### Set up the problem\n",
    "\n",
    "The model assumes that of each gene:\n",
    "1. Contributors something to the final output\n",
    "2. That the contributions are additive.\n",
    "3. That the contributions of each gene are independent of each other.\n",
    "\n",
    "Writing this model as an algebraic shows that this is equivalent to assuming \"the linear model\"."
   ],
   "id": "1f5a38a64b68efa7"
  },
  {
   "metadata": {
    "ExecuteTime": {
     "end_time": "2024-04-14T14:58:59.777175Z",
     "start_time": "2024-04-14T14:58:59.757119Z"
    }
   },
   "cell_type": "code",
   "source": [
    "if masterSeed is not None:\n",
    "\tseed = masterSeed\n",
    "else:\n",
    "\trandom.seed()\n",
    "\tseed = randint(0, 999)\n",
    "\t\n",
    "random.seed(seed)\n",
    "print(f'Seed = {seed}')"
   ],
   "id": "5daaec80f44f43ed",
   "outputs": [
    {
     "name": "stdout",
     "output_type": "stream",
     "text": [
      "Seed = 889\n"
     ]
    }
   ],
   "execution_count": 3
  },
  {
   "metadata": {
    "ExecuteTime": {
     "end_time": "2024-04-14T14:58:59.788083Z",
     "start_time": "2024-04-14T14:58:59.779170Z"
    }
   },
   "cell_type": "code",
   "source": [
    "nGene = 4\n",
    "\n",
    "linWeight = [uniform(-1,1) for _ in range(nGene)]\n",
    "print(f'weights = {linWeight}')"
   ],
   "id": "ea6b80dbfd00c354",
   "outputs": [
    {
     "name": "stdout",
     "output_type": "stream",
     "text": [
      "weights = [0.2773857205497221, 0.6002761831698336, -0.5316291658599472, -0.8275074335983024]\n"
     ]
    }
   ],
   "execution_count": 4
  },
  {
   "metadata": {},
   "cell_type": "markdown",
   "source": "Make a callable function for this model.",
   "id": "fcc4da181a73e628"
  },
  {
   "metadata": {
    "ExecuteTime": {
     "end_time": "2024-04-14T14:58:59.805470Z",
     "start_time": "2024-04-14T14:58:59.793082Z"
    }
   },
   "cell_type": "code",
   "source": [
    "def LinMod(weights, inputs):\n",
    "\tassert(len(weights) == len(inputs))\n",
    "\tresult = sum((weight*input for (weight,input) in zip(weights,inputs)))\n",
    "\treturn result"
   ],
   "id": "d294f3bf1083eb8a",
   "outputs": [],
   "execution_count": 5
  },
  {
   "metadata": {},
   "cell_type": "markdown",
   "source": "Create a model for up and down regulation based on pairs of genes",
   "id": "adee274271c2c6c6"
  },
  {
   "metadata": {
    "ExecuteTime": {
     "end_time": "2024-04-14T14:58:59.817466Z",
     "start_time": "2024-04-14T14:58:59.807470Z"
    }
   },
   "cell_type": "code",
   "source": [
    "upGroups = [(1,1,0,0), (0,0,1,1)]\n",
    "downGroups = [(0,1,1,0), (1,0,0,1)]"
   ],
   "id": "f2356bc09c387287",
   "outputs": [],
   "execution_count": 6
  },
  {
   "metadata": {
    "ExecuteTime": {
     "end_time": "2024-04-14T14:58:59.833672Z",
     "start_time": "2024-04-14T14:58:59.820466Z"
    }
   },
   "cell_type": "code",
   "source": [
    "def UpDownMod(geneSamp, upGroups,downGroups):\n",
    "\tresult = 0\n",
    "\tfor group in upGroups:\n",
    "\t\tif all((m and d) or not m for (m,d) in zip(geneSamp,group)):\n",
    "\t\t\tresult += upDownLev\n",
    "\tfor group in downGroups:\n",
    "\t\tif all((m and d) or not m for (m,d) in zip(geneSamp,group)):\n",
    "\t\t\tresult -= upDownLev\n",
    "\treturn result"
   ],
   "id": "22a6d7fe4a98515c",
   "outputs": [],
   "execution_count": 7
  },
  {
   "metadata": {},
   "cell_type": "markdown",
   "source": "Test *UpDownMod*",
   "id": "6caf9a876faae315"
  },
  {
   "metadata": {
    "ExecuteTime": {
     "end_time": "2024-04-14T14:58:59.863512Z",
     "start_time": "2024-04-14T14:58:59.835672Z"
    }
   },
   "cell_type": "code",
   "source": [
    "nCase = 2 ** nGene\n",
    "allCasesNum = tuple(\n",
    "\ttuple((num & (1 << bNum)) >> bNum for bNum in range(nGene)) \n",
    "\tfor num in range (nCase))\n",
    "\n",
    "allCasesBool = list(tuple(allCasesNum[i][j] == 1 for j in range(nGene)) for i in range(nCase))\n",
    "allCasesBool"
   ],
   "id": "3418bb9a48024d1b",
   "outputs": [
    {
     "data": {
      "text/plain": [
       "[(False, False, False, False),\n",
       " (True, False, False, False),\n",
       " (False, True, False, False),\n",
       " (True, True, False, False),\n",
       " (False, False, True, False),\n",
       " (True, False, True, False),\n",
       " (False, True, True, False),\n",
       " (True, True, True, False),\n",
       " (False, False, False, True),\n",
       " (True, False, False, True),\n",
       " (False, True, False, True),\n",
       " (True, True, False, True),\n",
       " (False, False, True, True),\n",
       " (True, False, True, True),\n",
       " (False, True, True, True),\n",
       " (True, True, True, True)]"
      ]
     },
     "execution_count": 8,
     "metadata": {},
     "output_type": "execute_result"
    }
   ],
   "execution_count": 8
  },
  {
   "metadata": {
    "ExecuteTime": {
     "end_time": "2024-04-14T14:58:59.896835Z",
     "start_time": "2024-04-14T14:58:59.865514Z"
    }
   },
   "cell_type": "code",
   "source": [
    "result = []\n",
    "for case in allCasesBool:\n",
    "\tresult.append((UpDownMod(case, upGroups,downGroups)))\n",
    "result"
   ],
   "id": "74eb124777ea4645",
   "outputs": [
    {
     "data": {
      "text/plain": [
       "[0, 0, 0, 1, 0, 0, -1, 0, 0, -1, 0, 0, 1, 0, 0, 0]"
      ]
     },
     "execution_count": 9,
     "metadata": {},
     "output_type": "execute_result"
    }
   ],
   "execution_count": 9
  },
  {
   "metadata": {},
   "cell_type": "markdown",
   "source": "Assume that each gene occurs in the population with a fixed proportion, not necessarily 1/2.",
   "id": "6e4f087d9e50b075"
  },
  {
   "metadata": {
    "ExecuteTime": {
     "end_time": "2024-04-14T14:58:59.963297Z",
     "start_time": "2024-04-14T14:58:59.899836Z"
    }
   },
   "cell_type": "code",
   "source": [
    "prev = [uniform(0,1) for _ in range(nGene)]\n",
    "print(f'Prevalence = {prev}')"
   ],
   "id": "dab70983c5e2de25",
   "outputs": [
    {
     "name": "stdout",
     "output_type": "stream",
     "text": [
      "Prevalence = [0.6611456258260959, 0.5450457645963291, 0.23460831188778697, 0.09815275042051841]\n"
     ]
    }
   ],
   "execution_count": 10
  },
  {
   "metadata": {},
   "cell_type": "markdown",
   "source": [
    "#### Generate Samples\n",
    "\n",
    "The genes combinations are selected randomly according to the (randomly selected) prevalence\n",
    "levels for the population."
   ],
   "id": "e55b96bf55196a87"
  },
  {
   "metadata": {
    "ExecuteTime": {
     "end_time": "2024-04-14T14:58:59.997755Z",
     "start_time": "2024-04-14T14:58:59.965299Z"
    }
   },
   "cell_type": "code",
   "source": [
    "geneSampBool = tuple(tuple(uniform(0,1) < p for p in prev) for _ in range(nSamp))\n",
    "print(f'1st sample = {geneSampBool[0]}')\n",
    "print(f'2nd sample = {geneSampBool[1]}')"
   ],
   "id": "545c8147a235f6b1",
   "outputs": [
    {
     "name": "stdout",
     "output_type": "stream",
     "text": [
      "1st sample = (False, True, False, False)\n",
      "2nd sample = (False, False, True, False)\n"
     ]
    }
   ],
   "execution_count": 11
  },
  {
   "metadata": {},
   "cell_type": "markdown",
   "source": "Represent the gene samples numerically (as well as logically), because sometimes it's easier to use.",
   "id": "50c80594979f80eb"
  },
  {
   "metadata": {
    "ExecuteTime": {
     "end_time": "2024-04-14T14:59:00.026152Z",
     "start_time": "2024-04-14T14:58:59.999756Z"
    }
   },
   "cell_type": "code",
   "source": [
    "geneSampNum = tuple(tuple(1 if hasGene else 0 for hasGene in samp) for samp in geneSampBool)\n",
    "print(f'1st sample = {geneSampNum[0]}')\n",
    "print(f'2nd sample = {geneSampNum[1]}')"
   ],
   "id": "22db47be4660dde8",
   "outputs": [
    {
     "name": "stdout",
     "output_type": "stream",
     "text": [
      "1st sample = (0, 1, 0, 0)\n",
      "2nd sample = (0, 0, 1, 0)\n"
     ]
    }
   ],
   "execution_count": 12
  },
  {
   "metadata": {},
   "cell_type": "markdown",
   "source": [
    "#### Generate Synthetic Measurements\n",
    "\n",
    "The ground truth for the quantity to be measured will be the sum the linear model and the up-down \n",
    "regulation model."
   ],
   "id": "7334129872d84fbc"
  },
  {
   "metadata": {
    "ExecuteTime": {
     "end_time": "2024-04-14T14:59:00.068156Z",
     "start_time": "2024-04-14T14:59:00.028152Z"
    }
   },
   "cell_type": "code",
   "source": [
    "meas = tuple(\n",
    "\tLinMod(linWeight, gn) + gauss(0,sigma) + UpDownMod(gs,upGroups,downGroups) \n",
    "\tfor (gn,gs) in zip(geneSampNum,geneSampBool))\n",
    "print(f'1st sample = {meas[0]}')\n",
    "print(f'2nd sample = {meas[1]}')"
   ],
   "id": "ffcb6d7f9f7f7dc2",
   "outputs": [
    {
     "name": "stdout",
     "output_type": "stream",
     "text": [
      "1st sample = 0.49799587447795035\n",
      "2nd sample = -0.5988959094402109\n"
     ]
    }
   ],
   "execution_count": 13
  },
  {
   "metadata": {
    "ExecuteTime": {
     "end_time": "2024-04-14T14:59:00.743765Z",
     "start_time": "2024-04-14T14:59:00.083139Z"
    }
   },
   "cell_type": "code",
   "source": [
    "fig, (ax0,ax1) = plot.subplots(1,2, figsize=(9,5))\n",
    "\n",
    "ax0.hist(meas,bins=20)\n",
    "ax0.title.set_text('Histogram of Measurements')\n",
    "\n",
    "x = [(k + 0.5)/(nSamp + 1) for k in range(nSamp)]\n",
    "ax1.plot(x,sorted(meas), 'o', ms=4, c='maroon')\n",
    "ax1.title.set_text('Cumulative Distribution Function')"
   ],
   "id": "e56a1cd9f62fb802",
   "outputs": [
    {
     "data": {
      "text/plain": [
       "<Figure size 900x500 with 2 Axes>"
      ],
      "image/png": "[encoded data removed]"
     },
     "metadata": {},
     "output_type": "display_data"
    }
   ],
   "execution_count": 14
  },
  {
   "metadata": {},
   "cell_type": "markdown",
   "source": [
    "Notice that the variance in measurements is larger, because of the up-down regulation increases \n",
    "the spread."
   ],
   "id": "5e85eaf662307b57"
  },
  {
   "metadata": {},
   "cell_type": "markdown",
   "source": "### Learn Module from (i.e., Fit Model to) the Data",
   "id": "d64b92d230844760"
  },
  {
   "metadata": {
    "ExecuteTime": {
     "end_time": "2024-04-14T14:59:01.957502Z",
     "start_time": "2024-04-14T14:59:01.945200Z"
    }
   },
   "cell_type": "code",
   "source": [
    "x = np.array(geneSampNum)\n",
    "y = np.array(meas)\n",
    "print(f'x shape = {x.shape}, y shape = {y.shape}')"
   ],
   "id": "75e6f04558250f2b",
   "outputs": [
    {
     "name": "stdout",
     "output_type": "stream",
     "text": [
      "x shape = (100, 4), y shape = (100,)\n"
     ]
    }
   ],
   "execution_count": 15
  },
  {
   "metadata": {
    "ExecuteTime": {
     "end_time": "2024-04-14T14:59:02.828032Z",
     "start_time": "2024-04-14T14:59:02.819795Z"
    }
   },
   "cell_type": "code",
   "source": [
    "reg = LinearRegression()\n",
    "reg.fit(x,y)\n",
    "\n",
    "linFit = reg.coef_\n",
    "print(f'linear model fit weights:\\n  {linFit}')\n",
    "print(f'Ture weights for linear component:\\n  {linWeight}')"
   ],
   "id": "1172b32f0a25a67",
   "outputs": [
    {
     "name": "stdout",
     "output_type": "stream",
     "text": [
      "linear model fit weights:\n",
      "  [ 0.85189324  1.06036308 -1.15630061 -1.30554488]\n",
      "Ture weights for linear component:\n",
      "  [0.2773857205497221, 0.6002761831698336, -0.5316291658599472, -0.8275074335983024]\n"
     ]
    }
   ],
   "execution_count": 16
  },
  {
   "metadata": {},
   "cell_type": "markdown",
   "source": [
    "Notice that the estimation of the linear model is somewhat close to the linear component\n",
    "of the model.  This is because the linear estimation is blind to the up-down component of the\n",
    "ground truth and because the effects on the up-down model tend to average out.\n",
    "\n",
    "Notice also that using a linear model to estimate the linear component of the linear model in\n",
    "the presence of the up-down phenomena is not nearly as accurate when the up-down phenomena isn't\n",
    "present.  This is because the up-down phenomena looks like noise to the linear model. \n",
    "\n",
    "Compute the probability of every gene combination"
   ],
   "id": "fe5137bed53bfaa3"
  },
  {
   "metadata": {
    "ExecuteTime": {
     "end_time": "2024-04-14T14:59:04.453463Z",
     "start_time": "2024-04-14T14:59:04.448143Z"
    }
   },
   "cell_type": "code",
   "source": [
    "prob = tuple(prod((p if g == 1 else (1 - p) for (p,g) in zip(prev,case))) for case in allCasesNum)\n",
    "assert(sum(prob) == 1)"
   ],
   "id": "435a384d2abb3159",
   "outputs": [],
   "execution_count": 17
  },
  {
   "metadata": {
    "ExecuteTime": {
     "end_time": "2024-04-14T14:59:04.739142Z",
     "start_time": "2024-04-14T14:59:04.732664Z"
    }
   },
   "cell_type": "code",
   "source": [
    "def PlotColorCoded(data, upGroups,downGroups):\n",
    "\tprint(f'data = {list(data)}')\n",
    "\tredData = [d for d in data if (d[2] in upGroups)]\n",
    "\tprint(f'redData = {redData}')\n",
    "\tblueData = [d for d in data if (d[2] in downGroups)]\n",
    "\tprint(f'blueData = {blueData}')\n",
    "\tgreenData = [d for d in data if ((d[2] not in upGroups) and (d not in downGroups))]\n",
    "\t\n",
    "\tredX = [d[0] for d in redData]\n",
    "\tredY = [d[1] for d in redData]\n",
    "\tplot.plot(redX, redY, '*', c='red')\n",
    "\t\t\n",
    "\tblueX = [d[0] for d in blueData]\n",
    "\tblueY = [d[1] for d in blueData]\n",
    "\tplot.plot(blueX, blueY, '*', c='blue')\n",
    "\t\n",
    "\tgreenX = [d[0] for d in greenData]\n",
    "\tgreenY = [d[1] for d in greenData]\n",
    "\tplot.plot(greenX, greenY, '*', c='green')"
   ],
   "id": "aeb3f39b9595055e",
   "outputs": [],
   "execution_count": 18
  },
  {
   "metadata": {
    "ExecuteTime": {
     "end_time": "2024-04-14T14:59:05.573804Z",
     "start_time": "2024-04-14T14:59:05.565676Z"
    }
   },
   "cell_type": "code",
   "source": "downGroups",
   "id": "97c275052fc374d8",
   "outputs": [
    {
     "data": {
      "text/plain": [
       "[(0, 1, 1, 0), (1, 0, 0, 1)]"
      ]
     },
     "execution_count": 19,
     "metadata": {},
     "output_type": "execute_result"
    }
   ],
   "execution_count": 19
  },
  {
   "metadata": {
    "ExecuteTime": {
     "end_time": "2024-04-14T14:59:08.672157Z",
     "start_time": "2024-04-14T14:59:08.493458Z"
    }
   },
   "cell_type": "code",
   "source": [
    "x = [n for n in range(nCase)]\n",
    "data = zip(x,prob,allCasesNum)\n",
    "\n",
    "plot.subplots(figsize=(9,5))\n",
    "PlotColorCoded(data,upGroups,downGroups)\n",
    "\n",
    "plot.xlabel('Case Ordinal')\n",
    "plot.ylabel('Probability')"
   ],
   "id": "5565a8fc837c081",
   "outputs": [
    {
     "name": "stdout",
     "output_type": "stream",
     "text": [
      "data = [(0, 0.10641369792839221, (0, 0, 0, 0)), (1, 0.20762591920158896, (1, 0, 0, 0)), (2, 0.12748608725323973, (0, 1, 0, 0)), (3, 0.24874068439177485, (1, 1, 0, 0)), (4, 0.032617989482343096, (0, 0, 1, 0)), (5, 0.06364161927101228, (1, 0, 1, 0)), (6, 0.03907711069273687, (0, 1, 1, 0)), (7, 0.07624414135839362, (1, 1, 1, 0)), (8, 0.01158155900454337, (0, 0, 0, 1)), (9, 0.02259701411489223, (1, 0, 0, 1)), (10, 0.013874977286996612, (0, 1, 0, 1)), (11, 0.0270717489307851, (1, 1, 0, 1)), (12, 0.003549986300199231, (0, 0, 1, 1)), (13, 0.00692645010069945, (1, 0, 1, 1)), (14, 0.004252966225452951, (0, 1, 1, 1)), (15, 0.008298048456949463, (1, 1, 1, 1))]\n",
      "redData = []\n",
      "blueData = []\n"
     ]
    },
    {
     "data": {
      "text/plain": [
       "Text(0, 0.5, 'Probability')"
      ]
     },
     "execution_count": 20,
     "metadata": {},
     "output_type": "execute_result"
    },
    {
     "data": {
      "text/plain": [
       "<Figure size 900x500 with 1 Axes>"
      ],
      "image/png": "[encoded data removed]"
     },
     "metadata": {},
     "output_type": "display_data"
    }
   ],
   "execution_count": 20
  },
  {
   "metadata": {
    "ExecuteTime": {
     "end_time": "2024-04-14T14:34:17.650941Z",
     "start_time": "2024-04-14T14:34:17.646234Z"
    }
   },
   "cell_type": "code",
   "source": [
    "noNoiseMeas = tuple(LinMod(linWeight, case) for case in allCasesNum)\n",
    "estMeas = tuple(LinMod(linFit, case) for case in allCasesNum)"
   ],
   "id": "31c1b35e6e845cc6",
   "outputs": [],
   "execution_count": 89
  },
  {
   "metadata": {
    "ExecuteTime": {
     "end_time": "2024-04-14T14:34:18.240262Z",
     "start_time": "2024-04-14T14:34:18.234434Z"
    }
   },
   "cell_type": "code",
   "source": "error = [(nnm - em, p) for (nnm,em,p) in zip(noNoiseMeas, estMeas, prob)]",
   "id": "c908e7b9315a0e4",
   "outputs": [],
   "execution_count": 90
  },
  {
   "metadata": {
    "ExecuteTime": {
     "end_time": "2024-04-14T14:34:19.232653Z",
     "start_time": "2024-04-14T14:34:19.002910Z"
    }
   },
   "cell_type": "code",
   "source": [
    "x = [n for n in range(nCase)]\n",
    "y = [e[0] for e in error]\n",
    "\n",
    "plot.subplots(figsize=(9,5))\n",
    "\n",
    "plot.plot(x,y, '*', c='maroon')\n",
    "plot.xlabel('Case Ordinal')\n",
    "plot.ylabel('Probability')"
   ],
   "id": "4999755521c61c7",
   "outputs": [
    {
     "data": {
      "text/plain": [
       "Text(0, 0.5, 'Probability')"
      ]
     },
     "execution_count": 91,
     "metadata": {},
     "output_type": "execute_result"
    },
    {
     "data": {
      "text/plain": [
       "<Figure size 900x500 with 1 Axes>"
      ],
      "image/png": "[encoded data removed]"
     },
     "metadata": {},
     "output_type": "display_data"
    }
   ],
   "execution_count": 91
  },
  {
   "metadata": {},
   "cell_type": "markdown",
   "source": "The probability weighted mean RMS error",
   "id": "e62a81f25a2e5f4c"
  },
  {
   "metadata": {
    "ExecuteTime": {
     "end_time": "2024-04-14T14:23:55.793389Z",
     "start_time": "2024-04-14T14:23:55.791389Z"
    }
   },
   "cell_type": "code",
   "source": [
    "rmsErr = sqrt(mean(er*er*p for (er,p) in error))\n",
    "rmsErr"
   ],
   "id": "ced8209c28dfebb9",
   "outputs": [],
   "execution_count": null
  },
  {
   "metadata": {
    "ExecuteTime": {
     "end_time": "2024-04-14T14:23:55.799381Z",
     "start_time": "2024-04-14T14:23:55.797384Z"
    }
   },
   "cell_type": "code",
   "source": "sigma/rmsErr",
   "id": "df52346e6b59aa03",
   "outputs": [],
   "execution_count": null
  },
  {
   "metadata": {},
   "cell_type": "markdown",
   "source": [
    "So if the noise is measurement nose (rather than model missmatch), then measuring the gene and \n",
    "using them to predict the quantity of interest is dramatically better than making a \n",
    "noisy direct measurement of the quantity.\n",
    "\n",
    "In he real world this pronominal occurs, but there is also model miss-match.\n",
    "\n",
    "For this example, where there is zero model-mismatch, the expected reduction in rmsError (below \n",
    "sigma) is the square root of number of subjects times the number of genes.  Which is the average \n",
    "across a large selection of seeds."
   ],
   "id": "f4ad00cf40b743f7"
  },
  {
   "metadata": {
    "ExecuteTime": {
     "end_time": "2024-04-14T14:23:55.804377Z",
     "start_time": "2024-04-14T14:23:55.804377Z"
    }
   },
   "cell_type": "code",
   "source": "sqrt(nGene * nSamp)",
   "id": "2339d791ae001595",
   "outputs": [],
   "execution_count": null
  }
 ],
 "metadata": {
  "kernelspec": {
   "display_name": "Python 3",
   "language": "python",
   "name": "python3"
  },
  "language_info": {
   "codemirror_mode": {
    "name": "ipython",
    "version": 2
   },
   "file_extension": ".py",
   "mimetype": "text/x-python",
   "name": "python",
   "nbconvert_exporter": "python",
   "pygments_lexer": "ipython2",
   "version": "2.7.6"
  }
 },
 "nbformat": 4,
 "nbformat_minor": 5
}

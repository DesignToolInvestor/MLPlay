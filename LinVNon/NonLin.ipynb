{
 "cells": [
  {
   "metadata": {},
   "cell_type": "markdown",
   "source": "# Mixed Linear and Non-Linear Model",
   "id": "43ad652c8e7ae1c3"
  },
  {
   "metadata": {},
   "cell_type": "markdown",
   "source": "Start by loading packages",
   "id": "df3fd346d86cf316"
  },
  {
   "metadata": {
    "ExecuteTime": {
     "end_time": "2024-04-14T21:22:13.715416Z",
     "start_time": "2024-04-14T21:22:13.708473Z"
    }
   },
   "cell_type": "code",
   "source": [
    "from math import isclose, prod, sqrt\n",
    "import matplotlib.pyplot as plot\n",
    "import numpy as np\n",
    "import random\n",
    "from random import gauss, randint, uniform\n",
    "from sklearn.linear_model import LinearRegression\n",
    "from statistics import mean"
   ],
   "id": "eaf522f4b496db37",
   "outputs": [],
   "execution_count": 42
  },
  {
   "metadata": {},
   "cell_type": "markdown",
   "source": [
    "Set constants.\n",
    "\n",
    "Set *masterSeed* to *None* to have a 3-digit seed randomly selected for each run.  \n",
    "Set it to an integer to get the sam results over and over.\n",
    "\n",
    "Sigma represents the amount of noise added to measurements of the phenotype."
   ],
   "id": "25cf6e8b76fd48f7"
  },
  {
   "metadata": {
    "ExecuteTime": {
     "end_time": "2024-04-14T21:23:07.113198Z",
     "start_time": "2024-04-14T21:23:07.094204Z"
    }
   },
   "cell_type": "code",
   "source": [
    "nGene = 4\n",
    "nSamp = 100\n",
    "\n",
    "upDownLev = 1\n",
    "\n",
    "masterSeed = 445  \n",
    "# masterSeed = None\n",
    "\n",
    "sigma = 0.1"
   ],
   "id": "de65cf9928e80a33",
   "outputs": [],
   "execution_count": 46
  },
  {
   "metadata": {
    "ExecuteTime": {
     "end_time": "2024-04-14T21:23:07.414028Z",
     "start_time": "2024-04-14T21:23:07.391422Z"
    }
   },
   "cell_type": "code",
   "source": [
    "if masterSeed is not None:\n",
    "\tseed = masterSeed\n",
    "else:\n",
    "\trandom.seed()\n",
    "\tseed = randint(0, 999)\n",
    "\t\n",
    "random.seed(seed)\n",
    "print(f'Seed = {seed}')"
   ],
   "id": "fd5623573516d08f",
   "outputs": [
    {
     "name": "stdout",
     "output_type": "stream",
     "text": [
      "Seed = 445\n"
     ]
    }
   ],
   "execution_count": 47
  },
  {
   "metadata": {},
   "cell_type": "markdown",
   "source": [
    "### Set up the problem\n",
    "\n",
    "Assume that:\n",
    "1. There is a fixed mechanism between the genotype and the phenotype.\n",
    "2. That this mechanism is the combination of a linear component and second non-linear component.\n",
    "3. That the non-linear component of the mechanism will either up-regulate or down-regulate when \n",
    "specific paris of genes are present. "
   ],
   "id": "1f5a38a64b68efa7"
  },
  {
   "metadata": {
    "ExecuteTime": {
     "end_time": "2024-04-14T21:28:12.970085Z",
     "start_time": "2024-04-14T21:28:12.960506Z"
    }
   },
   "cell_type": "code",
   "source": [
    "linWeight = [uniform(-1,1) for _ in range(nGene)]\n",
    "print(f'weights = {linWeight}')"
   ],
   "id": "ea6b80dbfd00c354",
   "outputs": [
    {
     "name": "stdout",
     "output_type": "stream",
     "text": [
      "weights = [0.6755758740988924, 0.5599450435212834, 0.7531794739603241, -0.15290104130118087]\n"
     ]
    }
   ],
   "execution_count": 50
  },
  {
   "metadata": {},
   "cell_type": "markdown",
   "source": "Create a function to evaluate the linear model (or a linear component of a mdoel)",
   "id": "fcc4da181a73e628"
  },
  {
   "metadata": {
    "ExecuteTime": {
     "end_time": "2024-04-14T18:20:37.243483Z",
     "start_time": "2024-04-14T18:20:37.218941Z"
    }
   },
   "cell_type": "code",
   "source": [
    "def LinMod(weights, genes):\n",
    "\tassert(len(weights) == len(genes))\n",
    "\tresult = sum((w*g for (w,g) in zip(weights,genes)))\n",
    "\treturn result"
   ],
   "id": "d294f3bf1083eb8a",
   "outputs": [],
   "execution_count": 5
  },
  {
   "metadata": {},
   "cell_type": "markdown",
   "source": "Create a model for up and down regulation based on pairs of genes",
   "id": "adee274271c2c6c6"
  },
  {
   "metadata": {
    "ExecuteTime": {
     "end_time": "2024-04-14T21:28:35.695135Z",
     "start_time": "2024-04-14T21:28:35.677134Z"
    }
   },
   "cell_type": "code",
   "source": [
    "def UpDownMod(geneSamp, upGroups,downGroups):\n",
    "\tresult = 0\n",
    "\tfor group in upGroups:\n",
    "\t\tif all((m and d) or not m for (m,d) in zip(geneSamp,group)):\n",
    "\t\t\tresult += upDownLev\n",
    "\tfor group in downGroups:\n",
    "\t\tif all((m and d) or not m for (m,d) in zip(geneSamp,group)):\n",
    "\t\t\tresult -= upDownLev\n",
    "\treturn result"
   ],
   "id": "22a6d7fe4a98515c",
   "outputs": [],
   "execution_count": 51
  },
  {
   "metadata": {},
   "cell_type": "markdown",
   "source": "Test *UpDownMod*",
   "id": "6caf9a876faae315"
  },
  {
   "metadata": {},
   "cell_type": "code",
   "outputs": [],
   "execution_count": null,
   "source": [
    "upGroups = [(1,1,0,0), (0,0,1,1)]\n",
    "downGroups = [(0,1,1,0), (1,0,0,1)]"
   ],
   "id": "13ab6a68bf3b8589"
  },
  {
   "metadata": {
    "ExecuteTime": {
     "end_time": "2024-04-14T18:20:37.324767Z",
     "start_time": "2024-04-14T18:20:37.292466Z"
    }
   },
   "cell_type": "code",
   "source": [
    "nCase = 2 ** nGene\n",
    "allCasesNum = tuple(\n",
    "\ttuple((num & (1 << bNum)) >> bNum for bNum in range(nGene)) \n",
    "\tfor num in range (nCase))\n",
    "\n",
    "allCasesBool = list(tuple(allCasesNum[i][j] == 1 for j in range(nGene)) for i in range(nCase))\n",
    "allCasesBool"
   ],
   "id": "3418bb9a48024d1b",
   "outputs": [
    {
     "data": {
      "text/plain": [
       "[(False, False, False, False),\n",
       " (True, False, False, False),\n",
       " (False, True, False, False),\n",
       " (True, True, False, False),\n",
       " (False, False, True, False),\n",
       " (True, False, True, False),\n",
       " (False, True, True, False),\n",
       " (True, True, True, False),\n",
       " (False, False, False, True),\n",
       " (True, False, False, True),\n",
       " (False, True, False, True),\n",
       " (True, True, False, True),\n",
       " (False, False, True, True),\n",
       " (True, False, True, True),\n",
       " (False, True, True, True),\n",
       " (True, True, True, True)]"
      ]
     },
     "execution_count": 8,
     "metadata": {},
     "output_type": "execute_result"
    }
   ],
   "execution_count": 8
  },
  {
   "metadata": {
    "ExecuteTime": {
     "end_time": "2024-04-14T18:20:37.366187Z",
     "start_time": "2024-04-14T18:20:37.324767Z"
    }
   },
   "cell_type": "code",
   "source": [
    "result = []\n",
    "for case in allCasesBool:\n",
    "\tresult.append((UpDownMod(case, upGroups,downGroups)))\n",
    "result"
   ],
   "id": "74eb124777ea4645",
   "outputs": [
    {
     "data": {
      "text/plain": [
       "[0, 0, 0, 1, 0, 0, -1, 0, 0, -1, 0, 0, 1, 0, 0, 0]"
      ]
     },
     "execution_count": 9,
     "metadata": {},
     "output_type": "execute_result"
    }
   ],
   "execution_count": 9
  },
  {
   "metadata": {},
   "cell_type": "markdown",
   "source": "Assume that each gene occurs in the population with a fixed proportion, not necessarily 1/2.",
   "id": "6e4f087d9e50b075"
  },
  {
   "metadata": {
    "ExecuteTime": {
     "end_time": "2024-04-14T18:20:37.392032Z",
     "start_time": "2024-04-14T18:20:37.366187Z"
    }
   },
   "cell_type": "code",
   "source": [
    "prev = [uniform(0,1) for _ in range(nGene)]\n",
    "print(f'Prevalence = {prev}')"
   ],
   "id": "dab70983c5e2de25",
   "outputs": [
    {
     "name": "stdout",
     "output_type": "stream",
     "text": [
      "Prevalence = [0.8899003733505119, 0.4047913222275106, 0.7377358513004266, 0.3113088768178486]\n"
     ]
    }
   ],
   "execution_count": 10
  },
  {
   "metadata": {},
   "cell_type": "markdown",
   "source": [
    "#### Generate Samples\n",
    "\n",
    "The genes combinations are selected randomly according to the (randomly selected) prevalence\n",
    "levels for the population."
   ],
   "id": "e55b96bf55196a87"
  },
  {
   "metadata": {
    "ExecuteTime": {
     "end_time": "2024-04-14T18:20:37.418808Z",
     "start_time": "2024-04-14T18:20:37.392032Z"
    }
   },
   "cell_type": "code",
   "source": [
    "geneSampBool = tuple(tuple(uniform(0,1) < p for p in prev) for _ in range(nSamp))\n",
    "print(f'1st sample = {geneSampBool[0]}')\n",
    "print(f'2nd sample = {geneSampBool[1]}')"
   ],
   "id": "545c8147a235f6b1",
   "outputs": [
    {
     "name": "stdout",
     "output_type": "stream",
     "text": [
      "1st sample = (True, False, False, False)\n",
      "2nd sample = (True, True, True, False)\n"
     ]
    }
   ],
   "execution_count": 11
  },
  {
   "metadata": {},
   "cell_type": "markdown",
   "source": "Represent the gene samples numerically (as well as logically), because sometimes it's easier to use.",
   "id": "50c80594979f80eb"
  },
  {
   "metadata": {
    "ExecuteTime": {
     "end_time": "2024-04-14T18:20:37.442802Z",
     "start_time": "2024-04-14T18:20:37.418808Z"
    }
   },
   "cell_type": "code",
   "source": [
    "geneSampNum = tuple(tuple(1 if hasGene else 0 for hasGene in samp) for samp in geneSampBool)\n",
    "print(f'1st sample = {geneSampNum[0]}')\n",
    "print(f'2nd sample = {geneSampNum[1]}')"
   ],
   "id": "22db47be4660dde8",
   "outputs": [
    {
     "name": "stdout",
     "output_type": "stream",
     "text": [
      "1st sample = (1, 0, 0, 0)\n",
      "2nd sample = (1, 1, 1, 0)\n"
     ]
    }
   ],
   "execution_count": 12
  },
  {
   "metadata": {},
   "cell_type": "markdown",
   "source": [
    "#### Generate Synthetic Measurements\n",
    "\n",
    "The ground truth for the quantity to be measured will be the sum the linear model and the up-down \n",
    "regulation model."
   ],
   "id": "7334129872d84fbc"
  },
  {
   "metadata": {
    "ExecuteTime": {
     "end_time": "2024-04-14T18:20:37.474558Z",
     "start_time": "2024-04-14T18:20:37.442802Z"
    }
   },
   "cell_type": "code",
   "source": [
    "meas = tuple(\n",
    "\tLinMod(linWeight, gn) + gauss(0,sigma) + UpDownMod(gs,upGroups,downGroups) \n",
    "\tfor (gn,gs) in zip(geneSampNum,geneSampBool))\n",
    "print(f'1st sample = {meas[0]}')\n",
    "print(f'2nd sample = {meas[1]}')"
   ],
   "id": "ffcb6d7f9f7f7dc2",
   "outputs": [
    {
     "name": "stdout",
     "output_type": "stream",
     "text": [
      "1st sample = 0.15494976847007744\n",
      "2nd sample = -0.6231084450013145\n"
     ]
    }
   ],
   "execution_count": 13
  },
  {
   "metadata": {
    "ExecuteTime": {
     "end_time": "2024-04-14T18:20:38.066856Z",
     "start_time": "2024-04-14T18:20:37.474558Z"
    }
   },
   "cell_type": "code",
   "source": [
    "fig, (ax0,ax1) = plot.subplots(1,2, figsize=(9,5))\n",
    "\n",
    "ax0.hist(meas,bins=20)\n",
    "ax0.title.set_text('Histogram of Measurements')\n",
    "\n",
    "x = [(k + 0.5)/(nSamp + 1) for k in range(nSamp)]\n",
    "ax1.plot(x,sorted(meas), 'o', ms=4, c='maroon')\n",
    "ax1.title.set_text('Cumulative Distribution Function')"
   ],
   "id": "e56a1cd9f62fb802",
   "outputs": [
    {
     "data": {
      "text/plain": [
       "<Figure size 900x500 with 2 Axes>"
      ],
      "image/png": "[encoded data removed]"
     },
     "metadata": {},
     "output_type": "display_data"
    }
   ],
   "execution_count": 14
  },
  {
   "metadata": {},
   "cell_type": "markdown",
   "source": [
    "Notice that the variance in measurements is larger, because of the up-down regulation increases \n",
    "the spread."
   ],
   "id": "5e85eaf662307b57"
  },
  {
   "metadata": {},
   "cell_type": "markdown",
   "source": "### Learn Module from (i.e., Fit Model to) the Data",
   "id": "d64b92d230844760"
  },
  {
   "metadata": {
    "ExecuteTime": {
     "end_time": "2024-04-14T18:20:38.074454Z",
     "start_time": "2024-04-14T18:20:38.066856Z"
    }
   },
   "cell_type": "code",
   "source": [
    "x = np.array(geneSampNum)\n",
    "y = np.array(meas)\n",
    "print(f'x shape = {x.shape}, y shape = {y.shape}')"
   ],
   "id": "75e6f04558250f2b",
   "outputs": [
    {
     "name": "stdout",
     "output_type": "stream",
     "text": [
      "x shape = (100, 4), y shape = (100,)\n"
     ]
    }
   ],
   "execution_count": 15
  },
  {
   "metadata": {
    "ExecuteTime": {
     "end_time": "2024-04-14T18:20:38.104123Z",
     "start_time": "2024-04-14T18:20:38.074454Z"
    }
   },
   "cell_type": "code",
   "source": [
    "reg = LinearRegression()\n",
    "reg.fit(x,y)\n",
    "\n",
    "linFit = reg.coef_\n",
    "print(f'linear model fit weights:\\n  {linFit}')\n",
    "print(f'Ture weights for linear component:\\n  {linWeight}')"
   ],
   "id": "1172b32f0a25a67",
   "outputs": [
    {
     "name": "stdout",
     "output_type": "stream",
     "text": [
      "linear model fit weights:\n",
      "  [ 0.43345783 -0.28887029 -0.25364032  0.6340592 ]\n",
      "Ture weights for linear component:\n",
      "  [0.10164352392380116, -0.5002335298078537, -0.21417753879713186, 0.9390499130926009]\n"
     ]
    }
   ],
   "execution_count": 16
  },
  {
   "metadata": {},
   "cell_type": "markdown",
   "source": [
    "Notice that the estimation of the linear model is somewhat close to the linear component\n",
    "of the model.  This is because the linear estimation is blind to the up-down component of the\n",
    "ground truth and because the effects on the up-down model tend to average out.\n",
    "\n",
    "Notice also that using a linear model to estimate the linear component of the linear model in\n",
    "the presence of the up-down phenomena is not nearly as accurate when the up-down phenomena isn't\n",
    "present.  This is because the up-down phenomena looks like noise to the linear model."
   ],
   "id": "fe5137bed53bfaa3"
  },
  {
   "metadata": {
    "ExecuteTime": {
     "end_time": "2024-04-14T18:20:38.124155Z",
     "start_time": "2024-04-14T18:20:38.104123Z"
    }
   },
   "cell_type": "code",
   "source": [
    "def RmsError(aList,bList):\n",
    "\tassert(len(aList) == len(bList))\n",
    "\tresult = sqrt(sum((a-b)**2 for (a,b) in zip(aList,bList)) / len(aList))\n",
    "\t\n",
    "\treturn result"
   ],
   "id": "4086d7449365931c",
   "outputs": [],
   "execution_count": 17
  },
  {
   "metadata": {
    "ExecuteTime": {
     "end_time": "2024-04-14T18:20:38.146658Z",
     "start_time": "2024-04-14T18:20:38.124155Z"
    }
   },
   "cell_type": "code",
   "source": "RmsError(linFit,linWeight)",
   "id": "b4e0a9d6ab35cd08",
   "outputs": [
    {
     "data": {
      "text/plain": [
       "0.24967569068511633"
      ]
     },
     "execution_count": 18,
     "metadata": {},
     "output_type": "execute_result"
    }
   ],
   "execution_count": 18
  },
  {
   "metadata": {},
   "cell_type": "markdown",
   "source": "Compute the probability of every gene combination",
   "id": "3d3741f1b032cf88"
  },
  {
   "metadata": {
    "ExecuteTime": {
     "end_time": "2024-04-14T18:20:38.166142Z",
     "start_time": "2024-04-14T18:20:38.146658Z"
    }
   },
   "cell_type": "code",
   "source": [
    "prob = tuple(prod((p if g == 1 else (1 - p) for (p,g) in zip(prev,case))) for case in allCasesNum)\n",
    "assert(isclose(sum(prob),1))"
   ],
   "id": "435a384d2abb3159",
   "outputs": [],
   "execution_count": 19
  },
  {
   "metadata": {
    "ExecuteTime": {
     "end_time": "2024-04-14T18:20:38.192018Z",
     "start_time": "2024-04-14T18:20:38.166142Z"
    }
   },
   "cell_type": "code",
   "source": [
    "def PlotColorCoded(data, upGroup,downGroup, mark='o'):\n",
    "\tredData = [d for d in data if (d[2] in upGroup)]\n",
    "\tblueData = [d for d in data if (d[2] in downGroup)]\n",
    "\tgreenData = [d for d in data if ((d[2] not in upGroup) and (d[2] not in downGroup))]\n",
    "\t\n",
    "\tredX = [d[0] for d in redData]\n",
    "\tredY = [d[1] for d in redData]\n",
    "\tplot.plot(redX, redY, mark, c='red')\n",
    "\t\t\n",
    "\tblueX = [d[0] for d in blueData]\n",
    "\tblueY = [d[1] for d in blueData]\n",
    "\tplot.plot(blueX, blueY, mark, c='blue')\n",
    "\t\n",
    "\tgreenX = [d[0] for d in greenData]\n",
    "\tgreenY = [d[1] for d in greenData]\n",
    "\tplot.plot(greenX, greenY, mark, c='green')"
   ],
   "id": "aeb3f39b9595055e",
   "outputs": [],
   "execution_count": 20
  },
  {
   "metadata": {
    "ExecuteTime": {
     "end_time": "2024-04-14T18:20:38.455550Z",
     "start_time": "2024-04-14T18:20:38.192018Z"
    }
   },
   "cell_type": "code",
   "source": [
    "x = [n for n in range(nCase)]\n",
    "data = list(zip(x,prob,allCasesNum))\n",
    "\n",
    "plot.subplots(figsize=(9,5))\n",
    "PlotColorCoded(data, upGroups, downGroups)\n",
    "\n",
    "plot.title('Probability of Occurrence')\n",
    "plot.xlabel('Gene Combination Ordinal')\n",
    "plot.ylabel('Probability')"
   ],
   "id": "5565a8fc837c081",
   "outputs": [
    {
     "data": {
      "text/plain": [
       "Text(0, 0.5, 'Probability')"
      ]
     },
     "execution_count": 21,
     "metadata": {},
     "output_type": "execute_result"
    },
    {
     "data": {
      "text/plain": [
       "<Figure size 900x500 with 1 Axes>"
      ],
      "image/png": "[encoded data removed]"
     },
     "metadata": {},
     "output_type": "display_data"
    }
   ],
   "execution_count": 21
  },
  {
   "metadata": {},
   "cell_type": "markdown",
   "source": [
    "Red markers correspond to gene combinations that yield up-regulation, the blue markers correspond\n",
    "to down-regulation, and the green markers to neither."
   ],
   "id": "b3798db67d6b8ab"
  },
  {
   "metadata": {
    "ExecuteTime": {
     "end_time": "2024-04-14T20:46:01.349548Z",
     "start_time": "2024-04-14T20:46:01.344435Z"
    }
   },
   "cell_type": "code",
   "source": [
    "linComp = tuple(LinMod(linWeight, case) for case in allCasesNum)\n",
    "estMeas = tuple(LinMod(linFit, case) for case in allCasesNum)"
   ],
   "id": "31c1b35e6e845cc6",
   "outputs": [],
   "execution_count": 33
  },
  {
   "metadata": {
    "ExecuteTime": {
     "end_time": "2024-04-14T20:46:01.877067Z",
     "start_time": "2024-04-14T20:46:01.857119Z"
    }
   },
   "cell_type": "code",
   "source": "error = [(nnm - em, p) for (nnm,em,p) in zip(linComp, estMeas, prob)]",
   "id": "c908e7b9315a0e4",
   "outputs": [],
   "execution_count": 34
  },
  {
   "metadata": {},
   "cell_type": "markdown",
   "source": "The probability weighted mean RMS error",
   "id": "e62a81f25a2e5f4c"
  },
  {
   "metadata": {
    "ExecuteTime": {
     "end_time": "2024-04-14T20:46:02.737489Z",
     "start_time": "2024-04-14T20:46:02.724275Z"
    }
   },
   "cell_type": "code",
   "source": [
    "def RmsErrorWeight(aList,bList,weight):\n",
    "\tassert((len(aList) == len(bList)) and (len(bList) == len(weight)))\n",
    "\ttotalWeight = sum(weight)\n",
    "\tresult = sqrt(sum(w * (a-b)**2 for (a,b,w) in zip(aList,bList,weight)) / totalWeight)\n",
    "\t\n",
    "\treturn result"
   ],
   "id": "91270defa2b9a2d2",
   "outputs": [],
   "execution_count": 35
  },
  {
   "metadata": {
    "ExecuteTime": {
     "end_time": "2024-04-14T20:46:02.961989Z",
     "start_time": "2024-04-14T20:46:02.940189Z"
    }
   },
   "cell_type": "code",
   "source": [
    "rmsErr = RmsErrorWeight(linComp,estMeas,prob)\n",
    "rmsErr"
   ],
   "id": "ced8209c28dfebb9",
   "outputs": [
    {
     "data": {
      "text/plain": [
       "0.32822463906736526"
      ]
     },
     "execution_count": 36,
     "metadata": {},
     "output_type": "execute_result"
    }
   ],
   "execution_count": 36
  },
  {
   "metadata": {
    "ExecuteTime": {
     "end_time": "2024-04-14T20:46:03.189420Z",
     "start_time": "2024-04-14T20:46:03.181893Z"
    }
   },
   "cell_type": "code",
   "source": "sigma/rmsErr",
   "id": "df52346e6b59aa03",
   "outputs": [
    {
     "data": {
      "text/plain": [
       "0.3046693882706224"
      ]
     },
     "execution_count": 37,
     "metadata": {},
     "output_type": "execute_result"
    }
   ],
   "execution_count": 37
  },
  {
   "metadata": {},
   "cell_type": "markdown",
   "source": [
    "Here the RMS error of the difference between the linear estimation of the linear component of \n",
    "phenomena and the actual linear component of the mechanism is a few times larger (or worse) \n",
    "than the noise in the measurements.  This is because most of the error is model mismatch."
   ],
   "id": "f4ad00cf40b743f7"
  },
  {
   "metadata": {},
   "cell_type": "markdown",
   "source": "#### Plot Measurements, the Ture Linear Component, and the Estimated/Learned Linear Component ",
   "id": "4e97aefeab9a30d2"
  },
  {
   "metadata": {
    "ExecuteTime": {
     "end_time": "2024-04-14T20:46:03.805983Z",
     "start_time": "2024-04-14T20:46:03.792565Z"
    }
   },
   "cell_type": "code",
   "source": [
    "def MeanByGroup(data, groups):\n",
    "\tresult = []\n",
    "\tfor g in groups:\n",
    "\t\tgroupData = [d for d in data if (d[1] == g)]\n",
    "\t\tif groupData: \n",
    "\t\t\tresult.append(mean(d[0] for d in groupData))\n",
    "\t\telse:\n",
    "\t\t\tresult.append(None)\n",
    "\treturn result"
   ],
   "id": "ba1d812af5acb7a1",
   "outputs": [],
   "execution_count": 38
  },
  {
   "metadata": {
    "ExecuteTime": {
     "end_time": "2024-04-14T20:46:04.039184Z",
     "start_time": "2024-04-14T20:46:04.023877Z"
    }
   },
   "cell_type": "code",
   "source": [
    "data = list(zip(meas,geneSampNum))\n",
    "meanMeas = MeanByGroup(data, allCasesNum)"
   ],
   "id": "12c7ee60d4698896",
   "outputs": [],
   "execution_count": 39
  },
  {
   "metadata": {
    "ExecuteTime": {
     "end_time": "2024-04-14T21:03:49.873439Z",
     "start_time": "2024-04-14T21:03:49.621305Z"
    }
   },
   "cell_type": "code",
   "source": [
    "x = [n for n in range(nCase)]\n",
    "\n",
    "plot.subplots(figsize=(9, 5))\n",
    "\n",
    "data = list(zip(x, linComp, allCasesNum))\n",
    "PlotColorCoded(data, upGroups, downGroups)\n",
    "\n",
    "data = list(zip(x, meanMeas, allCasesNum))\n",
    "PlotColorCoded(data, upGroups, downGroups, '*')\n",
    "\n",
    "data = list(zip(x, estMeas, allCasesNum))\n",
    "PlotColorCoded(data, upGroups, downGroups, 's')\n",
    "\n",
    "plot.xlabel('Gene Combination Ordinal')\n",
    "plot.ylabel('Quantity to be Measured')"
   ],
   "id": "37a5b6bc63b9e0e7",
   "outputs": [
    {
     "data": {
      "text/plain": [
       "Text(0, 0.5, 'Quantity to be Measured')"
      ]
     },
     "execution_count": 41,
     "metadata": {},
     "output_type": "execute_result"
    },
    {
     "data": {
      "text/plain": [
       "<Figure size 900x500 with 1 Axes>"
      ],
      "image/png": "[encoded data removed]"
     },
     "metadata": {},
     "output_type": "display_data"
    }
   ],
   "execution_count": 41
  },
  {
   "metadata": {},
   "cell_type": "markdown",
   "source": [
    "This graph shows three results for each of the 16 gene combinations:\n",
    "* Circles:  represent the measurements that would occur if only the linear mechanism \n",
    "could be measured in the absence of noise.\n",
    "* Starts:  show the mean of the actual measurements.\n",
    "* Squares:  show the estimated component of the linear model.\n",
    "\n",
    "Notice that starts and the circles are almost the same, except for the particular gene sequences \n",
    "where the either up regulation or down regulation occurs.  This is because, except in these 4 \n",
    "cases, the linear model is the only affect on the phenotype.  For combinations where up \n",
    "regulation or down regulation occur, the measurements differ from the model by plus or minus 1.\n",
    "\n",
    "Notice that the estiment of the linear component is pulled off the actual linear component by a \n",
    "significant amount (towards the mean measurements for these combinations) at each of the gene \n",
    "combinations that up regulate or down regulate.  This in turn distorts the estiment of the linear \n",
    "component even for gene combinations that aren't up or down regulated."
   ],
   "id": "1037f4aeeedfd165"
  },
  {
   "metadata": {},
   "cell_type": "markdown",
   "source": [
    "## Conclusion\n",
    "\n",
    "The details of the notebook have shown that if the mechanism linking phenotypes to genotypes is\n",
    " a mixture of linear and non-linear mechanisms, then the \"interference\" of the non-linear \n",
    " mechanism severely limits the ability to estimate the linear component (at using a linear model).\n",
    "More generally, to estimate one component in a mixed model all the module components \n",
    " must be simultaneously estimated.\n",
    "\n",
    "But the far more significant point, not explicitly stated, is fitting with a linear model \n",
    "provides no clue to the existence of the non-linear component of the model. "
   ],
   "id": "d79e2fd9a11526ad"
  }
 ],
 "metadata": {
  "kernelspec": {
   "display_name": "Python 3",
   "language": "python",
   "name": "python3"
  },
  "language_info": {
   "codemirror_mode": {
    "name": "ipython",
    "version": 2
   },
   "file_extension": ".py",
   "mimetype": "text/x-python",
   "name": "python",
   "nbconvert_exporter": "python",
   "pygments_lexer": "ipython2",
   "version": "2.7.6"
  }
 },
 "nbformat": 4,
 "nbformat_minor": 5
}

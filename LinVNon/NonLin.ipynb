{
 "cells": [
  {
   "cell_type": "markdown",
   "id": "43ad652c8e7ae1c3",
   "metadata": {},
   "source": [
    "# Mixed Linear and Non-Linear Model"
   ]
  },
  {
   "cell_type": "markdown",
   "id": "df3fd346d86cf316",
   "metadata": {},
   "source": [
    "Start by loading packages"
   ]
  },
  {
   "cell_type": "code",
   "execution_count": 23,
   "id": "eaf522f4b496db37",
   "metadata": {
    "ExecuteTime": {
     "end_time": "2024-04-14T23:28:10.815216Z",
     "start_time": "2024-04-14T23:28:10.807847Z"
    }
   },
   "outputs": [],
   "source": [
    "from math import isclose, prod, sqrt\n",
    "import matplotlib.pyplot as plot\n",
    "import numpy as np\n",
    "import random\n",
    "from random import gauss, randint, uniform\n",
    "from sklearn.linear_model import LinearRegression\n",
    "from statistics import mean"
   ],
   "id": "eaf522f4b496db37",
   "outputs": [],
   "execution_count": 30
  },
  {
   "cell_type": "markdown",
   "id": "25cf6e8b76fd48f7",
   "metadata": {},
   "source": [
    "Set constants.\n",
    "\n",
    "Set *masterSeed* to *None* to have a 3-digit seed randomly selected for each run.  \n",
    "Set it to an integer to get the sam results over and over.\n",
    "\n",
    "Sigma represents the amount of noise added to measurements of the phenotype."
   ]
  },
  {
   "cell_type": "code",
   "execution_count": 24,
   "id": "de65cf9928e80a33",
   "metadata": {
    "ExecuteTime": {
     "end_time": "2024-04-14T23:28:11.193824Z",
     "start_time": "2024-04-14T23:28:11.176045Z"
    }
   },
   "outputs": [],
   "source": [
    "nGene = 4\n",
    "nSamp = 100\n",
    "\n",
    "upDownLev = 0.8\n",
    "\n",
    "# masterSeed = 445  \n",
    "masterSeed = None\n",
    "\n",
    "sigma = 0.1"
   ],
   "id": "de65cf9928e80a33",
   "outputs": [],
   "execution_count": 31
  },
  {
   "cell_type": "markdown",
   "id": "9bffd06559179da2",
   "metadata": {},
   "source": [
    "Pick or set the seed."
   ]
  },
  {
   "cell_type": "code",
   "execution_count": 25,
   "id": "fd5623573516d08f",
   "metadata": {
    "ExecuteTime": {
     "end_time": "2024-04-14T23:28:11.244947Z",
     "start_time": "2024-04-14T23:28:11.221921Z"
    }
   },
   "outputs": [
    {
     "name": "stdout",
     "output_type": "stream",
     "text": [
      "Seed = 767\n"
     ]
    }
   ],
   "execution_count": 32
  },
  {
   "cell_type": "markdown",
   "id": "25f8c9d0bf070451",
   "metadata": {},
   "source": [
    "Enumerate all the possible gene combinations.  There are $2^n$ combinations.\n",
    "\n",
    "This enumeration of all combinations is used for testing and evaluation.  This is a luxury usually \n",
    "not available in experimental settings.  In such cases sampling of the population is used for \n",
    "testing and evaluation.\n",
    "\n",
    "*allCombNum* represents the gene combination with indicator functions (i.e., 0 or 1) and \n",
    "*allCombBool* represents the combination with booleans.  The distinction is merely to simplify \n",
    "the code."
   ]
  },
  {
   "cell_type": "code",
   "execution_count": 26,
   "id": "c4a785b00aa00f7e",
   "metadata": {
    "ExecuteTime": {
     "end_time": "2024-04-14T23:28:11.353973Z",
     "start_time": "2024-04-14T23:28:11.341518Z"
    }
   },
   "outputs": [
    {
     "data": {
      "text/plain": [
       "[(False, False, False, False),\n",
       " (True, False, False, False),\n",
       " (False, True, False, False),\n",
       " (True, True, False, False),\n",
       " (False, False, True, False),\n",
       " (True, False, True, False),\n",
       " (False, True, True, False),\n",
       " (True, True, True, False),\n",
       " (False, False, False, True),\n",
       " (True, False, False, True),\n",
       " (False, True, False, True),\n",
       " (True, True, False, True),\n",
       " (False, False, True, True),\n",
       " (True, False, True, True),\n",
       " (False, True, True, True),\n",
       " (True, True, True, True)]"
      ]
     },
     "execution_count": 33,
     "metadata": {},
     "output_type": "execute_result"
    }
   ],
   "execution_count": 33
  },
  {
   "cell_type": "markdown",
   "id": "1f5a38a64b68efa7",
   "metadata": {},
   "source": [
    "## Set up the problem\n",
    "\n",
    "Assume that:\n",
    "1. There is a fixed mechanism between the genotype and the phenotype.\n",
    "2. That this mechanism is the combination of a linear component and second non-linear component.\n",
    "3. That the non-linear component of the mechanism will either up-regulate or down-regulate when \n",
    "specific paris of genes are present. \n",
    "\n",
    "Don't become distracted by consideration of nature vs. nature, Lamarckian vs. Darwinian evolution,\n",
    " or epigenetics.  We have deliberately chosen a simple model because we think it illuminates \n",
    " procedural issues."
   ]
  },
  {
   "cell_type": "code",
   "execution_count": 27,
   "id": "ea6b80dbfd00c354",
   "metadata": {
    "ExecuteTime": {
     "end_time": "2024-04-14T23:28:11.420885Z",
     "start_time": "2024-04-14T23:28:11.413798Z"
    }
   },
   "outputs": [
    {
     "name": "stdout",
     "output_type": "stream",
     "text": [
      "Weights of the linear component = [0.6828137769936751, 0.44902049164912183, -0.785947238955746, -0.043293711395672396]\n"
     ]
    }
   ],
   "execution_count": 34
  },
  {
   "cell_type": "markdown",
   "id": "fcc4da181a73e628",
   "metadata": {},
   "source": [
    "Create a function to evaluate the linear model (or a linear component of a mdoel)"
   ]
  },
  {
   "cell_type": "code",
   "execution_count": 28,
   "id": "d294f3bf1083eb8a",
   "metadata": {
    "ExecuteTime": {
     "end_time": "2024-04-14T23:28:11.497045Z",
     "start_time": "2024-04-14T23:28:11.491998Z"
    }
   },
   "outputs": [],
   "source": [
    "def LinMod(weights, genes):\n",
    "\tassert(len(weights) == len(genes))\n",
    "\tresult = sum((w*g for (w,g) in zip(weights,genes)))\n",
    "\treturn result"
   ],
   "id": "d294f3bf1083eb8a",
   "outputs": [],
   "execution_count": 35
  },
  {
   "cell_type": "markdown",
   "id": "adee274271c2c6c6",
   "metadata": {},
   "source": [
    "Create a model for up and down regulation based on pairs of genes"
   ]
  },
  {
   "cell_type": "code",
   "execution_count": 29,
   "id": "22a6d7fe4a98515c",
   "metadata": {
    "ExecuteTime": {
     "end_time": "2024-04-14T23:28:11.572785Z",
     "start_time": "2024-04-14T23:28:11.567069Z"
    }
   },
   "outputs": [],
   "source": [
    "def UpDownModel(geneSamp, upGroups,downGroups):\n",
    "\tresult = 0\n",
    "\tfor group in upGroups:\n",
    "\t\t# if g => s is true\n",
    "\t\tif all((not g) or (g and s) for (s,g) in zip(geneSamp,group)):\n",
    "\t\t\tresult += upDownLev\n",
    "\tfor group in downGroups:\n",
    "\t\tif all((not g) or (g and s) for (s,g)  in zip(geneSamp,group)):\n",
    "\t\t\tresult -= upDownLev\n",
    "\treturn result"
   ],
   "id": "22a6d7fe4a98515c",
   "outputs": [],
   "execution_count": 36
  },
  {
   "cell_type": "markdown",
   "id": "f83d2e23f8c528e8",
   "metadata": {},
   "source": [
    "Choose 2 gene pairs that cause up-regulation and 2 genes pairs that cause down-regulation."
   ]
  },
  {
   "cell_type": "code",
   "execution_count": 30,
   "id": "64c133327536498e",
   "metadata": {
    "ExecuteTime": {
     "end_time": "2024-04-14T23:28:11.645050Z",
     "start_time": "2024-04-14T23:28:11.632365Z"
    }
   },
   "outputs": [],
   "source": [
    "upGroups = [(1,1,0,0), (0,0,1,1)]\n",
    "downGroups = [(0,1,1,0), (1,0,0,1)]"
   ],
   "id": "64c133327536498e",
   "outputs": [],
   "execution_count": 37
  },
  {
   "cell_type": "markdown",
   "id": "6caf9a876faae315",
   "metadata": {},
   "source": [
    "Test *UpDownModelel*"
   ]
  },
  {
   "cell_type": "code",
   "execution_count": 31,
   "id": "74eb124777ea4645",
   "metadata": {
    "ExecuteTime": {
     "end_time": "2024-04-14T23:28:11.720423Z",
     "start_time": "2024-04-14T23:28:11.714409Z"
    }
   },
   "outputs": [
    {
     "data": {
      "text/plain": [
       "[0, 0, 0, 0.8, 0, 0, -0.8, 0.0, 0, -0.8, 0, 0.0, 0.8, 0.0, 0.0, 0.0]"
      ]
     },
     "execution_count": 38,
     "metadata": {},
     "output_type": "execute_result"
    }
   ],
   "execution_count": 38
  },
  {
   "cell_type": "markdown",
   "id": "6e4f087d9e50b075",
   "metadata": {},
   "source": [
    "Assume that each gene occurs in the population with a fixed prevalence.  Randomly select the \n",
    "provenances of each gene."
   ]
  },
  {
   "cell_type": "code",
   "execution_count": 32,
   "id": "dab70983c5e2de25",
   "metadata": {
    "ExecuteTime": {
     "end_time": "2024-04-14T23:28:11.813213Z",
     "start_time": "2024-04-14T23:28:11.808259Z"
    }
   },
   "outputs": [
    {
     "name": "stdout",
     "output_type": "stream",
     "text": [
      "Prevalence = [0.6929945607410272, 0.2945482572284368, 0.15120078518433422, 0.3462757139362944]\n"
     ]
    }
   ],
   "execution_count": 39
  },
  {
   "cell_type": "markdown",
   "id": "e55b96bf55196a87",
   "metadata": {},
   "source": [
    "### Generate Samples\n",
    "\n",
    "The random combinations of genes according to the prevalence levels assumed in the population."
   ]
  },
  {
   "cell_type": "code",
   "execution_count": 33,
   "id": "545c8147a235f6b1",
   "metadata": {
    "ExecuteTime": {
     "end_time": "2024-04-14T23:28:11.840543Z",
     "start_time": "2024-04-14T23:28:11.834426Z"
    }
   },
   "outputs": [
    {
     "name": "stdout",
     "output_type": "stream",
     "text": [
      "1st sample = (False, False, False, True)\n",
      "2nd sample = (True, True, False, False)\n"
     ]
    }
   ],
   "execution_count": 40
  },
  {
   "cell_type": "markdown",
   "id": "50c80594979f80eb",
   "metadata": {},
   "source": [
    "Represent the gene samples numerically (as well as logically), because sometimes it's easier to use."
   ]
  },
  {
   "cell_type": "code",
   "execution_count": 34,
   "id": "22db47be4660dde8",
   "metadata": {
    "ExecuteTime": {
     "end_time": "2024-04-14T23:28:11.926074Z",
     "start_time": "2024-04-14T23:28:11.920517Z"
    }
   },
   "outputs": [
    {
     "name": "stdout",
     "output_type": "stream",
     "text": [
      "1st sample = (0, 0, 0, 1)\n",
      "2nd sample = (1, 1, 0, 0)\n"
     ]
    }
   ],
   "execution_count": 41
  },
  {
   "cell_type": "markdown",
   "id": "7334129872d84fbc",
   "metadata": {},
   "source": [
    "#### Generate Synthetic Measurements\n",
    "\n",
    "The ground truth for the phenotype attribute to be measured will be the sum the linear model and the \n",
    "up-down regulation model."
   ]
  },
  {
   "cell_type": "code",
   "execution_count": 35,
   "id": "dccce209a5be3dff",
   "metadata": {
    "ExecuteTime": {
     "end_time": "2024-04-14T23:28:11.996451Z",
     "start_time": "2024-04-14T23:28:11.989925Z"
    }
   },
   "outputs": [],
   "source": [
    "truePheno = tuple(\n",
    "\tLinMod(linCompWeight, gn) + UpDownModel(gs,upGroups,downGroups) \n",
    "\tfor (gn,gs) in zip(geneSampNum,geneSampBool)\n",
    ")"
   ],
   "id": "dccce209a5be3dff",
   "outputs": [],
   "execution_count": 42
  },
  {
   "cell_type": "code",
   "execution_count": 36,
   "id": "ffcb6d7f9f7f7dc2",
   "metadata": {
    "ExecuteTime": {
     "end_time": "2024-04-14T23:28:12.104041Z",
     "start_time": "2024-04-14T23:28:12.099003Z"
    }
   },
   "outputs": [
    {
     "name": "stdout",
     "output_type": "stream",
     "text": [
      "1st sample = -0.17924649008562912\n",
      "2nd sample = 1.9459178434051823\n"
     ]
    }
   ],
   "execution_count": 43
  },
  {
   "cell_type": "code",
   "execution_count": 37,
   "id": "e56a1cd9f62fb802",
   "metadata": {
    "ExecuteTime": {
     "end_time": "2024-04-14T23:28:12.641249Z",
     "start_time": "2024-04-14T23:28:12.133012Z"
    }
   },
   "outputs": [
    {
     "data": {
      "text/plain": [
       "Text(0, 0.5, 'Phenotype Value')"
      ]
     },
     "execution_count": 37,
     "metadata": {},
     "output_type": "execute_result"
    },
    {
     "data": {
      "image/png": "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",
      "text/plain": [
       "<Figure size 900x500 with 2 Axes>"
      ]
     },
     "metadata": {},
     "output_type": "display_data"
    }
   ],
   "source": [
    "fig, (ax0,ax1) = plot.subplots(1,2, figsize=(9,5))\n",
    "\n",
    "ax0.hist(measPheno, bins=20)\n",
    "ax0.title.set_text('Histogram of Measurements')\n",
    "ax0.set_xlabel('Phenotype Value')\n",
    "ax0.set_ylabel('Bin Count')\n",
    "\n",
    "x = [100*(k + 0.5)/(nSamp + 1) for k in range(nSamp)]\n",
    "ax1.plot(x,sorted(measPheno), 'o', ms=4, c='maroon')\n",
    "ax1.title.set_text('Cumulative Distribution Function')\n",
    "ax1.set_xlabel('Percentile')\n",
    "ax1.set_ylabel('Phenotype Value')"
   ],
   "id": "e56a1cd9f62fb802",
   "outputs": [
    {
     "data": {
      "text/plain": [
       "Text(0, 0.5, 'Phenotype Value')"
      ]
     },
     "execution_count": 44,
     "metadata": {},
     "output_type": "execute_result"
    },
    {
     "data": {
      "text/plain": [
       "<Figure size 900x500 with 2 Axes>"
      ],
      "image/png": "iVBORw0KGgoAAAANSUhEUgAAAv8AAAHWCAYAAADgsOZBAAAAOXRFWHRTb2Z0d2FyZQBNYXRwbG90bGliIHZlcnNpb24zLjguMywgaHR0cHM6Ly9tYXRwbG90bGliLm9yZy/H5lhTAAAACXBIWXMAAA9hAAAPYQGoP6dpAAB1KklEQVR4nO3deVhU1f8H8PewDYss4sKSCLgBLqC55ZJoUmaaGiqapoiaWZoLLkmmCGqolVpmkvkNrbSkGM20NHMjc19IKgQ1XH4qkBsIJCKc3x/KjZEBB5yZOzDv1/PMo3Puufd+7jBz72fOnHuOQgghQERERERENZ6Z3AEQEREREZFhMPknIiIiIjIRTP6JiIiIiEwEk38iIiIiIhPB5J+IiIiIyEQw+SciIiIiMhFM/omIiIiITASTfyIiIiIiE8Hkn4iIiIjIRDD5r+a8vLwwatQoucOo8d577z00atQI5ubmaN26tdzhEBFV2ahRo+Dl5aXTba5duxYKhQLnz5/X6Xb1Yd68eVAoFAbZV/fu3dG9e3fp+d69e6FQKPDdd98ZZP/6+FvXZKaSUzH5NyIlJ89jx45pXN69e3e0bNnysffz448/Yt68eY+9HVPx888/Y+bMmejSpQvi4uLw7rvvllt31KhRUCgUcHBwwL///ltm+ZkzZ6BQKKBQKPD+++/rM2zSwrvvvovNmzfLHQZVQ+fOncNrr72GRo0awdraGg4ODujSpQs+/PBDjZ/9msLYPjMl182Sh7W1Ndzd3dGrVy989NFHuH37tk72c+XKFcybNw9JSUk62Z4uGWNs58+fV/u7lH489dRTssZ24MABzJs3D7du3ZI1DjlZyB0APZ7U1FSYmVXuO9yPP/6IlStX8guAlnbv3g0zMzP873//g5WV1SPrW1hYID8/Hz/88ANCQkLUlq1fvx7W1ta4c+eOvsKlSnj33XcxaNAgDBgwQO5QqBrZtm0bBg8eDKVSiZEjR6Jly5a4e/cu9u/fjxkzZuDPP//E6tWr5Q5TL8r7zIwYMQJDhw6FUqmUJa7o6Gh4e3ujsLAQGRkZ2Lt3L6ZMmYKlS5diy5Yt8Pf3l+q+8847mDVrVqW2f+XKFURFRcHLy6tSv/7+/PPPldpPVVQU22effYbi4mK9x1Cel19+GS+88IJaWb169WSK5r4DBw4gKioKo0aNgpOTk9qyquRU1RGT/2pOrhPt48jLy4OdnZ3cYWgtKysLNjY2WiX+wP2/SZcuXfD111+XSf43bNiAPn36ICEhQR+hGlR+fj5sbW3lDoPIoNLT0zF06FB4enpi9+7dcHNzk5ZNmDABZ8+exbZt22SMUB7m5uYwNzeXbf+9e/dGu3btpOcRERHYvXs3+vbti379+iElJQU2NjYA7jfQWFjoN/0pOT9qe93QF0tLS1n3/+STT+KVV16RNYbKqI45VVXU/K83NdzD/dMKCwsRFRWFpk2bwtraGnXq1EHXrl2xc+dOAPe7paxcuRIA1H6GK5GXl4dp06bBw8MDSqUSPj4+eP/99yGEUNvvv//+i0mTJqFu3bqwt7dHv379cPnyZSgUCrVfFEr6Vv71118YNmwYateuja5duwIATp06hVGjRkk/m7u6umL06NG4fv262r5KtpGWloZXXnkFjo6OqFevHubMmQMhBC5duoT+/fvDwcEBrq6u+OCDD7R67e7du4f58+ejcePGUCqV8PLywttvv42CggKpjkKhQFxcHPLy8qTXau3atY/c9rBhw/DTTz+p/ax49OhRnDlzBsOGDdO4zq1btzBlyhTptW/SpAkWL15cptXm/fffR+fOnVGnTh3Y2Nigbdu2GvuP7ty5E127doWTkxNq1aoFHx8fvP3229Ly8vrolvRJ3bt3r1RW0uXs+PHj6NatG2xtbaVtFRQUIDIyEk2aNIFSqYSHhwdmzpyp9jqWvJYTJ07Et99+i+bNm8PGxgadOnVCcnIyAODTTz9FkyZNYG1tje7du2vsO3z48GE8//zzcHR0hK2tLQIDA/Hbb7+p1Sl5v5w9e1Zq2XF0dERYWBjy8/PV4snLy8O6deukv23JZ+n27duYMmUKvLy8oFQqUb9+fTz77LM4ceKExr8dmY4lS5YgNzcX//vf/9QS/xJNmjTB5MmTAfzX9UHTOaO8c2VVz3OV+Txros15paLPzMP779u3Lxo1aqRxX506dVJL1AHgq6++Qtu2bWFjYwNnZ2cMHToUly5dqjDmR3nmmWcwZ84cXLhwAV999ZVUrqnPf0Xny71796J9+/YAgLCwsDLXgorOjw/3+S9RVFSEt99+G66urrCzs0O/fv3KHG95/c9Lb/NRsWnq86/tdb7knL1582a0bNkSSqUSLVq0wPbt2zW/4JVU3mvzcMwln6P3338fq1evlq7Z7du3x9GjR8usf/r0aYSEhKBevXqwsbGBj48PZs+eDeD+337GjBkAAG9vb+n1KnnfanrN//77bwwePBjOzs6wtbXFU089VeYLfsnnLD4+HgsXLkSDBg1gbW2Nnj174uzZs1V/kfSELf9GKDs7G9euXStTXlhY+Mh1582bh5iYGIwdOxYdOnRATk4Ojh07hhMnTuDZZ5/Fa6+9hitXrmDnzp348ssv1dYVQqBfv37Ys2cPxowZg9atW2PHjh2YMWMGLl++jGXLlkl1R40ahfj4eIwYMQJPPfUU9u3bhz59+pQb1+DBg9G0aVO8++670glm586d+PvvvxEWFgZXV1fpp/I///wThw4dKnNyHjJkCPz8/LBo0SJs27YNCxYsgLOzMz799FM888wzWLx4MdavX4/p06ejffv26NatW4Wv1dixY7Fu3ToMGjQI06ZNw+HDhxETE4OUlBRs2rQJAPDll19i9erVOHLkCNasWQMA6Ny58yP/DsHBwRg/fjxUKhVGjx4N4H6rv6+vL5588sky9fPz8xEYGIjLly/jtddeQ8OGDXHgwAFERETg6tWrWL58uVT3ww8/RL9+/TB8+HDcvXsX33zzDQYPHoytW7dKf4M///wTffv2hb+/P6Kjo6FUKnH27NkyiXJlXL9+Hb1798bQoUPxyiuvwMXFBcXFxejXrx/279+PcePGwc/PD8nJyVi2bBnS0tLK9A3+9ddfsWXLFkyYMAEAEBMTg759+2LmzJn45JNP8MYbb+DmzZtYsmQJRo8ejd27d0vr7t69G71790bbtm0RGRkJMzMzxMXF4ZlnnsGvv/6KDh06qO0rJCQE3t7eiImJwYkTJ7BmzRrUr18fixcvBnD/b1vyORk3bhwAoHHjxgCA8ePH47vvvsPEiRPRvHlzXL9+Hfv370dKSorGvx+Zjh9++AGNGjXS6jxQFbo+z2lLm/NKRZ8ZTccxcuRIHD16VEpOAeDChQs4dOgQ3nvvPals4cKFmDNnDkJCQjB27Fj8888/WLFiBbp164aTJ0+W6ZpRGSNGjMDbb7+Nn3/+Ga+++qrGOo86X/r5+SE6Ohpz587FuHHj8PTTTwNQvxZoOj9WZOHChVAoFHjrrbeQlZWF5cuXIygoCElJSdIvFNrQJrbSKnOdB4D9+/dDpVLhjTfegL29PT766CMMHDgQFy9eRJ06dR4ZX35+fpl8xtHRsUq/SGzYsAG3b9/Ga6+9BoVCgSVLliA4OBh///23tL1Tp07h6aefhqWlJcaNGwcvLy+cO3cOP/zwAxYuXIjg4GCkpaXh66+/xrJly1C3bl0A5XdFyszMROfOnZGfn49JkyahTp06WLduHfr164fvvvsOL730klr9RYsWwczMDNOnT0d2djaWLFmC4cOH4/Dhw5U+Xr0SZDTi4uIEgAofLVq0UFvH09NThIaGSs8DAgJEnz59KtzPhAkThKY//ebNmwUAsWDBArXyQYMGCYVCIc6ePSuEEOL48eMCgJgyZYpavVGjRgkAIjIyUiqLjIwUAMTLL79cZn/5+fllyr7++msBQCQmJpbZxrhx46Sye/fuiQYNGgiFQiEWLVokld+8eVPY2NiovSaaJCUlCQBi7NixauXTp08XAMTu3bulstDQUGFnZ1fh9jTVHTRokOjZs6cQQoiioiLh6uoqoqKiRHp6ugAg3nvvPWm9+fPnCzs7O5GWlqa2vVmzZglzc3Nx8eJFqezh1+3u3buiZcuW4plnnpHKli1bJgCIf/75p9xYS95v6enpauV79uwRAMSePXukssDAQAFAxMbGqtX98ssvhZmZmfj111/VymNjYwUA8dtvv0llAIRSqVTb36effioACFdXV5GTkyOVR0REqMVWXFwsmjZtKnr16iWKi4vVXgtvb2/x7LPPSmUl75fRo0erxfTSSy+JOnXqqJXZ2dlpfK84OjqKCRMmlCkn05adnS0AiP79+2tVv+SzHhcXV2ZZeefKqp7nKvN5Dg0NFZ6enmr1tDmvCFH+Z+bh/WdnZwulUimmTZumVm/JkiVCoVCICxcuCCGEOH/+vDA3NxcLFy5Uq5ecnCwsLCzKlJe336NHj5Zbx9HRUbRp00Z6XvJal9DmfHn06NFy/5blnR9LlgUGBkrPS/4eTzzxhNo5Lz4+XgAQH374oVT28PW9vG1WFNvDf2ttr/NC3H+PWllZqZX9/vvvAoBYsWJFmX2VVvLe1/QoeS8+fBzlxVyyrTp16ogbN25I5d9//70AIH744QeprFu3bsLe3l56f5Uofd147733NH5WhCj7mk+ZMkUAULvG3b59W3h7ewsvLy9RVFQkhPjv7+rn5ycKCgqkuh9++KEAIJKTkyt8vQyN3X6M0MqVK7Fz584yj9I3LJXHyckJf/75J86cOVPp/f74448wNzfHpEmT1MqnTZsGIQR++uknAJB+8nvjjTfU6r355pvlbnv8+PFlykq3bty5cwfXrl2TRgHQ1L1i7Nix0v/Nzc3Rrl07CCEwZswYqdzJyQk+Pj74+++/y40FuH+sABAeHq5WPm3aNADQSZ/dYcOGYe/evcjIyMDu3buRkZFRbpefb7/9Fk8//TRq166Na9euSY+goCAUFRUhMTFRqlv6dbt58yays7Px9NNPq71mJS1l33//vc5u9lIqlQgLCysTt5+fH3x9fdXifuaZZwAAe/bsUavfs2dPtZ9zO3bsCAAYOHAg7O3ty5SX/B2TkpKkLlPXr1+X9pOXl4eePXsiMTGxzHE+/J57+umncf36deTk5DzyWJ2cnHD48GFcuXLlkXXJdJS8d0q/V3VNl+e5ytDmvFIZDg4O6N27N+Lj49W6k2zcuBFPPfUUGjZsCABQqVQoLi5GSEiI2jnE1dUVTZs2LXMOqYpatWpVOOqPLs6Xms6PFRk5cqTa+2jQoEFwc3OTrk36ou11vkRQUJDarzv+/v5wcHDQ+r03bty4MrlMQEBAlWIfMmQIateuLT0v+ZWjJJZ//vkHiYmJGD16tPT+KlHVoV1//PFHdOjQQequDNx/P40bNw7nz5/HX3/9pVY/LCxM7T6Ph2M0Fuz2Y4Q6dOhQpj8kACkxrEh0dDT69++PZs2aoWXLlnj++ecxYsQIrb44XLhwAe7u7mUubH5+ftLykn/NzMzg7e2tVq9JkyblbvvhugBw48YNREVF4ZtvvkFWVpbasuzs7DL1H/4wOzo6wtraWvrZrnT5w/cNPKzkGB6O2dXVFU5OTtKxPo4XXngB9vb22LhxI5KSktC+fXs0adJEY1/2M2fO4NSpU+X+9Fj69dm6dSsWLFiApKSkMvcnlBgyZAjWrFmDsWPHYtasWejZsyeCg4MxaNCgKo9k8MQTT5S5ee3MmTNISUnRKm5A898QADw8PDSW37x5U9oPAISGhpYbX3Z2ttqF4eF9lSy7efMmHBwcyt0OcL9fd2hoKDw8PNC2bVu88MILGDlyZLl9mMk0lLxvdDV8pCa6PM9VhjbnlcoaMmQINm/ejIMHD6Jz5844d+4cjh8/rtaN8cyZMxBCoGnTphq3oYsbVnNzc1G/fv0K43zc86Wm82NFHj5ehUJR7vVBl7S9zpd4+P0I3D+XlpybH6Vp06YICgqqYrTqKjqnA/8l2LoYEr3EhQsXpMao0kq/XqX396gYjQWT/xqmW7duOHfuHL7//nv8/PPPWLNmDZYtW4bY2Fi1FiVD09SHMSQkBAcOHMCMGTPQunVr1KpVC8XFxXj++ec1tr5oGkmivNElSrc0VUSfE70olUoEBwdj3bp1+PvvvyscWrW4uBjPPvssZs6cqXF5s2bNANzvM9+vXz9069YNn3zyCdzc3GBpaYm4uDhs2LBBqm9jY4PExETs2bMH27Ztw/bt27Fx40Y888wz+Pnnn2Fubl7usRcVFWks1/Q3LC4uRqtWrbB06VKN6zyc1Jf393rU37Hk/fDee++VO8xerVq1KrXNioSEhODpp5/Gpk2b8PPPP+O9997D4sWLoVKp0Lt370euTzWTg4MD3N3d8ccff2hVv7KfMaDq57mq7KuEtueVynrxxRdha2uL+Ph4dO7cGfHx8TAzM8PgwYOlOsXFxVAoFPjpp580HufDn+vK+r//+z9kZ2dX2DilzfnyUSrTT19bFf1NDTWy0uNeYyuiUCg0bqe896w+Y9GV6hAjwOS/RnJ2dkZYWBjCwsKQm5uLbt26Yd68eVLyX94JxdPTE7/88gtu376t1ipw+vRpaXnJv8XFxUhPT1drvajMHe03b97Erl27EBUVhblz50rlVemuVBUlx3DmzBnpGzxw/+aeW7duScf6uIYNG4bPP/8cZmZmGDp0aLn1GjdujNzc3Ee2kCQkJMDa2ho7duxQG5IsLi6uTF0zMzP07NkTPXv2xNKlS/Huu+9i9uzZ2LNnD4KCgqQWiYcnOqnMrx6NGzfG77//jp49e+r1i1TJz84ODg46a0UCKv7y5+bmhjfeeANvvPEGsrKy8OSTT2LhwoVM/k1c3759sXr1ahw8eBCdOnWqsK4uPmPaepx9Vea8UpnPuZ2dHfr27Ytvv/0WS5cuxcaNG/H000/D3d1dqtO4cWMIIeDt7S01cuhSycAWvXr1qrDeo86Xuj6/PXytE0Lg7Nmzar/S165dW+NEVBcuXFD7FbIysWl7nTeE2rVra+wOU9XPR8lr8qgv55V9vVJTU8uUy/F66RL7/NcwD/8MXKtWLTRp0kTtZ9ySMfYfPqm88MILKCoqwscff6xWvmzZMigUCinpKTmJfvLJJ2r1VqxYoXWcJd+OH/42XPrnYH0qmXTk4f2VtGBXNHJRZfTo0QPz58/Hxx9/DFdX13LrhYSE4ODBg9ixY0eZZbdu3cK9e/cAQGqxL90ycv78+TKj6ty4caPMdkpazEveCyUJden7CYqKiio1OVFISAguX76Mzz77rMyyf//9F3l5eVpvqyJt27ZF48aN8f777yM3N7fM8n/++adK27WzsyvzOSgqKirT7ax+/fpwd3cvM3wpmZ6ZM2fCzs4OY8eORWZmZpnl586dw4cffgjg/pfVunXrqn3GgLLnTl14nM+ztucVQPNnpiJDhgzBlStXsGbNGvz+++8YMmSI2vLg4GCYm5sjKiqqzPVACPFYXZt2796N+fPnw9vbG8OHDy+3njbny/Kum1X1xRdfqHUf++6773D16lW1xoXGjRvj0KFDuHv3rlS2devWMkOCViY2ba/zhtC4cWOcPn1a7fz9+++/V3lUunr16qFbt274/PPPcfHiRbVlpd9blX29jhw5goMHD0pleXl5WL16Nby8vNC8efMqxSo3tvzXMM2bN0f37t3Rtm1bODs749ixY9KQhSXatm0LAJg0aRJ69eoFc3NzDB06FC+++CJ69OiB2bNn4/z58wgICMDPP/+M77//HlOmTJEuLm3btsXAgQOxfPlyXL9+XRrqMy0tDYB236odHBzQrVs3LFmyBIWFhXjiiSfw888/Iz09XQ+vSlkBAQEIDQ3F6tWrcevWLQQGBuLIkSNYt24dBgwYgB49euhkP2ZmZnjnnXceWW/GjBnYsmUL+vbti1GjRqFt27bIy8tDcnIyvvvuO5w/fx5169ZFnz59sHTpUjz//PMYNmwYsrKysHLlSjRp0gSnTp2SthcdHY3ExET06dMHnp6eyMrKwieffIIGDRpINy61aNECTz31FCIiInDjxg04Ozvjm2++kb5oaGPEiBGIj4/H+PHjsWfPHnTp0gVFRUU4ffo04uPjsWPHDo33r1SWmZkZ1qxZg969e6NFixYICwvDE088gcuXL2PPnj1wcHDADz/8UOnttm3bFr/88guWLl0Kd3d3eHt7w8fHBw0aNMCgQYMQEBCAWrVq4ZdffsHRo0e1nkOCaq7GjRtjw4YN0pCcpWf4PXDgAL799lu1ccLHjh2LRYsWYezYsWjXrh0SExOlc6UuPc7nWdvzCqD5M6OpT3SJknufpk+fDnNzcwwcOFBteePGjbFgwQJERETg/PnzGDBgAOzt7ZGeno5NmzZh3LhxmD59+iOP4aeffsLp06dx7949ZGZmYvfu3di5cyc8PT2xZcsWWFtbl7uuNufLxo0bw8nJCbGxsbC3t4ednR06duyo8X42bTg7O6Nr164ICwtDZmYmli9fjiZNmqgNRzp27Fh89913eP755xESEoJz587hq6++KjO8amVi0/Y6bwijR4/G0qVL0atXL4wZMwZZWVmIjY1FixYttBqYQZOPPvoIXbt2xZNPPolx48bB29sb58+fx7Zt25CUlATgvxxo9uzZGDp0KCwtLfHiiy9qnHx01qxZ+Prrr9G7d29MmjQJzs7OWLduHdLT05GQkFB9ZwM27OBCVJFHDVkWGBj4yKE+FyxYIDp06CCcnJyEjY2N8PX1FQsXLhR3796V6ty7d0+8+eabol69ekKhUKgNeXb79m0xdepU4e7uLiwtLUXTpk3Fe++9pzZMlhBC5OXliQkTJghnZ2dRq1YtMWDAAJGamioAqA1JVzKkmqYh1P7v//5PvPTSS8LJyUk4OjqKwYMHiytXrpQ7BN7D2yhvCE5Nr5MmhYWFIioqSnh7ewtLS0vh4eEhIiIixJ07d7Tajyba1NU01KcQ91/7iIgI0aRJE2FlZSXq1q0rOnfuLN5//321v9///vc/0bRpU6FUKoWvr6+Ii4srM3Tdrl27RP/+/YW7u7uwsrIS7u7u4uWXXy4zlOi5c+dEUFCQUCqVwsXFRbz99tti586dGof6LO81vXv3rli8eLFo0aKFUCqVonbt2qJt27YiKipKZGdnS/UAlBk+s7zXomTYtG+//Vat/OTJkyI4OFjUqVNHKJVK4enpKUJCQsSuXbukOuW9XzQNhXj69GnRrVs3YWNjIwCI0NBQUVBQIGbMmCECAgKEvb29sLOzEwEBAeKTTz7RePxkmtLS0sSrr74qvLy8hJWVlbC3txddunQRK1asUDuH5OfnizFjxghHR0dhb28vQkJCRFZWll7Oc9p+njUN9anNeUUIzZ8ZIcofalQIIYYPHy4AiKCgoHJfz4SEBNG1a1dhZ2cn7OzshK+vr5gwYYJITU0td53S+y15WFlZCVdXV/Hss8+KDz/8UG04zRJVPV9+//33onnz5sLCwkJtaM2Kzo/lDfX59ddfi4iICFG/fn1hY2Mj+vTpU2Z4SiGE+OCDD8QTTzwhlEql6NKlizh27JjGITLLi03T31rb67ymc7YQ5Q9BWlp55/aHffXVV6JRo0bCyspKtG7dWuzYsaPcoT41bevhz5EQQvzxxx9SbmFtbS18fHzEnDlz1OrMnz9fPPHEE8LMzEztfavp2M6dOycGDRokba9Dhw5i69atanXKu2ZVNNyvnBRCGNldCFRtJSUloU2bNvjqq68q/ImViIiIiORRTX+vILn9+++/ZcqWL18OMzMznc04SURERES6xT7/VCVLlizB8ePH0aNHD1hYWOCnn37CTz/9hHHjxpUZ3pGIiIiIjAO7/VCV7Ny5E1FRUfjrr7+Qm5uLhg0bYsSIEZg9ezYsLPidkoiIiMgYMfknIiIiIjIR7PNPRERERGQimPwTEREREZmIGt85u7i4GFeuXIG9vb3Op+cmIjI2Qgjcvn0b7u7u1XcCmiri+Z6ITE1Vzvk1Pvm/cuUKR58hIpNz6dIlNGjQQO4wDIrneyIyVZU559f45N/e3h7A/RfFwcFB5miIiPQrJycHHh4e0rnPlPB8T0Smpirn/Bqf/Jf89Ovg4MCLARGZDFPs9sLzPRGZqsqc802rQygRERERkQlj8k9EREREZCKY/BMRERERmQgm/0REREREJoLJPxERERGRiWDyT0RERERkIpj8ExERERGZCCb/REREREQmgsk/EREREZGJYPJPRERERGQimPwTEREREZkIJv9ERERERDJIUakQGxCABTY2iA0IQIpKpfd9MvknIiIiIjKwFJUK8QMHIjM5GUV37iAzORnxAwfq/QsAk38iIiIiIgPbFxUFKBSAEPcLhAAUCuyLjtbrfpn8ExEREREZ2LW0tP8S/xJC4Hpqql73a6HXrRNRlXjN2lal9c4v6qPjSIiIiEgf6jZrhszkZPUvAAoF6vj46HW/bPknIiIiIjKwwMhIqasPAKkLUGBkpF73y+SfiIiIiMjA/IKDEZKQABd/f1hYW8PF3x8hKhX8XnpJr/tltx8iIiIiIhn4BQfDLzjYoPtkyz8RERERkYlg8k9EREREZCKY/BMRERERmQgm/0REREREJoLJPxERERGRiWDyT0RERERkIpj8ExEREREZSIpKhdiAACywsUFsQABSVCqD7p/j/BMRERER6VGKSoV9UVH4JyUFxYWF0my+mcnJiB84ECEJCQYb758t/0REpHMxMTFo37497O3tUb9+fQwYMACpqamPXO/bb7+Fr68vrK2t0apVK/z4448GiJaISH9SVCrEDxyIzOTk+4k/AAjx378KBfZFRxssHib/RESkc/v27cOECRNw6NAh7Ny5E4WFhXjuueeQl5dX7joHDhzAyy+/jDFjxuDkyZMYMGAABgwYgD/++MOAkRMR6UZJ9574QYPuF5Qk/A8TAte1aBzRFYUQ5UVSM+Tk5MDR0RHZ2dlwcHCQOxwirXjN2lal9c4v6qPjSKi6MdZz3j///IP69etj37596Natm8Y6Q4YMQV5eHrZu3SqVPfXUU2jdujViY2MfuQ9jPXYiMj0lrf0l3XsqpFDAxd8f45OSKr2fqpz32PJPRER6l52dDQBwdnYut87BgwcRFBSkVtarVy8cPHhQY/2CggLk5OSoPYiI5KR1a3+JB18OAiMj9R/cA0z+iYhIr4qLizFlyhR06dIFLVu2LLdeRkYGXFxc1MpcXFyQkZGhsX5MTAwcHR2lh4eHh07jJiKqjNJ9+x+Z9AMws7SEi78/QlQq+L30kgEivI+j/RARkV5NmDABf/zxB/bv36/T7UZERCA8PFx6npOTwy8ARCSbfVFRj+7m86CLT2BkpEET/tJkbflPTEzEiy++CHd3dygUCmzevLlMnZSUFPTr1w+Ojo6ws7ND+/btcfHiRcMHS0RElTZx4kRs3boVe/bsQYMGDSqs6+rqiszMTLWyzMxMuLq6aqyvVCrh4OCg9iAikkOKSlVxi79CAQAISUjA+KQk2RJ/QOaW/7y8PAQEBGD06NEI1jC26blz59C1a1eMGTMGUVFRcHBwwJ9//glra2sZoiUiIm0JIfDmm29i06ZN2Lt3L7y9vR+5TqdOnbBr1y5MmTJFKtu5cyc6deqkx0iJiCpWMkb/tbQ01HrQNTE3M1P6/+0rV/4bwlMTI2jtL03W5L93797o3bt3uctnz56NF154AUuWLJHKGjdubIjQiIjoMUyYMAEbNmzA999/D3t7e6nfvqOjI2xsbAAAI0eOxBNPPIGYmBgAwOTJkxEYGIgPPvgAffr0wTfffINjx45h9erVsh0HEZmm8iblyr5wQapT+v8VCUlIMIqkv4TR9vkvLi7Gtm3bMHPmTPTq1QsnT56Et7c3IiIiMGDAgHLXKygoQEFBgfScoz8QERneqlWrAADdu3dXK4+Li8OoUaMAABcvXoSZ2X+9Tzt37owNGzbgnXfewdtvv42mTZti8+bNFd4kTET0ODS16kst+aX771dlZHyFwugSf8CIk/+srCzk5uZi0aJFWLBgARYvXozt27cjODgYe/bsQWBgoMb1YmJiEBUVZeBoiYioNG2mkNm7d2+ZssGDB2Pw4MF6iIiI6D5tWvUBVC3hL/Ggq4+xJf6AESf/xcXFAID+/ftj6tSpAIDWrVvjwIEDiI2NLTf55+gPRERERKSJxsm3dD3frQxj91eG0Sb/devWhYWFBZo3b65W7ufnV+FwcUqlEkqlUt/hEREREVE1UdLan5mcfL9A1wn/A2aWlqjXvLnR3NyridEm/1ZWVmjfvj1SU1PVytPS0uDp6SlTVERERERUnWhs7a8CM0tL2Lu7AwoF8jIyYOfiIv2/jo+PUSf8pcma/Ofm5uLs2bPS8/T0dCQlJcHZ2RkNGzbEjBkzMGTIEHTr1g09evTA9u3b8cMPP2jsJ0pERERE9DCtJt8qR3Voya8sWZP/Y8eOoUePHtLzkr76oaGhWLt2LV566SXExsYiJiYGkyZNgo+PDxISEtC1a1e5QiYiIiKiauRaWtojE/+HW/WrU0t+Zcma/Hfv3v2RI0KMHj0ao0ePNlBERERERFST1G3WTPPsu0Y2+ZahmD26ChERERFR9RQYGXk/8Vco7hc8+DckIQHjk5JMKvEHmPwTERERUQ3mFxyMkIQEuPj7w8LaGi7+/ghRqUwu6S9htKP9EBERERHpgl9wMPyCg+UOwyiw5Z+IiIiIyEQw+SciIiIiMhFM/omIiIiITASTfyIiIiIiE8Hkn4iIiIjIRDD5JyIiIiIyEUz+iYiIiIhMBJN/IiIiIiITweSfiIiIiMhEMPknIiIiIjIRTP6JiIiIiEyEhdwBkGnymrXN4Ps8v6iPwfdJRERE8khRqbAvKgrX0tJQt1kzBEZGwi84WO6wZMeWfyIiIiKqUVJUKsQPHIjM5GQU3bmDzORkxA8ciBSVSu7QZMfkn4iIiIhqlH1RUYBCAQhxv0AIQKHAvuhoeQMzAkz+iYiIiKhGuZaW9l/iX0IIXE9NlScgI8Lkn4iIiIhqlLrNmt1v+S9NoUAdHx95AjIiTP6JiIiIqEYJjIyUuvoAkLoABUZGyhuYEWDyT0REREQ1il9wMEISEuDi7w8La2u4+PsjRKWC30svyR2a7DjUJxERERHVOH7BwRzaUwO2/BMRERERmQgm/0REREREJoLJPxERERGRiWDyT0RERERkIpj8ExERERGZCCb/REREREQmgsk/EREREZGJYPJPRERERGQimPwTEREREZkIJv9ERERERCZC1uQ/MTERL774Itzd3aFQKLB58+Zy644fPx4KhQLLly83WHxERERERDWJrMl/Xl4eAgICsHLlygrrbdq0CYcOHYK7u7uBIiMiIiIiqnlkTf579+6NBQsW4KWXXiq3zuXLl/Hmm29i/fr1sLS0NGB0RERUVZX5ZRcA9u7dC4VCUeaRkZFhmICJiEyEhdwBVKS4uBgjRozAjBkz0KJFC63WKSgoQEFBgfQ8JydHX+EREVE5Sn7ZHT16NIKDg7VeLzU1FQ4ODtLz+vXr6yM8IiKTZdTJ/+LFi2FhYYFJkyZpvU5MTAyioqL0GBURET1K79690bt370qvV79+fTg5Oek+ICIiAmDEo/0cP34cH374IdauXQuFQqH1ehEREcjOzpYely5d0mOURESkS61bt4abmxueffZZ/PbbbxXWLSgoQE5OjtqDiIgqZrTJ/6+//oqsrCw0bNgQFhYWsLCwwIULFzBt2jR4eXmVu55SqYSDg4Pag4iIjJubmxtiY2ORkJCAhIQEeHh4oHv37jhx4kS568TExMDR0VF6eHh4GDBiIqLqyWi7/YwYMQJBQUFqZb169cKIESMQFhYmU1RERKQPPj4+8PHxkZ537twZ586dw7Jly/Dll19qXCciIgLh4eHS85ycHH4BICJ6BFmT/9zcXJw9e1Z6np6ejqSkJDg7O6Nhw4aoU6eOWn1LS0u4urqqXSCIiKhm6tChA/bv31/ucqVSCaVSacCIiIiqP1mT/2PHjqFHjx7S85IWnNDQUKxdu1amqIiIyBgkJSXBzc1N7jCIiGoUWZP/7t27Qwihdf3z58/rLxgiItKZR/2yGxERgcuXL+OLL74AACxfvhze3t5o0aIF7ty5gzVr1mD37t34+eef5ToEIqIayWj7/BMRUfX1qF92r169iosXL0rL7969i2nTpuHy5cuwtbWFv78/fvnlF7VtEBHR42PyT0REOveoX3Yf7to5c+ZMzJw5U89RERGR0Q71SUREREREusXkn4iIiIjIRDD5JyIiIiIyEUz+iYiIiIhMBJN/IiIiIiITweSfiIiIiMhEMPknIiIiIjIRTP6JiIiIiEwEk38iIiIiIhPB5J+IiIiIyEQw+SciIiIiMhFM/omIiIiITASTfyIiIiIiE8Hkn4iIiIjIRDD5JyIiIiIyEUz+iYiIiIhMBJN/IiIiIiITweSfiIiIiMhEMPknIiIiIjIRTP6JiIiIiEwEk38iIiIiIhPB5J+IiIiIyEQw+SciIiIiMhFM/omIiIiITASTfyIiIiKqEVJUKsQGBGCBjQ1iAwKQolLJHZLRYfJPRERERNVeikqF+IEDkZmcjKI7d5CZnIz4gQP5BeAhTP6JiIiIqFpLUamgGj78/hMh/vtXocC+6Gj5AjNCFnIHQERERERUVSUt/hoJgeupqYYNyMix5Z+IiIiIqq19UVGAQqF5oUKBOj4+hg3IyDH5JyIiIqJq61pa2n9dfR4mBAIjIw0bkJGTNflPTEzEiy++CHd3dygUCmzevFlaVlhYiLfeegutWrWCnZ0d3N3dMXLkSFy5ckW+gImIiIjIKJSM7FNUUKBxuYW1NUJUKvi99JKBIzNusib/eXl5CAgIwMqVK8ssy8/Px4kTJzBnzhycOHECKpUKqamp6NevnwyREhEREZGxKD2yT5lW/wddgII3bGDir4GsN/z27t0bvXv31rjM0dERO3fuVCv7+OOP0aFDB1y8eBENGzY0RIhEREREZCRSVCrsi4q6n/QDGhN/F39/BEZGMvEvR7Ua7Sc7OxsKhQJOTk7l1ikoKEBBqZ9/cnJyDBAZEREREemTNKqPQlFuH38LpRLjk5IMG1g1U21u+L1z5w7eeustvPzyy3BwcCi3XkxMDBwdHaWHh4eHAaMkIiIiIl0q6dsfP2jQ/YLybu7lyD5aqRbJf2FhIUJCQiCEwKpVqyqsGxERgezsbOlx6dIlA0VJRERERLpUYd/+0h78GsCRfR7N6Lv9lCT+Fy5cwO7duyts9QcApVIJpVJpoOiIiIiISNce2be/NPbzrxSjTv5LEv8zZ85gz549qFOnjtwhEREREZEeadO3H4C0PCQhgUl/Jcia/Ofm5uLs2bPS8/T0dCQlJcHZ2Rlubm4YNGgQTpw4ga1bt6KoqAgZGRkAAGdnZ1hZWckVNhERERHpiTRjL1v79ULWPv/Hjh1DmzZt0KZNGwBAeHg42rRpg7lz5+Ly5cvYsmUL/u///g+tW7eGm5ub9Dhw4ICcYRMR0SNUNIljefbu3Ysnn3wSSqUSTZo0wdq1a/UeJxEZnwpn7H0whn9IQgLGJyUx8a8CWVv+u3fvDlHBt7qKlhERkfEqmcRx9OjRCA4OfmT99PR09OnTB+PHj8f69euxa9cujB07Fm5ubujVq5cBIiYiY1G3WbNyJ+9ia//jM+o+/0REVD1VNImjJrGxsfD29sYHH3wAAPDz88P+/fuxbNkyJv9EJiYwMlK9zz/79utUtRjqk4iIaraDBw8iKChIraxXr144ePBguesUFBQgJydH7UFE1Z9fcDBCEhLg4u8PC2truPj7I0SlYuKvI2z5JyIi2WVkZMDFxUWtzMXFBTk5Ofj3339hY2NTZp2YmBhERUUZKkQiMiC/4GD4adFlkCqPLf9ERDXcr7/+ildeeQWdOnXC5cuXAQBffvkl9u/fL3Nkj4eTOhIRVR6TfyKiGiwhIQG9evWCjY0NTp48iYKCAgBAdnY23n33XZmj+4+rqysyMzPVyjIzM+Hg4KCx1R+4P6mjg4OD2oOIqq8UlQqxAQFYYGOD2IAApKhUcodUIzH5JyKqwRYsWIDY2Fh89tlnsLS0lMq7dOmCEydOyBiZuk6dOmHXrl1qZTt37kSnTp1kioiIDKlkYq/M5GQU3bmDzORkxA8cyC8AesDkn4ioBktNTUW3bt3KlDs6OuLWrVt6229ubi6SkpKQlJQE4L9JHC9evAjgfpedkSNHSvXHjx+Pv//+GzNnzsTp06fxySefID4+HlOnTtVbjERkPMpM7PVglJ990dHyBlYDMfknIqrBXF1d1WZSL7F//340atRIb/utaBJHALh69ar0RQAAvL29sW3bNuzcuRMBAQH44IMPsGbNGg7zSVTDlXT1yTx1quy4/kLgemqqPIHVYBzth4ioBnv11VcxefJkfP7551AoFLhy5QoOHjyI6dOnY86cOXrb76MmcdQ0e2/37t1x8uRJvcVERMalpKtPyay9ZSgUqOPjY9igTACTfyKiGmzWrFkoLi5Gz549kZ+fj27dukGpVGL69Ol488035Q6PiExYma4+pT0oD4yMNHxgNRyTfyKiGkyhUGD27NmYMWMGzp49i9zcXDRv3hy1atWSOzQiMnHX0tI0J/4AXPz9ERgZyYm99IDJPxGRCbCyskLz5s3lDoOISFK3WTNkJierfwFQKODi74/xDwYLIN1j8k9EVIP16NEDivL60wLYvXu3AaMhIvpPYGTkf33+H4zuw64++sfRfoiIarDWrVsjICBAejRv3hx3797FiRMn0KpVK7nDIyIT5hccjJCEBLj4+8PC2hou/v4IUanY1UfP2PJPRFSDLVu2TGP5vHnzkJuba+BoiIjU+QUHwy84WO4wTApb/omITNArr7yCzz//XO4wiIjIwJj8ExGZoIMHD8La2lruMIiIyMDY7YeIqAYLfujndCEErl69imPHjul1ki8iotJSVCrsi4rCtbQ01HJxAQDkZmaibrNm94f0ZNcfg2HyT0RUgzk6Oqo9NzMzg4+PD6Kjo/Hcc8/JFBURmYKShP+flBQUFxZKo/lkX7gg1clMTkb8wIEISUjgFwADYfJPRFSDxcXFyR0CEZmgFJVKfRhPQPOEXg+G+NwXHc3k30DY55+IiIiIdGpfVJR64l8RIXA9NVX/QREAtvwTEdVInp6eFU7uVeLGjRsGiIaITM21tDTtEn8AUChQx8dHvwGRhMk/EVENFBMTAxsbG7nDICITU9LPv6igQLsVOKuvwTH5JyKqgYYNGwYHBwe5wyAiE6Kxn/9DzCwtYe/uDigUyMvIQB0fn/uj/XBWX4Nh8k9EZCLu3LmDu3fvqpXxCwIR6UKKSgXV8OH3nzyc+CsUcPH3Z5JvJJj8ExHVYHl5eXjrrbcQHx+P69evl1leVFQkQ1REVJNILf7lsFAqMT4pyXABUYU42g8RUQ02c+ZM7N69G6tWrYJSqcSaNWsQFRUFd3d3fPHFF3KHR0TVWIpKhdiAAMQPGlR+Jd7Ma3Qq3fIfHR2N6dOnw9bWVq3833//xXvvvYe5c+fqLDgiIno8P/zwA7744gt0794dYWFhePrpp9GkSRN4enpi/fr1GF7yMz0RUTk0zc57+8oVtYm7ysWbeY1OpZP/qKgojB8/vkzyn5+fj6ioKCb/RERG5MaNG2jUqBGA+/37S4b27Nq1K15//XU5QyMimWhK5nMzMzX+/+Ekv/TsvAAqTPwtrK0RvGED+/kbmUon/0IIjWNH//7773B2dtZJUEREpBuNGjVCeno6GjZsCF9fX8THx6NDhw744Ycf4OTkJHd4RGRgD4/IUzqZL+//ALQfsx+Qts3E3zhpnfzXrl0bCoUCCoUCzZo1U/sCUFRUhNzcXIwfP14vQRIRUdWEhYXh999/R2BgIGbNmoUXX3wRH3/8MQoLC7F06VK5wyMiA6vUzLtVwZF9jJ7Wyf/y5cshhMDo0aMRFRUFR0dHaZmVlRW8vLzQqVMnvQRJRESVM3v2bEyYMAFTp06VyoKCgnD69GkcP34cTZo0gb+/v4wREpEhlXT1yTx1Sj87ePCFIiQhgUm/kdM6+Q8NDQUAeHt7o3PnzrC0tHzsnScmJuK9997D8ePHcfXqVWzatAkDBgyQlgshEBkZic8++wy3bt1Cly5dsGrVKjRt2vSx901EVJP9+OOP+OSTT9CxY0eMHTsWQ4YMgZ2dHTw9PeHp6Sl3eERkACUJ/z8pKf/129cDM0tL1GvenK391USl+/wHBgaiuLgYaWlpyMrKQnFxsdrybt26ab2tvLw8BAQEYPTo0QgODi6zfMmSJfjoo4+wbt06eHt7Y86cOejVqxf++usvWFtbVzZ0IiKTcfLkSSQlJeHzzz/H5MmTMXnyZAwePBhjx45F586d5Q6PiHRI69F4HrOrD2fnrRkqnfwfOnQIw4YNw4ULFyAeehMpFIpKTRjTu3dv9O7dW+MyIQSWL1+Od955B/379wcAfPHFF3BxccHmzZsxdOjQyoZORGRSunXrhm7dumHlypXYuHEj4uLi0LVrV/j4+GDMmDEYMWIEXB4kCkRUPVV0Ay+ARyb8jp6eUjJv5+Ki8f9M8muWSif/48ePR7t27bBt2za4ublpHPlHF9LT05GRkYGgoCCpzNHRER07dsTBgwfLTf4LCgpQUFAgPc/JydFLfERE1YWdnR1Gjx6N0aNH4+zZs4iLi0NMTAxmz56tdr4kouqnyjfwPrgxlzPvmp5KJ/9nzpzBd999hyZNmugjHklGRgYAlGmVcnFxkZZpEhMTg6ioKL3GRqbFa9a2Kq97flEfHUZCcqrq+8CY3gN5eXn49ddfsW/fPty8eRM+nHWTqFpLUamQmZxcpcSfk2+ZLrPKrtCxY0ecPXtWH7HoREREBLKzs6XHpUuX5A6JiEhW+/fvx+jRo+Hm5oZJkyahWbNm+PXXX5GSkiJ3aESkhRSVCrEBAVhgY4PlXl5Y7uWF+VZW97v7VDLxN7O0hIu/P0JUKnbjMVGVbvl/8803MW3aNGRkZKBVq1ZlRv3R1dBxrq6uAIDMzEy4ublJ5ZmZmWjdunW56ymVSiiVSp3EQERUXWVkZOCTTz7B2rVrkZaWhqeeegpLly7F0KFDUatWLbnDIyItPbJPvxY4Gg+VVunkf+DAgQCA0aNHS2UKhUKa+bcyN/xWxNvbG66urti1a5eU7Ofk5ODw4cOckp6I6BGaN2+OOnXqYMSIERgzZgz8/PzkDomIHkHTqD3ZFy/eX1iJFn5HLy/eqEvlqnTyn56errOd5+bmqnUhSk9PR1JSEpydndGwYUNMmTIFCxYsQNOmTaWhPt3d3dXmAiAiorLWrl2LoUOHwsKi0qd5IjIgjWPxV7GFnzfxkjYqfVXQ5eQwx44dQ48ePaTn4eHhAO5PKLZ27VrMnDkTeXl5GDduHG7duoWuXbti+/btHOOfiOgR+vXrx8SfyMg93KUHQNXH4udNvKSlSl8ZvvjiiwqXjxw5Uuttde/evcxcAaUpFApER0cjOjpa620SERERGbOS1v7M5OT7BTqYfIt9+klblU7+J0+erPa8sLAQ+fn5sLKygq2tbaWSfyIiIiJTorG1X1sKBRwbNuTkW/RYKp3837x5s0zZmTNn8Prrr2PGjBk6CYqIiIioJqrSpFwP6ockJDDRp8dW6XH+NWnatCkWLVpU5lcBIiIyDmfPnsWOHTvw77//AkCFXS6JSH+upaU9MvE3s7SEo6cnHL28YGFtzXH5Sad0djeYhYUFrly5oqvNERGRDly/fh1DhgzB7t27oVAocObMGTRq1AhjxoxB7dq18cEHH8gdIpFJqdusmeZZeR+M1MNuPKRvlU7+t2zZovZcCIGrV6/i448/RpcuXXQWGBERPb6pU6fCwsICFy9eVBvrf8iQIQgPD2fyT2RggZGR6n3+2aWHDKzSyf/DY+wrFArUq1cPzzzzDC8iRERG5ueff8aOHTvQoEEDtfKmTZviQlXGESeix+IXHIyQhATsi47G9dRU3rRLBlfp5L+4uFgfcRARkR7k5eXB1ta2TPmNGzegVCr1vv+VK1fivffeQ0ZGBgICArBixQp06NBBY921a9ciLCxMrUypVOLOnTt6j5NI30rP3lu3WbP7CX9wsNxhkQl6rBt+hRC8aYyIyIg9/fTTavOzKBQKFBcXY8mSJWqTLOrDxo0bER4ejsjISJw4cQIBAQHo1asXsrKyyl3HwcEBV69elR78dYJqgpLhPTOTk1F05w4yk5MRP3AgUlQquUMjE1Sl5P+LL75Aq1atYGNjAxsbG/j7++PLL7/UdWxERPSYlixZgtWrV6N37964e/cuZs6ciZYtWyIxMRGLFy/W676XLl2KV199FWFhYWjevDliY2Nha2uLzz//vNx1FAoFXF1dpYeLi4teYyQyhDLDez7o67+Pk5iSDCqd/C9duhSvv/46XnjhBcTHxyM+Ph7PP/88xo8fj2XLlukjRiIiqqKWLVsiLS0NXbt2Rf/+/ZGXl4fg4GCcPHkSjRs31tt+7969i+PHjyMoKEgqMzMzQ1BQEA4ePFjuerm5ufD09ISHhwf69++PP//8s9y6BQUFyMnJUXsQGZMUlQqxAQHIPHWq7Og+QuB6aqo8gZFJq3Sf/xUrVmDVqlVqM/n269cPLVq0wLx58zB16lSdBkhERI/H0dERs2fPNug+r127hqKiojIt9y4uLjh9+rTGdXx8fPD555/D398f2dnZeP/999G5c2f8+eefZW5YBoCYmBhERUXpJX6ix6U2k68mCgXq+PgYNigiVCH5v3r1Kjp37lymvHPnzrh69apOgiIiIt25efMm/ve//yElJQUA0Lx5c4SFhcHZ2VnmyNR16tQJnTp1kp537twZfn5++PTTTzF//vwy9SMiIhAeHi49z8nJgYeHh0FiJXqUCmfyfVAeGBlp+MDI5FW620+TJk0QHx9fpnzjxo1o2rSpToIiIiLdSExMhJeXFz766CPcvHkTN2/exEcffQRvb28kJibqbb9169aFubk5MjMz1cozMzPh6uqq1TYsLS3Rpk0bnD17VuNypVIJBwcHtQeRsahoJl/O2EtyqnTLf1RUFIYMGYLExERpUq/ffvsNu3bt0vilgIiI5DNhwgQMGTIEq1atgrm5OQCgqKgIb7zxBiZMmIDk5GS97NfKygpt27bFrl27pPlhiouLsWvXLkycOFGrbRQVFSE5ORkvvPCCXmIk0ieNM/k+mMV3fFKSbHERVbrlf+DAgTh8+DDq1q2LzZs3Y/Pmzahbty6OHDmCl/gNlojIqJw9exbTpk2TEn8AMDc3R3h4eLkt6roSHh6Ozz77DOvWrUNKSgpef/115OXlSWP5jxw5EhEREVL96Oho/Pzzz/j7779x4sQJvPLKK7hw4QLGjh2r1ziJ9CEwMvK/GXwBdvUho1Hpln8AaNu2Lb766itdx0JERDr25JNPIiUlBT4P3ViYkpKCgIAAve57yJAh+OeffzB37lxkZGSgdevW2L59u3QT8MWLF2Fm9l8b1M2bN/Hqq68iIyMDtWvXRtu2bXHgwAE0b95cr3ES6QNn8iVjpXXyf+XKFSxduhRz584t068yOzsbCxYswPTp0zkmMxGREZk0aRImT56Ms2fP4qmnngIAHDp0CCtXrsSiRYtw6tQpqa6/v7/O9z9x4sRyu/ns3btX7fmyZcs4ZDRVe5zJl4yd1sn/0qVLkZOTo/GGKkdHR9y+fRtLly7V+6QxRESkvZdffhkAMHPmTI3LFAoFhBBQKBQoKioydHhE1VpJov9PSgrMzM1RVFgIUVQkdfEpmck3JCGBXwDIaGid/G/fvh2xsbHlLh85ciReffVVJv9EREYkPT1d7hCIaiRpHP8HigsL/1uoYSZfJv9kLLRO/tPT09GwYcNylzdo0ADnz5/XRUxERKQjdevWhZ2dndxhENUYJa39mdqOlMWZfMnIaD3aj42NTYXJ/fnz52FjY6OLmIiISEdcXFwwevRo7N+/X+5QiKqtFJUKsQEBmG9lhfiBA8sO4VkRzuRLRkbr5L9jx4748ssvy13+xRdfoEOHDjoJioiIdOOrr77CjRs38Mwzz6BZs2ZYtGgRrly5IndYREZPU8Ivde2pROLP4T3J2Gid/E+fPh1xcXGYPn262oyNmZmZmDZtGtauXYvp06frJUgiIqqaAQMGYPPmzbh8+TLGjx+PDRs2wNPTE3379oVKpcK9e/fkDpHI6JT0569Swv+AmaUlZ/Ilo6R18t+jRw+sXLkSH3/8Mdzd3VG7dm04OzvD3d0dK1euxIoVK/DMM8/oM1YiIqqievXqITw8HKdOncLSpUvxyy+/YNCgQXB3d8fcuXORn58vd4hEsitp7Y8fNOh+QSUSfgtr6/sJf0AAQlQqzLl7F+OTkpj4k9Gp1CRfr732Gvr27Yv4+HicPXsWQgg0a9YMgwYNQoMGDfQVIxERPabMzEysW7cOa9euxYULFzBo0CCMGTMG//d//4fFixfj0KFD+Pnnn+UOk8ggSo/FX+vB/ES3r1y538r/oKuOVh7UZes+VSeVnuH3iSeewNSpU/URCxER6ZhKpUJcXBx27NiB5s2b44033sArr7wCJycnqU7nzp3h5+cnX5BEBiQN0fkgcc++cEG9gpaJv5mlJeo1b85Ze6naqXTyT0RE1UdYWBiGDh2K3377De3bt9dYx93dHbNnzzZwZETy2BcVVbnW/VKY8FNNwOSfiKgGu3r1KmxtbSusY2Njg0iORkIm4lpaWuUSf4UCLv7+TPipxtD6hl8iIqp+7O3tkZWVVab8+vXrMDc3lyEiInnVbdbsfsv/ozyoE5KQwBt3qUZh8k9EVIOJclo4CwoKYGVlZeBoiORTMpLPPykp91v+K/gCwGE6qSarcrefu3fvIisrC8XFxWrlDRs2fOygiIjo8cTGxsLa2hoKhQJr1qxBrVq1pGVFRUVITEyEr6+vjBESGc7DN/kCAISAmaUl7N3dAYUCeRkZqOPjw+49VONVOvk/c+YMRo8ejQMHDqiVCyGgUChQVFSks+CIiKhqVq5cCTMzMwghEBsbq9bFx8rKCl5eXoiNjZUxQiLD0XiTr0KBes2bY3xSkmxxEcmh0sn/qFGjYGFhga1bt8LNzQ0KbfrNVVFRURHmzZuHr776ChkZGXB3d8eoUaPwzjvv6HW/RETVXXJyMhwcHNCjRw+oVCrUrl1b7pCIZKPxJl8hcD01VZ6AiGRU6eQ/KSkJx48fN8jPxYsXL8aqVauwbt06tGjRAseOHUNYWBgcHR0xadIkve+fiKi627Nnj/T/kv7/bDwhU1O3WTNkJieXafmv4+MjX1BEMqn0Db/NmzfHtWvX9BFLGQcOHED//v3Rp08feHl5YdCgQXjuuedw5MgRg+yfiKgm+OKLL9CqVSvY2NjAxsYG/v7++PLLL+UOi8hgAiMj1W/yfdAFKJBD3JIJqnTyv3jxYsycORN79+7F9evXkZOTo/bQpc6dO2PXrl1IS0sDAPz+++/Yv38/evfuXe46BQUFeo2JiKg6Wbp0KV5//XW88MILiI+PR3x8PJ5//nmMHz8ey5Ytkzs8IoPwCw5GSEICXPz9YWFtzZF8yKRVuttPUFAQAKBnz55q5fq44XfWrFnIycmBr68vzM3NUVRUhIULF2L48OHlrhMTE4OoqCidxUBEVJ2tWLECq1atwsiRI6Wyfv36oUWLFpg3bx6mTp0qY3REhuMXHAy/4GC5wyCSXaWT/9L9R/UtPj4e69evx4YNG9CiRQskJSVhypQpcHd3R2hoqMZ1IiIiEB4eLj3PycmBh4eHoUImIjIqV69eRefOncuUd+7cGVevXpUhIiIiklOlk//AwEB9xKHRjBkzMGvWLAwdOhQA0KpVK1y4cAExMTHlJv9KpRJKpdJgMRIRGbMmTZogPj4eb7/9tlr5xo0b0bRpU5miIiIiuWiV/J86dQotW7aEmZkZTp06VWFdf39/nQQGAPn5+TAzU78twdzcvMzEYkREpFlUVBSGDBmCxMREdOnSBQDw22+/YdeuXYiPj5c5OiIiMjStkv/WrVsjIyMD9evXR+vWraFQKDROGa/rPv8vvvgiFi5ciIYNG6JFixY4efIkli5ditGjR+tsH0RENdnAgQNx+PBhLFu2DJs3bwYA+Pn54ciRI2jTpo28wRERkcFplfynp6ejXr160v8NZcWKFZgzZw7eeOMNZGVlwd3dHa+99hrmzp1rsBiIiKq7tm3b4quvvpI7DCKDS1GpsC8qCtfS0lC3WTMERkbypl8yeVol/56enhr/r2/29vZYvnw5li9fbrB9EhHVNMXFxTh79iyysrLKdJvs1q2bTFER6UdJwv9PSgqKCwulMf0zk5MRP3AgQhIS+AWATFqlb/i9fv066tSpAwC4dOkSPvvsM/z777/o168fnn76aZ0HSEREVXfo0CEMGzYMFy5cKNNdU9ddNYnklqJSIX7gQCnhB6D+r0KBfdHRTP7JpGk9yVdycjK8vLxQv359+Pr6IikpCe3bt8eyZcuwevVq9OjRQ+pPSkRExmH8+PFo164d/vjjD9y4cQM3b96UHjdu3JA7PCKdSFGpEBsQgPhBg+4XaLgvsaT8emqq4QIjMkJaJ/8zZ85Eq1atkJiYiO7du6Nv377o06cPsrOzcfPmTbz22mtYtGiRPmMlIqJKOnPmDN599134+fnByckJjo6Oag+i6q6ktT8zObn8pL+EQoE6Pj6GCYzISGnd7efo0aPYvXs3/P39ERAQgNWrV+ONN96QhuJ888038dRTT+ktUCIiqryOHTvi7NmzaNKkidyhEOnFvqgo9W4+5XlQJzAy0jCBERkprZP/GzduwNXVFQBQq1Yt2NnZoXbt2tLy2rVr4/bt27qPkIiIquzNN9/EtGnTkJGRgVatWsHS0lJtuS7nZiGSw7W0tEcm/maWlqjXvPn90X5eeslAkREZp0rd8KtQKCp8TkRExmXgwIEAoDY/SslcLbzhl2qCus2aae7yo1DAxd+fCT/RQyqV/I8aNQpKpRIAcOfOHYwfPx52dnYAgIKCAt1HR0REj8WQc7MQySEwMlJ9hJ8H/4YkJDDpJ9JA6+Q/NDRU7fkrr7xSps7IkSMfPyIiItIZQ87NQiQHv+BghCQkYF90NK6npqKOjw9b+4kqoHXyHxcXp884iIhIT7788kvExsYiPT0dBw8ehKenJ5YvXw5vb2/0799f7vCIquzhGXyD16/nGP5Ej6D1UJ9ERFT9rFq1CuHh4XjhhRdw69YtqY+/k5MTZ0+naq30EJ9Fd+5IM/imqFRyh0Zk1Jj8ExHVYCtWrMBnn32G2bNnw9zcXCpv164dkpOTZYyMqGrKndCr1Ay+RFS+St3wS0RE1Ut6ejratGlTplypVCIvL0+GiIjKV7obTy0XFwBAbmam9P/bV66guLCw/HH9OYMv0SMx+SciqsG8vb2RlJRU5sbf7du3w8/PT6aoiP5TkvD/k5KilthnX7gg1Sn9fwDlj+vPGXyJHondfoiIarDw8HBMmDABGzduhBACR44cwcKFCxEREYGZM2fqff8rV66El5cXrK2t0bFjRxw5cqTC+t9++y18fX1hbW2NVq1a4ccff9R7jGR4JV135ltZSf32iwsL7y981Ey95eEMvkRaYcs/EVENNnbsWNjY2OCdd95Bfn4+hg0bBnd3d3z44YcYOnSoXve9ceNGhIeHIzY2Fh07dsTy5cvRq1cvpKamon79+mXqHzhwAC+//DJiYmLQt29fbNiwAQMGDMCJEyfQsmVLvcZK+qGpG4/GrjtVTfhLcEIvIq0phHjcT5xxy8nJgaOjI7Kzs+Hg4CB3ODWK16xtcodQKecX9anSeo9znIbeZ1X3R49WXf4mFZ3z8vPzkZubqzHx1oeOHTuiffv2+PjjjwEAxcXF8PDwwJtvvolZs2aVqT9kyBDk5eVh69atUtlTTz2F1q1bIzY29pH74/neOJTXjUcvSib0UqmY9JNJqsp5jy3/REQmwtbWFra2tgbZ1927d3H8+HFERERIZWZmZggKCsLBgwc1rnPw4EGEh4erlfXq1QubN2/WWL+goEBtdvmcnJzHD5y0ZrBW/XKYWVqiXvPmbO0nqiQm/0RENVhmZiamT5+OXbt2ISsrCw//2Fsy7r+uXbt2DUVFRXB5kBSWcHFxwenTpzWuk5GRobF+RkaGxvoxMTGIiorSTcBURkUj7xTm5yP/n3+kulrfkKslM0tL2Lu7AwoF8jIyYOfiIv2fM/gSPR4m/0RENdioUaNw8eJFzJkzB25ublAoFHKHpDMRERFqvxTk5OTAw8NDxohqjpIJtLQaeUdH2JJPZBhM/omIarD9+/fj119/RevWrQ2637p168Lc3ByZmZlq5ZmZmXB1ddW4jqura6XqK5VKKJVK3QRMavZFRem3r/4DTPiJDI9DfRIR1WAeHh5luvoYgpWVFdq2bYtdu3ZJZcXFxdi1axc6deqkcZ1OnTqp1QeAnTt3lluf9OdaWppOE38zS0s4enrC0csLFtbWcAkIQIhKhTl372J8UhITfyIDYss/EVENtnz5csyaNQuffvopvLy8DLrv8PBwhIaGol27dujQoQOWL1+OvLw8hIWFAQBGjhyJJ554AjExMQCAyZMnIzAwEB988AH69OmDb775BseOHcPq1asNGjcBdZs1Q2Zy8mN9AWCrPpFxYvJPRFQDeXp6Sv378/Ly0LhxY9ja2sLS0lKt3o0bN/QWw5AhQ/DPP/9g7ty5yMjIQOvWrbF9+3bppt6LFy/CzOy/H6A7d+6MDRs24J133sHbb7+Npk2bYvPmzRzjXwaBkZFqff4fxbZePVja2fGGXKJqgMk/EVENFBMTAxsbG7nDwMSJEzFx4kSNy/bu3VumbPDgwRg8eLCeo6JH8QsORkhCAvZFR+N6aqraaDsceYeoemPyT0RUAw0bNowTXVGllR7es26zZvcT++BgucMiIh1i8k9EVAMVFxdj8eLF2LJlC+7evYuePXsiMjLSKH4NIPlpM0FXZnIy4gcOREhCAr8AENUgTP6JiGqg999/HzExMQgKCoKNjQ0+/PBDZGVl4fPPP5c7NJJJScL/T0qKWpJf7gRdQgAKBfZFRzP5J6pBmPwTEdVAX3/9NT755BO89tprAIBffvkFffr0wZo1a9RusqWarbyEH4B2I/kIgeupqfoNkogMisk/EVEN9H//93944YUXpOdBQUFQKBS4cuUKGjRoIGNkZCgPz9ILoPJDdyoUqOPjo/vgiEg2bP4hIqqB7t27B2tra7UyS0tLFBYWyhQRGdpjz9L7YN3AyEjdBkZEsmLLPxFRDSSEwKhRo6BUKqWyO3fuYPz48bCzs5PKVCqVHOGRjmm6gbdMX/5K4ARdRDUXk38iohpo2LBhZSb0euWVV2SKhh5XeaPzmJmbo6iwEKKoqPwbeCtgZmkJe3d3jttPZEKMPvm/fPky3nrrLfz000/Iz89HkyZNEBcXh3bt2skdGhGR0frkk084zn81pM0QnKWT++LS3bi07N7DVn0i02bUyf/NmzfRpUsX9OjRAz/99BPq1auHM2fOoHbt2nKHRkREpFMP36Bb7hCcVeQSEMCEn4iMO/lfvHgxPDw8EBcXJ5V5e3vLGBEREZFulbT2ZyYn3y94zCS/DIUCLv7+GJ+UpNvtElG1ZNSj/WzZsgXt2rXD4MGDUb9+fbRp0wafffZZhesUFBQgJydH7UFERGSMSlr7M5OTdZ/0Axyxh4jKMOrk/++//8aqVavQtGlT7NixA6+//jomTZqEdevWlbtOTEwMHB0dpYeHh4cBIyYiInq0FJUKsQEBiB806H6BjhJ/M0tLOHp6wtHLCxbW1nDx90eISsWuPkQkMepuP8XFxWjXrh3effddAECbNm3wxx9/IDY2FqGhoRrXiYiIQHh4uPQ8JyeHXwCIiMhoaJx8S0ulR+e5ffkyzMzNUVxUxBt4iUhrRp38u7m5oXnz5mplfn5+SEhIKHcdpVKpNq41ERGRMahU336FAo4NG3IITiLSOaNO/rt06YLU1FS1srS0NHh6esoUERERUeVp3dr/YHlIQgITfSLSC6Pu8z916lQcOnQI7777Ls6ePYsNGzZg9erVmDBhgtyhERERaW1fVJRWiT/76BORvhl1y3/79u2xadMmREREIDo6Gt7e3li+fDmGDx8ud2hEREQSTZNz5WZmSv+vcNZdtvYTkQEZdfIPAH379kXfvn3lDoOIiEhNScL/T0pKuTPwVpj0A1JrP/vzE5GhGH3yT0REZExSVCrsCA9/vBl42dpPRDJh8k9ERKQl6cbdx8TWfiKSC5N/IiKiRygzTGdVPejmMz4pSSdxERFVFpN/IiKiCjzOpFxqHqwfGBmpu+CIiCqJyT8REVEFtBqm84HSM/DmZWTAzsWFE3URkVFh8k9ERFSBa2lpj0z8Hb280GvpUib2RGT0jHqSLyIiIrmkqFSIDQhAUUGB5goKBVwCAhCiUmFKejoTfyKqFtjyT0RE9JAK+/lzmE4iqsbY8k9ERPSQcvv5PxitJ0SlYuJPRNUSW/6JiIgeUl4/fwulksN0ElG1xpZ/IiKih9Rt1ux+y39pCgXq+PjIExARkY4w+SciInpIYGTk/Zb/ki8AHKOfiGoIJv9EREQP8QsORkhCAlz8/WFhbc1+/kRUY7DPPxERkQZ+wcHwCw6WOwwiIp1iyz8RERERkYlgyz+RHnnN2lZt9nd+UR8dRkJERETGiC3/REREREQmgsk/EREREZGJYPJPRERERGQimPwTEREREZkIJv9ERERERCaCyT8REencjRs3MHz4cDg4OMDJyQljxoxBbm5uhet0794dCoVC7TF+/HgDRUxEZBo41CcREenc8OHDcfXqVezcuROFhYUICwvDuHHjsGHDhgrXe/XVVxEdHS09t7W11XeoREQmhck/ERHpVEpKCrZv346jR4+iXbt2AIAVK1bghRdewPvvvw93d/dy17W1tYWrq6uhQiUiMjns9kNERDp18OBBODk5SYk/AAQFBcHMzAyHDx+ucN3169ejbt26aNmyJSIiIpCfn19u3YKCAuTk5Kg9iIioYmz5JyIincrIyED9+vXVyiwsLODs7IyMjIxy1xs2bBg8PT3h7u6OU6dO4a233kJqaipUKpXG+jExMYiKitJp7ERENR2TfyIi0sqsWbOwePHiCuukpKRUefvjxo2T/t+qVSu4ubmhZ8+eOHfuHBo3blymfkREBMLDw6XnOTk58PDwqPL+iYhMAZN/IiLSyrRp0zBq1KgK6zRq1Aiurq7IyspSK7937x5u3LhRqf78HTt2BACcPXtWY/KvVCqhVCq13h4RETH5JyIiLdWrVw/16tV7ZL1OnTrh1q1bOH78ONq2bQsA2L17N4qLi6WEXhtJSUkAADc3tyrFS0REZfGGXyIi0ik/Pz88//zzePXVV3HkyBH89ttvmDhxIoYOHSqN9HP58mX4+vriyJEjAIBz585h/vz5OH78OM6fP48tW7Zg5MiR6NatG/z9/eU8HCKiGoXJPxER6dz69evh6+uLnj174oUXXkDXrl2xevVqaXlhYSFSU1Ol0XysrKzwyy+/4LnnnoOvry+mTZuGgQMH4ocffpDrEIiIaiR2+yEiIp1zdnaucEIvLy8vCCGk5x4eHti3b58hQiMiMmls+SciIiIiMhHVKvlftGgRFAoFpkyZIncoRERERETVTrVJ/o8ePYpPP/2UN34REREREVVRtUj+c3NzMXz4cHz22WeoXbt2hXU53TsRERERkWbV4obfCRMmoE+fPggKCsKCBQsqrMvp3omqxmvWtiqtd35RHx1HUrNU9XUF+NoSEZHuGX3L/zfffIMTJ04gJiZGq/oRERHIzs6WHpcuXdJzhERERERE1YNRt/xfunQJkydPxs6dO2Ftba3VOpzunYiIiIhIM6NO/o8fP46srCw8+eSTUllRURESExPx8ccfo6CgAObm5jJGSERERERUfRh18t+zZ08kJyerlYWFhcHX1xdvvfUWE38iIiIiokow6uTf3t4eLVu2VCuzs7NDnTp1ypQTEREREVHFjP6GXyIiIiIi0g2jbvnXZO/evXKHQERERERULbHln4iIiIjIRDD5JyIiIiIyEUz+iYiIiIhMBJN/IiIiIiITweSfiIiIiMhEMPknIiIiIjIRTP6JiIiIiEwEk38iIiIiIhPB5J+IiIiIyEQw+SciIiIiMhFM/omIiIiITASTfyIiIiIiE8Hkn4iIiIjIRDD5JyIiIiIyERZyB0BkKF6ztskdAhEREZGs2PJPRERERGQimPwTEREREZkIJv9ERERERCaCyT8RERERkYlg8k9EREREZCKY/BMRERERmQgm/0REREREJoLJPxERERGRiWDyT0RE9ECKSoXYgAAssLFBbEAAUlQquUMiItIpJv9ERES4n/jHDxyIzORkFN25g8zkZMQPHMgvAERUozD5JyIiArAvKgpQKAAh7hcIASgU2BcdLW9gREQ6xOSfiIgIwLW0tP8S/xJC4HpqqjwBERHpAZN/IiLSuYULF6Jz586wtbWFk5OTVusIITB37ly4ubnBxsYGQUFBOHPmjH4DLaVus2b3W/5LUyhQx8fHYDEQEekbk38iItK5u3fvYvDgwXj99de1XmfJkiX46KOPEBsbi8OHD8POzg69evXCnTt39BjpfwIjI6WuPgCkLkCBkZEG2T8RkSEw+SciIp2LiorC1KlT0apVK63qCyGwfPlyvPPOO+jfvz/8/f3xxRdf4MqVK9i8ebN+g33ALzgYIQkJcPH3h4W1NVz8/RGiUsHvpZcMsn8iIkOwkDsAIiKi9PR0ZGRkICgoSCpzdHREx44dcfDgQQwdOrTMOgUFBSgoKJCe5+TkPHYcfsHB8AsOfuztEBEZK7b8ExGR7DIyMgAALi4uauUuLi7SsofFxMTA0dFRenh4eOg9TiKi6s7ok/+YmBi0b98e9vb2qF+/PgYMGIBUjrxARGRws2bNgkKhqPBx+vRpg8UTERGB7Oxs6XHp0iWD7ZuIqLoy+m4/+/btw4QJE9C+fXvcu3cPb7/9Np577jn89ddfsLOzkzs8IiKTMW3aNIwaNarCOo0aNarStl1dXQEAmZmZcHNzk8ozMzPRunVrjesolUoolcoq7Y+IyFQZffK/fft2tedr165F/fr1cfz4cXTr1k2mqIiITE+9evVQr149vWzb29sbrq6u2LVrl5Ts5+Tk4PDhw5UaMYiIiCpm9N1+HpadnQ0AcHZ21ri8oKAAOTk5ag8iIjKsixcvIikpCRcvXkRRURGSkpKQlJSE3NxcqY6vry82bdoEAFAoFJgyZQoWLFiALVu2IDk5GSNHjoS7uzsGDBgg01EQEdU8Rt/yX1pxcTGmTJmCLl26oGXLlhrrxMTEICoqysCREZkur1nbqrzu+UV9dBgJGZO5c+di3bp10vM2bdoAAPbs2YPu3bsDAFJTU6UGHQCYOXMm8vLyMG7cONy6dQtdu3bF9u3bYW1tbdDYiYhqMoUQD89lbrxef/11/PTTT9i/fz8aNGigsY6mod88PDyQnZ0NBwcHQ4VqEh4n6SMCqlfyL8f7vSqvT05ODhwdHU3ynGfKx05Epqkq571q0/I/ceJEbN26FYmJieUm/gBvACMiIiIiKo/RJ/9CCLz55pvYtGkT9u7dC29vb7lDIiIiIiKqlow++Z8wYQI2bNiA77//Hvb29tJkL46OjrCxsZE5OiIiIiKi6sPoR/tZtWoVsrOz0b17d7i5uUmPjRs3yh0aEREREVG1YvQt/9XofmQiIiIiIqNm9C3/RERERESkG0z+iYiIiIhMBJN/IiIiIiITweSfiIiIiMhEMPknIiIiIjIRTP6JiIiIiEwEk38iIiIiIhPB5J+IiIiIyEQw+SciIiIiMhFM/omIiIiITASTfyIiIiIiE8Hkn4iIiIjIRDD5JyIiIiIyEUz+iYiIiIhMhIXcARgzr1nbqrzu+UV9qs0+iUzF43y+iIiIagK2/BMRkUlLUakQGxCABTY2iA0IQIpKJXdIRER6w+SfiIhMVopKhfiBA5GZnIyiO3eQmZyM+IED+QWAiGosJv9ERGSy9kVFAQoFIMT9AiEAhQL7oqPlDYyISE+Y/BMRkcm6lpb2X+JfQghcT02VJyAiIj1j8k9ERCarbrNm91v+S1MoUMfHR56AiIj0jMk/ERGZrMDISKmrDwCpC1BgZKS8gRER6QmTfyIiMll+wcEISUiAi78/LKyt4eLvjxCVCn4vvSR3aEREesFx/omIyKT5BQfDLzhY7jCIiAyCLf9ERERERCaCyT8RERERkYlg8k9EREREZCKY/BMRERERmQgm/0REREREJoLJPxERERGRiWDyT0RERERkIpj8ExERERGZCCb/REREREQmolok/ytXroSXlxesra3RsWNHHDlyRO6QiIiIiIiqHaNP/jdu3Ijw8HBERkbixIkTCAgIQK9evZCVlSV3aERERERE1YrRJ/9Lly7Fq6++irCwMDRv3hyxsbGwtbXF559/LndoRERERETVioXcAVTk7t27OH78OCIiIqQyMzMzBAUF4eDBgxrXKSgoQEFBgfQ8OzsbAJCTk1Pp/RcX5Fd6nRJV2Z9c+6yqx4mVCOB79lGq8vqUrCOE0HU4Rq/kmA39viIikktVzvlGnfxfu3YNRUVFcHFxUSt3cXHB6dOnNa4TExODqKioMuUeHh56ibE8jssNujvZ9kn0OPierdjjvD63b9+Go6OjzmKpDm7fvg3A8Od7IiK5Veacb9TJf1VEREQgPDxcel5cXIwbN26gTp06UCgUMkZWVk5ODjw8PHDp0iU4ODjIHU61xtdSt/h66o6hX0shBG7fvg13d3e978vYuLu749KlS7C3t9f6fG9K73Uea83EY615KnOcVTnnG3XyX7duXZibmyMzM1OtPDMzE66urhrXUSqVUCqVamVOTk76ClEnHBwcavSb2JD4WuoWX0/dMeRraWot/iXMzMzQoEGDKq1rSu91HmvNxGOtebQ9zsqe8436hl8rKyu0bdsWu3btksqKi4uxa9cudOrUScbIiIiIiIiqH6Nu+QeA8PBwhIaGol27dujQoQOWL1+OvLw8hIWFyR0aEREREVG1YvTJ/5AhQ/DPP/9g7ty5yMjIQOvWrbF9+/YyNwFXR0qlEpGRkWW6KVHl8bXULb6eusPX0riZ0t+Hx1oz8VhrHn0fp0KY4nhwREREREQmyKj7/BMRERERke4w+SciIiIiMhFM/omIiIiITASTfyIiIiIiE8Hk34gsXLgQnTt3hq2trdFPTGZsVq5cCS8vL1hbW6Njx444cuSI3CFVS4mJiXjxxRfh7u4OhUKBzZs3yx1StRQTE4P27dvD3t4e9evXx4ABA5Camip3WKRBTTt3aPPeu3PnDiZMmIA6deqgVq1aGDhwYJnJNKujRYsWQaFQYMqUKVJZTTrWy5cv45VXXkGdOnVgY2ODVq1a4dixY9JyIQTmzp0LNzc32NjYICgoCGfOnJEx4qopKirCnDlz4O3tDRsbGzRu3Bjz589H6fFpquuxPuoaq81x3bhxA8OHD4eDgwOcnJwwZswY5ObmVioOJv9G5O7duxg8eDBef/11uUOpVjZu3Ijw8HBERkbixIkTCAgIQK9evZCVlSV3aNVOXl4eAgICsHLlSrlDqdb27duHCRMm4NChQ9i5cycKCwvx3HPPIS8vT+7QqJSaeO7Q5r03depU/PDDD/j222+xb98+XLlyBcHBwTJG/fiOHj2KTz/9FP7+/mrlNeVYb968iS5dusDS0hI//fQT/vrrL3zwwQeoXbu2VGfJkiX46KOPEBsbi8OHD8POzg69evXCnTt3ZIy88hYvXoxVq1bh448/RkpKChYvXowlS5ZgxYoVUp3qeqyPusZqc1zDhw/Hn3/+iZ07d2Lr1q1ITEzEuHHjKheIIKMTFxcnHB0d5Q6j2ujQoYOYMGGC9LyoqEi4u7uLmJgYGaOq/gCITZs2yR1GjZCVlSUAiH379skdCpViCueOh997t27dEpaWluLbb7+V6qSkpAgA4uDBg3KF+Vhu374tmjZtKnbu3CkCAwPF5MmThRA161jfeust0bVr13KXFxcXC1dXV/Hee+9JZbdu3RJKpVJ8/fXXhghRZ/r06SNGjx6tVhYcHCyGDx8uhKg5x/rwNVab4/rrr78EAHH06FGpzk8//SQUCoW4fPmy1vtmyz9Va3fv3sXx48cRFBQklZmZmSEoKAgHDx6UMTKi/2RnZwMAnJ2dZY6ESpjKuePh997x48dRWFiodty+vr5o2LBhtT3uCRMmoE+fPmrHBNSsY92yZQvatWuHwYMHo379+mjTpg0+++wzaXl6ejoyMjLUjtXR0REdO3asdsfauXNn7Nq1C2lpaQCA33//Hfv370fv3r0B1KxjLU2b4zp48CCcnJzQrl07qU5QUBDMzMxw+PBhrfdl9DP8ElXk2rVrKCoqKjPjs4uLC06fPi1TVET/KS4uxpQpU9ClSxe0bNlS7nDoAVM4d2h672VkZMDKyqrMfWUuLi7IyMiQIcrH88033+DEiRM4evRomWU16Vj//vtvrFq1CuHh4Xj77bdx9OhRTJo0CVZWVggNDZWOR9P7ubod66xZs5CTkwNfX1+Ym5ujqKgICxcuxPDhwwGgRh1radocV0ZGBurXr6+23MLCAs7OzpU6dib/ejZr1iwsXry4wjopKSnw9fU1UEREZEgTJkzAH3/8gf3798sdCpmYmv7eu3TpEiZPnoydO3fC2tpa7nD0qri4GO3atcO7774LAGjTpg3++OMPxMbGIjQ0VObodCs+Ph7r16/Hhg0b0KJFCyQlJWHKlClwd3evcccqFyb/ejZt2jSMGjWqwjqNGjUyTDA1UN26dWFubl5m9IbMzEy4urrKFBXRfRMnTpRuyGrQoIHc4VApNf3cUd57z9XVFXfv3sWtW7fUWsSr43EfP34cWVlZePLJJ6WyoqIiJCYm4uOPP8aOHTtqzLG6ubmhefPmamV+fn5ISEgAAOl4MjMz4ebmJtXJzMxE69atDRanLsyYMQOzZs3C0KFDAQCtWrXChQsXEBMTg9DQ0Bp1rKVpc1yurq5lBiS4d+8ebty4Uan3NPv861m9evXg6+tb4cPKykruMKstKysrtG3bFrt27ZLKiouLsWvXLnTq1EnGyMiUCSEwceJEbNq0Cbt374a3t7fcIdFDauq541HvvbZt28LS0lLtuFNTU3Hx4sVqd9w9e/ZEcnIykpKSpEe7du0wfPhw6f815Vi7dOlSZsjWtLQ0eHp6AgC8vb3h6uqqdqw5OTk4fPhwtTvW/Px8mJmpp6fm5uYoLi4GULOOtTRtjqtTp064desWjh8/LtXZvXs3iouL0bFjR+139rh3K5PuXLhwQZw8eVJERUWJWrVqiZMnT4qTJ0+K27dvyx2aUfvmm2+EUqkUa9euFX/99ZcYN26ccHJyEhkZGXKHVu3cvn1bet8BEEuXLhUnT54UFy5ckDu0auX1118Xjo6OYu/eveLq1avSIz8/X+7QqJSaeO7Q5r03fvx40bBhQ7F7925x7Ngx0alTJ9GpUycZo9ad0qP9CFFzjvXIkSPCwsJCLFy4UJw5c0asX79e2Nraiq+++kqqs2jRIuHk5CS+//57cerUKdG/f3/h7e0t/v33Xxkjr7zQ0FDxxBNPiK1bt4r09HShUqlE3bp1xcyZM6U61fVYH3WN1ea4nn/+edGmTRtx+PBhsX//ftG0aVPx8ssvVyoOJv9GJDQ0VAAo89izZ4/coRm9FStWiIYNGworKyvRoUMHcejQIblDqpb27Nmj8T0YGhoqd2jViqbXEICIi4uTOzR6SE07d2jz3vv333/FG2+8IWrXri1sbW3FSy+9JK5evSpf0Dr0cPJfk471hx9+EC1bthRKpVL4+vqK1atXqy0vLi4Wc+bMES4uLkKpVIqePXuK1NRUmaKtupycHDF58mTRsGFDYW1tLRo1aiRmz54tCgoKpDrV9VgfdY3V5riuX78uXn75ZVGrVi3h4OAgwsLCKt1IrBCi1JRpRERERERUY7HPPxERERGRiWDyT0RERERkIpj8ExERERGZCCb/REREREQmgsk/EREREZGJYPJPRERERGQimPwTEREREZkIJv9ERERERCaCyT8ZpbVr18LJyUnuMGokvrZERMZr3rx5aN26tfR81KhRGDBggGzxUM3D5J9kMWrUKCgUCigUClhZWaFJkyaIjo7GvXv35A6tDC8vLyxfvlzuMJCQkABzc3NcvnxZ4/KmTZsiPDzcwFEREcmvOl1TSlMoFNi8ebNa2fTp07Fr1y55AiKTwOSfZPP888/j6tWrOHPmDKZNm4Z58+bhvffekzsso9WvXz/UqVMH69atK7MsMTERZ8+exZgxY2SIjIhIfrq6phQVFaG4uFgPEWqnVq1aqFOnjmz7p5qPyT/JRqlUwtXVFZ6ennj99dcRFBSELVu2qNXZsWMH/Pz8UKtWLenEXtqaNWvg5+cHa2tr+Pr64pNPPpGWnT9/HgqFAiqVCj169ICtrS0CAgJw8OBBtW0kJCSgRYsWUCqV8PLywgcffCAt6969Oy5cuICpU6dKrUp5eXlwcHDAd999p7adzZs3w87ODrdv35b2/c0336Bz586wtrZGy5YtsW/fPrV1/vjjD/Tu3Ru1atWCi4sLRowYgWvXrml8vSwtLTFixAisXbu2zLLPP/8cHTt2RIsWLbB06VK0atUKdnZ28PDwwBtvvIHc3Nxy/w6aflKeMmUKunfvLj0vLi5GTEwMvL29YWNjg4CAgDLHT0Qkp/KuKQUFBZg+fTqeeOIJ2NnZoWPHjti7d6+0XklXyC1btqB58+ZQKpW4ePEiCgoK8NZbb8HDwwNKpRJNmjTB//73P2m9R52/u3fvjkmTJmHmzJlwdnaGq6sr5s2bJy338vICALz00ktQKBTS84e7/TyM52N6XEz+yWjY2Njg7t270vP8/Hy8//77+PLLL5GYmIiLFy9i+vTp0vL169dj7ty5WLhwIVJSUvDuu+9izpw5ZVrGZ8+ejenTpyMpKQnNmjXDyy+/LP0UfPz4cYSEhGDo0KFITk7GvHnzMGfOHCnBVqlUaNCgAaKjo3H16lVcvXoVdnZ2GDp0KOLi4tT2ExcXh0GDBsHe3l4qmzFjBqZNm4aTJ0+iU6dOePHFF3H9+nUAwK1bt/DMM8+gTZs2OHbsGLZv347MzEyEhISU+xqNGTMGZ86cQWJiolSWm5uL7777Tmr1NzMzw0cffYQ///wT69atw+7duzFz5szK/CnKiImJwRdffIHY2Fj8+eefmDp1Kl555ZUyX2aIiIxFyTVl4sSJOHjwIL755hucOnUKgwcPxvPPP48zZ85IdfPz87F48WKsWbMGf/75J+rXr4+RI0fi66+/xkcffYSUlBR8+umnqFWrFgDtz9/r1q2DnZ0dDh8+jCVLliA6Oho7d+4EABw9ehTA/WvH1atXpeePwvMxPTZBJIPQ0FDRv39/IYQQxcXFYufOnUKpVIrp06cLIYSIi4sTAMTZs2eldVauXClcXFyk540bNxYbNmxQ2+78+fNFp06dhBBCpKenCwBizZo10vI///xTABApKSlCCCGGDRsmnn32WbVtzJgxQzRv3lx67unpKZYtW6ZW5/Dhw8Lc3FxcuXJFCCFEZmamsLCwEHv37lXb96JFi6R1CgsLRYMGDcTixYulWJ977jm17V66dEkAEKmpqeW+dk899ZQIDQ2Vnv/vf/8Ttra2IicnR2P9b7/9VtSpU0d6HhcXJxwdHaXnpf8WJSZPniwCAwOFEELcuXNH2NraigMHDqjVGTNmjHj55ZfLjZOIyFDKu6aMGjVKmJubi8uXL6vV79mzp4iIiBBC/He9SUpKkpanpqYKAGLnzp0a96fN+TswMFB07dpVrU779u3FW2+9JT0HIDZt2qRWJzIyUgQEBGg8Np6PSRcsZPvWQSZv69atqFWrFgoLC1FcXIxhw4ap/SRqa2uLxo0bS8/d3NyQlZUFAMjLy8O5c+cwZswYvPrqq1Kde/fuwdHRUW0//v7+atsAgKysLPj6+iIlJQX9+/dXq9+lSxcsX74cRUVFMDc31xh7hw4d0KJFC6xbtw6zZs3CV199BU9PT3Tr1k2tXqdOnaT/W1hYoF27dkhJSQEA/P7779izZ4/UklTauXPn0KxZM437Hj16NKZOnYoVK1bA3t4en3/+OQYPHiz94vDLL78gJiYGp0+fRk5ODu7du4c7d+4gPz8ftra2GrdZkbNnzyI/Px/PPvusWvndu3fRpk2bSm+PiEgfNF1TBg0ahLVr15Y5nxYUFKj1q7eyslK7ViQlJcHc3ByBgYEa96Xt+bv0NgH161hV8HxMusDkn2TTo0cPrFq1ClZWVnB3d4eFhfrb0dLSUu25QqGAEAIApD7sn332GTp27KhW7+GEvfR2FAoFAOjkZq6xY8di5cqVmDVrFuLi4hAWFiZtXxu5ubl48cUXsXjx4jLLSr6kaDJ06FBMnToV8fHx6NatG3777TfExMQAuH+fQ9++ffH6669j4cKFcHZ2xv79+zFmzBjcvXtXY/JvZmYmva4lCgsL1eIEgG3btuGJJ55Qq6dUKrU+XiIifdJ0Tdm4cSPMzc1x/PjxMteG0om7jY2N2vnbxsamwn1pe/7WdB17nOsPz8ekC0z+STZ2dnZo0qRJldZ1cXGBu7s7/v77bwwfPrzKMfj5+eG3335TK/vtt9/QrFkz6UJhZWWFoqKiMuu+8sormDlzJj766CP89ddfCA0NLVPn0KFD0q8B9+7dw/HjxzFx4kQAwJNPPomEhAR4eXmV+eJTEXt7ewwePBiff/651ML09NNPA7h/D0NxcTE++OADmJndv6UnPj6+wu3Vq1cPf/zxh1pZUlKSdNEqfQNcea1gRERy03RNadOmDYqKipCVlSWdJ7XRqlUrFBcXY9++fQgKCiqzvKrn74dZWlpqvL6Uh+dj0gXe8EvVVlRUFGJiYvDRRx8hLS0NycnJiIuLw9KlS7XexrRp07Br1y7Mnz8faWlpWLduHT7++GO1G4u9vLyQmJiIy5cvq43kULt2bQQHB2PGjBl47rnn0KBBgzLbX7lyJTZt2oTTp09jwoQJuHnzJkaPHg0AmDBhAm7cuIGXX34ZR48exblz57Bjxw6EhYU98mIwZswYHDhwALGxsdL2AKBJkyYoLCzEihUr8Pfff+PLL79EbGxshdt65plncOzYMXzxxRc4c+YMIiMj1b4M2NvbY/r06Zg6dSrWrVuHc+fO4cSJE1ixYoXGYUeJiIxFs2bNMHz4cIwcORIqlQrp6ek4cuQIYmJisG3btnLX8/LyQmhoKEaPHo3NmzcjPT0de/fulRpTHuf8/fB+du3ahYyMDNy8efOR9Xk+Jl1g8k/V1tixY7FmzRrExcWhVatWCAwMxNq1a+Ht7a31Np588knEx8fjm2++QcuWLTF37lxER0dj1KhRUp3o6GicP38ejRs3Rr169dTWL+lOUzoBL23RokVYtGgRAgICsH//fmzZsgV169YFALi7u+O3335DUVERnnvuObRq1QpTpkyBk5OT1Gpfnq5du8LHxwc5OTkYOXKkVB4QEIClS5di8eLFaNmyJdavXy91CSpPr169MGfOHMycORPt27fH7du31bYJAPPnz8ecOXMQExMDPz8/PP/889i2bVulXmsiIjnExcVh5MiRmDZtGnx8fDBgwAAcPXoUDRs2rHC9VatWYdCgQXjjjTfg6+uLV199FXl5eQAe7/xd2gcffICdO3fCw8ND6z77PB/T41KIhzv7EpHWvvzyS0ydOhVXrlyBlZWVVH7+/Hl4e3vj5MmTFY7XTERERGRI7PNPVAX5+fm4evUqFi1ahNdee00t8SciIiIyVuz2Q1QFS5Ysga+vL1xdXRERESF3OERERERaYbcfIiIiIiITwZZ/IiIiIiITweSfiIiIiMhEMPknIiIiIjIRTP6JiIiIiEwEk38iIiIiIhPB5J+IiIiIyEQw+SciIiIiMhFM/omIiIiITMT/A2e6S2/IgW8PAAAAAElFTkSuQmCC"
     },
     "metadata": {},
     "output_type": "display_data"
    }
   ],
   "execution_count": 44
  },
  {
   "cell_type": "markdown",
   "id": "5e85eaf662307b57",
   "metadata": {},
   "source": [
    "Notice that the variance in measurements is larger, because of the up-down regulation increases \n",
    "the spread."
   ]
  },
  {
   "cell_type": "markdown",
   "id": "d64b92d230844760",
   "metadata": {},
   "source": [
    "### Learn Module from (i.e., Fit Model to) the Data"
   ]
  },
  {
   "cell_type": "code",
   "execution_count": 38,
   "id": "75e6f04558250f2b",
   "metadata": {
    "ExecuteTime": {
     "end_time": "2024-04-14T23:28:12.648879Z",
     "start_time": "2024-04-14T23:28:12.643703Z"
    }
   },
   "outputs": [
    {
     "name": "stdout",
     "output_type": "stream",
     "text": [
      "x shape = (100, 4), y shape = (100,)\n"
     ]
    }
   ],
   "execution_count": 45
  },
  {
   "cell_type": "code",
   "execution_count": 39,
   "id": "1172b32f0a25a67",
   "metadata": {
    "ExecuteTime": {
     "end_time": "2024-04-14T23:28:12.666152Z",
     "start_time": "2024-04-14T23:28:12.650880Z"
    }
   },
   "cell_type": "code",
   "source": [
    "reg = LinearRegression()\n",
    "reg.fit(x,y)\n",
    "\n",
    "linFit = reg.coef_\n",
    "print(f'Linear model fit weights:\\n  {linFit}')\n",
    "print(f'Ture weights for linear component:\\n  {linCompWeight}')"
   ],
   "id": "1172b32f0a25a67",
   "outputs": [
    {
     "name": "stdout",
     "output_type": "stream",
     "text": [
      "Linear model fit weights:\n",
      "  [ 0.79511275  0.90279988 -0.8128346  -0.51398018]\n",
      "Ture weights for linear component:\n",
      "  [0.6828137769936751, 0.44902049164912183, -0.785947238955746, -0.043293711395672396]\n"
     ]
    }
   ],
   "execution_count": 46
  },
  {
   "cell_type": "markdown",
   "id": "fe5137bed53bfaa3",
   "metadata": {},
   "source": [
    "Notice that the estimation of the linear model is somewhat close to the linear component\n",
    "of the model.  This is because the linear estimation is blind to the up-down component of the\n",
    "ground truth and because the effects on the up-down model tend to average out.\n",
    "\n",
    "Notice also that using a linear model to estimate the linear component of the linear model in\n",
    "the presence of the up-down phenomena is not nearly as accurate when the up-down phenomena isn't\n",
    "present.  This is because the up-down phenomena looks like noise to the linear model."
   ]
  },
  {
   "cell_type": "code",
   "execution_count": 40,
   "id": "4086d7449365931c",
   "metadata": {
    "ExecuteTime": {
     "end_time": "2024-04-14T23:28:12.690777Z",
     "start_time": "2024-04-14T23:28:12.669152Z"
    }
   },
   "outputs": [],
   "source": [
    "def RmsErrorPercent(tureL, estL):\n",
    "\tassert(len(tureL) == len(estL))\n",
    "\t\n",
    "\trms = sqrt(sum(t**2 for t in tureL))\n",
    "\tresult = sqrt(sum((e - t)**2 for (t,e) in zip(tureL,estL)) / rms)\n",
    "\t\n",
    "\treturn result"
   ],
   "id": "4086d7449365931c",
   "outputs": [],
   "execution_count": 47
  },
  {
   "cell_type": "code",
   "execution_count": 41,
   "id": "b4e0a9d6ab35cd08",
   "metadata": {
    "ExecuteTime": {
     "end_time": "2024-04-14T23:28:12.717792Z",
     "start_time": "2024-04-14T23:28:12.692934Z"
    }
   },
   "outputs": [
    {
     "name": "stdout",
     "output_type": "stream",
     "text": [
      "percent error = 53.5%\n"
     ]
    }
   ],
   "execution_count": 48
  },
  {
   "cell_type": "markdown",
   "id": "3d3741f1b032cf88",
   "metadata": {},
   "source": [
    "Compute the probability of every gene combination"
   ]
  },
  {
   "cell_type": "code",
   "execution_count": 43,
   "id": "435a384d2abb3159",
   "metadata": {
    "ExecuteTime": {
     "end_time": "2024-04-14T23:28:12.737537Z",
     "start_time": "2024-04-14T23:28:12.719793Z"
    }
   },
   "outputs": [
    {
     "data": {
      "text/plain": [
       "(0.01183636946023732,\n",
       " 0.0956696214358031,\n",
       " 0.008049714029898914,\n",
       " 0.06506328621238064,\n",
       " 0.03329511160161387,\n",
       " 0.2691138303252447,\n",
       " 0.02264344044742141,\n",
       " 0.18301974966955148,\n",
       " 0.0053503911379629955,\n",
       " 0.04324551514059721,\n",
       " 0.003638710227269638,\n",
       " 0.029410541055423563,\n",
       " 0.01505038100147239,\n",
       " 0.12164745766955785,\n",
       " 0.010235508743611597,\n",
       " 0.08273037184195335)"
      ]
     },
     "execution_count": 43,
     "metadata": {},
     "output_type": "execute_result"
    }
   ],
   "source": [
    "prob = tuple(prod((p if g == 1 else (1 - p) for (p,g) in zip(prev,case))) for case in allCombNum)\n",
    "assert(isclose(sum(prob),1))"
   ],
   "id": "435a384d2abb3159",
   "outputs": [],
   "execution_count": 49
  },
  {
   "cell_type": "code",
   "execution_count": 44,
   "id": "aeb3f39b9595055e",
   "metadata": {
    "ExecuteTime": {
     "end_time": "2024-04-14T23:28:12.758127Z",
     "start_time": "2024-04-14T23:28:12.738538Z"
    }
   },
   "outputs": [],
   "source": [
    "def PlotColorCoded(data, upGroup,downGroup, mark='o'):\n",
    "\tredData = [d for d in data if (d[2] in upGroup)]\n",
    "\tblueData = [d for d in data if (d[2] in downGroup)]\n",
    "\tgreenData = [d for d in data if ((d[2] not in upGroup) and (d[2] not in downGroup))]\n",
    "\t\n",
    "\tredX = [d[0] for d in redData]\n",
    "\tredY = [d[1] for d in redData]\n",
    "\tplot.plot(redX, redY, mark, c='red')\n",
    "\t\t\n",
    "\tblueX = [d[0] for d in blueData]\n",
    "\tblueY = [d[1] for d in blueData]\n",
    "\tplot.plot(blueX, blueY, mark, c='blue')\n",
    "\t\n",
    "\tgreenX = [d[0] for d in greenData]\n",
    "\tgreenY = [d[1] for d in greenData]\n",
    "\tplot.plot(greenX, greenY, mark, c='green')"
   ],
   "id": "aeb3f39b9595055e",
   "outputs": [],
   "execution_count": 50
  },
  {
   "cell_type": "code",
   "execution_count": 45,
   "id": "5565a8fc837c081",
   "metadata": {
    "ExecuteTime": {
     "end_time": "2024-04-14T23:28:13.033564Z",
     "start_time": "2024-04-14T23:28:12.760128Z"
    }
   },
   "outputs": [
    {
     "data": {
      "text/plain": [
       "Text(0, 0.5, 'Probability')"
      ]
     },
     "execution_count": 45,
     "metadata": {},
     "output_type": "execute_result"
    },
    {
     "data": {
      "image/png": "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",
      "text/plain": [
       "<Figure size 900x500 with 1 Axes>"
      ]
     },
     "metadata": {},
     "output_type": "display_data"
    }
   ],
   "source": [
    "x = [n for n in range(nCase)]\n",
    "data = list(zip(x,prob,allCombNum))\n",
    "\n",
    "plot.subplots(figsize=(9,5))\n",
    "PlotColorCoded(data, upGroups, downGroups)\n",
    "\n",
    "plot.title('Probability of Occurrence')\n",
    "plot.xlabel('Gene Combination Ordinal')\n",
    "plot.ylabel('Probability')"
   ],
   "id": "5565a8fc837c081",
   "outputs": [
    {
     "data": {
      "text/plain": [
       "Text(0, 0.5, 'Probability')"
      ]
     },
     "execution_count": 51,
     "metadata": {},
     "output_type": "execute_result"
    },
    {
     "data": {
      "text/plain": [
       "<Figure size 900x500 with 1 Axes>"
      ],
      "image/png": "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"
     },
     "metadata": {},
     "output_type": "display_data"
    }
   ],
   "execution_count": 51
  },
  {
   "cell_type": "markdown",
   "id": "b3798db67d6b8ab",
   "metadata": {},
   "source": [
    "Red markers correspond to gene combinations that yield up-regulation, the blue markers correspond\n",
    "to down-regulation, and the green markers to neither."
   ]
  },
  {
   "cell_type": "code",
   "execution_count": 46,
   "id": "31c1b35e6e845cc6",
   "metadata": {
    "ExecuteTime": {
     "end_time": "2024-04-14T23:28:13.043773Z",
     "start_time": "2024-04-14T23:28:13.035564Z"
    }
   },
   "outputs": [],
   "source": [
    "linComp = tuple(LinMod(linCompWeight, case) for case in allCombNum)\n",
    "linEstMeas = tuple(LinMod(linFit, case) for case in allCombNum)"
   ],
   "id": "31c1b35e6e845cc6",
   "outputs": [],
   "execution_count": 52
  },
  {
   "cell_type": "markdown",
   "id": "e62a81f25a2e5f4c",
   "metadata": {},
   "source": [
    "The probability weighted mean RMS error"
   ]
  },
  {
   "cell_type": "code",
   "execution_count": 47,
   "id": "91270defa2b9a2d2",
   "metadata": {
    "ExecuteTime": {
     "end_time": "2024-04-14T23:28:13.064633Z",
     "start_time": "2024-04-14T23:28:13.047771Z"
    }
   },
   "outputs": [],
   "source": [
    "def RmsErrorWeight(aList,bList,weight):\n",
    "\tassert((len(aList) == len(bList)) and (len(bList) == len(weight)))\n",
    "\ttotalWeight = sum(weight)\n",
    "\tresult = sqrt(sum(w * (a-b)**2 for (a,b,w) in zip(aList,bList,weight)) / totalWeight)\n",
    "\t\n",
    "\treturn result"
   ],
   "id": "91270defa2b9a2d2",
   "outputs": [],
   "execution_count": 53
  },
  {
   "cell_type": "code",
   "execution_count": 48,
   "id": "ced8209c28dfebb9",
   "metadata": {
    "ExecuteTime": {
     "end_time": "2024-04-14T23:28:13.077836Z",
     "start_time": "2024-04-14T23:28:13.065635Z"
    }
   },
   "outputs": [
    {
     "data": {
      "text/plain": [
       "0.31255084539269906"
      ]
     },
     "execution_count": 54,
     "metadata": {},
     "output_type": "execute_result"
    }
   ],
   "execution_count": 54
  },
  {
   "cell_type": "code",
   "execution_count": 49,
   "id": "df52346e6b59aa03",
   "metadata": {
    "ExecuteTime": {
     "end_time": "2024-04-14T23:28:13.134061Z",
     "start_time": "2024-04-14T23:28:13.078839Z"
    }
   },
   "outputs": [
    {
     "data": {
      "text/plain": [
       "0.31994794278785826"
      ]
     },
     "execution_count": 55,
     "metadata": {},
     "output_type": "execute_result"
    }
   ],
   "execution_count": 55
  },
  {
   "cell_type": "markdown",
   "id": "f4ad00cf40b743f7",
   "metadata": {},
   "source": [
    "Here the RMS error of the difference between the linear estimation of the linear component of \n",
    "phenomena and the actual linear component of the mechanism is a few times larger (or worse) \n",
    "than the noise in the measurements.  This is because most of the error is model mismatch."
   ]
  },
  {
   "cell_type": "markdown",
   "id": "4e97aefeab9a30d2",
   "metadata": {},
   "source": [
    "#### Plot Measurements, the Ture Linear Component, and the Learned Linear Component \n",
    "\n",
    "Learned is synonymous with estimated"
   ]
  },
  {
   "cell_type": "code",
   "execution_count": 50,
   "id": "ba1d812af5acb7a1",
   "metadata": {
    "ExecuteTime": {
     "end_time": "2024-04-14T23:28:13.160225Z",
     "start_time": "2024-04-14T23:28:13.139059Z"
    }
   },
   "outputs": [],
   "source": [
    "def MeanByComb(sampInfo):\n",
    "\tresult = []\n",
    "\tfor comb in allCombNum:\n",
    "\t\tgroupData = [s for s in sampInfo if (s[1] == comb)]\n",
    "\t\tif groupData: \n",
    "\t\t\tresult.append(mean(s[0] for s in groupData))\n",
    "\t\telse:\n",
    "\t\t\tresult.append(None)\n",
    "\treturn result"
   ],
   "id": "ba1d812af5acb7a1",
   "outputs": [],
   "execution_count": 56
  },
  {
   "cell_type": "code",
   "execution_count": 51,
   "id": "12c7ee60d4698896",
   "metadata": {
    "ExecuteTime": {
     "end_time": "2024-04-14T23:28:13.193676Z",
     "start_time": "2024-04-14T23:28:13.162252Z"
    }
   },
   "outputs": [],
   "source": [
    "sampInfo = list(zip(measPheno, geneSampNum))\n",
    "meanMeas = MeanByComb(sampInfo)"
   ],
   "id": "12c7ee60d4698896",
   "outputs": [],
   "execution_count": 57
  },
  {
   "cell_type": "code",
   "execution_count": 52,
   "id": "37a5b6bc63b9e0e7",
   "metadata": {
    "ExecuteTime": {
     "end_time": "2024-04-14T23:28:13.457295Z",
     "start_time": "2024-04-14T23:28:13.195677Z"
    }
   },
   "outputs": [
    {
     "data": {
      "text/plain": [
       "Text(0, 0.5, 'Quantity to be Measured')"
      ]
     },
     "execution_count": 52,
     "metadata": {},
     "output_type": "execute_result"
    },
    {
     "data": {
      "image/png": "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",
      "text/plain": [
       "<Figure size 900x500 with 1 Axes>"
      ]
     },
     "metadata": {},
     "output_type": "display_data"
    }
   ],
   "source": [
    "x = [n for n in range(nCase)]\n",
    "\n",
    "plot.subplots(figsize=(9, 5))\n",
    "\n",
    "sampInfo = list(zip(x, linComp, allCombNum))\n",
    "PlotColorCoded(sampInfo, upGroups, downGroups)\n",
    "\n",
    "sampInfo = list(zip(x, meanMeas, allCombNum))\n",
    "PlotColorCoded(sampInfo, upGroups, downGroups, '*')\n",
    "\n",
    "sampInfo = list(zip(x, linEstMeas, allCombNum))\n",
    "PlotColorCoded(sampInfo, upGroups, downGroups, 's')\n",
    "\n",
    "plot.xlabel('Gene Combination Ordinal')\n",
    "plot.ylabel('Quantity to be Measured')"
   ],
   "id": "37a5b6bc63b9e0e7",
   "outputs": [
    {
     "data": {
      "text/plain": [
       "Text(0, 0.5, 'Quantity to be Measured')"
      ]
     },
     "execution_count": 58,
     "metadata": {},
     "output_type": "execute_result"
    },
    {
     "data": {
      "text/plain": [
       "<Figure size 900x500 with 1 Axes>"
      ],
      "image/png": "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"
     },
     "metadata": {},
     "output_type": "display_data"
    }
   ],
   "execution_count": 58
  },
  {
   "cell_type": "markdown",
   "id": "1037f4aeeedfd165",
   "metadata": {},
   "source": [
    "This graph shows three results for each of the 16 gene combinations:\n",
    "* Circles:  represent the measurements that would occur if only the linear mechanism \n",
    "could be measured in the absence of noise.\n",
    "* Starts:  show the mean of the actual measurements.\n",
    "* Squares:  show the estimated component of the linear model.\n",
    "\n",
    "Notice that starts and the circles are almost the same, except for the particular gene sequences \n",
    "where the either up regulation or down regulation occurs.  This is because, except in these 4 \n",
    "cases, the linear model is the only affect on the phenotype.  For combinations where up \n",
    "regulation or down regulation occur, the measurements differ from the model by plus or minus 1.\n",
    "\n",
    "Notice that the estiment of the linear component is pulled off the actual linear component by a \n",
    "significant amount (towards the mean measurements for these combinations) at each of the gene \n",
    "combinations that up regulate or down regulate.  This in turn distorts the estiment of the linear \n",
    "component even for gene combinations that aren't up or down regulated."
   ]
  },
  {
   "cell_type": "markdown",
   "id": "d79e2fd9a11526ad",
   "metadata": {},
   "source": [
    "## Conclusion\n",
    "\n",
    "The details of the notebook have shown that if the mechanism linking phenotypes to genotypes is\n",
    " a mixture of linear and non-linear mechanisms, then the \"interference\" of the non-linear \n",
    " mechanism severely limits the ability to estimate the linear component (at using a linear model).\n",
    "More generally, to estimate one component in a mixed model all the module components \n",
    " must be simultaneously estimated.\n",
    "\n",
    "But the far more significant point, not explicitly stated, is fitting with a linear model \n",
    "provides no clue to the existence of the non-linear component of the model. "
   ]
  },
  {
   "metadata": {
    "ExecuteTime": {
     "end_time": "2024-04-14T23:28:13.463361Z",
     "start_time": "2024-04-14T23:28:13.460296Z"
    }
   },
   "cell_type": "code",
   "source": "",
   "id": "9684c4d4ad63175c",
   "outputs": [],
   "execution_count": 58
  }
 ],
 "metadata": {
  "kernelspec": {
   "display_name": "Python 3",
   "language": "python",
   "name": "python3"
  },
  "language_info": {
   "codemirror_mode": {
    "name": "ipython",
    "version": 2
   },
   "file_extension": ".py",
   "mimetype": "text/x-python",
   "name": "python",
   "nbconvert_exporter": "python",
   "pygments_lexer": "ipython2",
   "version": "3.11.5"
  }
 },
 "nbformat": 4,
 "nbformat_minor": 5
}

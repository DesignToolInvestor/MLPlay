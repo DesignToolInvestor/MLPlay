{
 "cells": [
  {
   "cell_type": "markdown",
   "source": [
    "This is a worksheet for generating some test data."
   ],
   "metadata": {
    "collapsed": false
   },
   "id": "89fe03fc405575a5"
  },
  {
   "cell_type": "code",
   "outputs": [],
   "source": [
    "import random\n",
    "from random import gauss, randint\n",
    "from matplotlib import pyplot as plot"
   ],
   "metadata": {
    "collapsed": false,
    "ExecuteTime": {
     "end_time": "2024-03-08T03:47:12.662907Z",
     "start_time": "2024-03-08T03:47:12.658460Z"
    }
   },
   "id": "7f1f2ae05ba47fd",
   "execution_count": 130
  },
  {
   "cell_type": "code",
   "outputs": [],
   "source": [
    "dim = 2\n",
    "sigma = 0.5\n",
    "nType = 3\n",
    "nSamp = 100\n",
    "\n",
    "seed = None\n",
    "\n",
    "cent = ((1,1), (0,-1), (-1,0))\n",
    "colorL = ['red', 'blue', 'green']\n",
    "\n",
    "prop = [0.5, 0.2, 0.3]"
   ],
   "metadata": {
    "collapsed": false,
    "ExecuteTime": {
     "end_time": "2024-03-08T03:47:12.685986Z",
     "start_time": "2024-03-08T03:47:12.680985Z"
    }
   },
   "id": "8863f59581a0eefe",
   "execution_count": 131
  },
  {
   "cell_type": "code",
   "outputs": [],
   "source": [
    "def SetSeed(seed=None):\n",
    "    if seed == None:\n",
    "        random.seed()\n",
    "        maxSeed = 999\n",
    "        seed = randint(0, maxSeed)\n",
    "\n",
    "    random.seed(seed)\n",
    "\n",
    "    return seed"
   ],
   "metadata": {
    "collapsed": false,
    "ExecuteTime": {
     "end_time": "2024-03-08T03:47:12.720147Z",
     "start_time": "2024-03-08T03:47:12.714070Z"
    }
   },
   "id": "3abfb3aecc6fd618",
   "execution_count": 132
  },
  {
   "cell_type": "code",
   "outputs": [],
   "source": [
    "def UnZip(list_):\n",
    "\tnElem = len(list_)\n",
    "\tnDim = len(list_[0])\n",
    "\t\n",
    "\tresult = [[] for _ in range(nDim)]\n",
    "\tfor i in range(nElem):\n",
    "\t\tfor j in range(nDim):\n",
    "\t\t\tresult[j].append(list_[i][j])\n",
    "\t\t\n",
    "\treturn result"
   ],
   "metadata": {
    "collapsed": false,
    "ExecuteTime": {
     "end_time": "2024-03-08T03:47:12.772356Z",
     "start_time": "2024-03-08T03:47:12.722151Z"
    }
   },
   "id": "5e7d27676ddb4075",
   "execution_count": 133
  },
  {
   "cell_type": "code",
   "outputs": [],
   "source": [
    "def Group(list_):\n",
    "\tcopy = sorted(list_, key=lambda p: p[0])\n",
    "\t\n",
    "\tresult = []\n",
    "\t\n",
    "\ti = 0\n",
    "\tprev = copy[0][0]\n",
    "\tout = [copy[0][1]]\n",
    "\n",
    "\tfor i in range(1, len(list_)):\n",
    "\t\tcurr = copy[i][0]\n",
    "\n",
    "\t\tif curr == prev:\n",
    "\t\t\tout.append(copy[i][1])\n",
    "\t\telse:\n",
    "\t\t\tresult.append((prev,out))\n",
    "\t\t\tout = [copy[i][1]]\n",
    "\t\t\tprev = curr\n",
    "\t\t\n",
    "\tresult.append((prev, out))\n",
    "\t\n",
    "\treturn result  \t"
   ],
   "metadata": {
    "collapsed": false,
    "ExecuteTime": {
     "end_time": "2024-03-08T03:47:12.807630Z",
     "start_time": "2024-03-08T03:47:12.775357Z"
    }
   },
   "id": "2e71646aeb6f3139",
   "execution_count": 134
  },
  {
   "cell_type": "code",
   "outputs": [
    {
     "name": "stdout",
     "output_type": "stream",
     "text": [
      "Seed = 786\n"
     ]
    }
   ],
   "source": [
    "seed = SetSeed(seed)\n",
    "print(f'Seed = {seed}')\n",
    "\n",
    "type_ = [randint(0,nType - 1) for _ in range(nSamp)]\n",
    "loc = [(gauss(cent[t][0], sigma), gauss(cent[t][1], sigma)) for t in type_]"
   ],
   "metadata": {
    "collapsed": false,
    "ExecuteTime": {
     "end_time": "2024-03-08T03:47:12.833447Z",
     "start_time": "2024-03-08T03:47:12.809631Z"
    }
   },
   "id": "a029077caef71e96",
   "execution_count": 135
  },
  {
   "cell_type": "code",
   "outputs": [],
   "source": [
    "byType = Group(list(zip(type_,loc)))"
   ],
   "metadata": {
    "collapsed": false,
    "ExecuteTime": {
     "end_time": "2024-03-08T03:47:12.878921Z",
     "start_time": "2024-03-08T03:47:12.837447Z"
    }
   },
   "id": "6802f8a3ecc23464",
   "execution_count": 136
  },
  {
   "cell_type": "code",
   "outputs": [
    {
     "data": {
      "text/plain": "<Figure size 650x650 with 1 Axes>",
      "image/png": "[encoded data removed]"
     },
     "metadata": {},
     "output_type": "display_data"
    }
   ],
   "source": [
    "fig,ax = plot.subplots(figsize=(6.5,6.5))\n",
    "ax.set_aspect('equal')\n",
    "\n",
    "for t, pointL in byType:\n",
    "\tx,y = UnZip(pointL)\n",
    "\tplot.plot(x,y, 'o', markersize=4, color=colorL[t])\n",
    "\t\n",
    "plot.savefig('GenData.png')"
   ],
   "metadata": {
    "collapsed": false,
    "ExecuteTime": {
     "end_time": "2024-03-08T03:47:13.214386Z",
     "start_time": "2024-03-08T03:47:12.882921Z"
    }
   },
   "id": "563db9854052fe00",
   "execution_count": 137
  }
 ],
 "metadata": {
  "kernelspec": {
   "display_name": "Python 3",
   "language": "python",
   "name": "python3"
  },
  "language_info": {
   "codemirror_mode": {
    "name": "ipython",
    "version": 2
   },
   "file_extension": ".py",
   "mimetype": "text/x-python",
   "name": "python",
   "nbconvert_exporter": "python",
   "pygments_lexer": "ipython2",
   "version": "2.7.6"
  }
 },
 "nbformat": 4,
 "nbformat_minor": 5
}

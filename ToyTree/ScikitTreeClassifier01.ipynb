{
 "cells": [
  {
   "cell_type": "code",
   "execution_count": null,
   "metadata": {},
   "outputs": [],
   "source": [
    "from sklearn import tree\n",
    "from sklearn import inspection\n",
    "import matplotlib\n",
    "from matplotlib import pyplot as plot\n",
    "import numpy as np\n",
    "from sklearn.model_selection import train_test_split\n",
    "\n",
    "import math\n",
    "\n",
    "# cokie laptop\n",
    "dataPath = \"C:\\\\Users\\\\cokie\\\\Workspace\\\\GithubProjects\\\\MLPlay\\\\data\\\\\""
   ]
  }
 ],
 "metadata": {
  "language_info": {
   "name": "python"
  }
 },
 "nbformat": 4,
 "nbformat_minor": 2
}

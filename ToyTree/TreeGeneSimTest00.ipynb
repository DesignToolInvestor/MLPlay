{
 "cells": [
  {
   "cell_type": "code",
   "execution_count": 1,
   "metadata": {},
   "outputs": [],
   "source": [
    "import random"
   ]
  },
  {
   "cell_type": "code",
   "execution_count": 9,
   "metadata": {},
   "outputs": [],
   "source": [
    "transitionProb = 0.1\n",
    "simSeqLen = 100\n",
    "snpList = ['0', '1']\n",
    "initSNP = 0\n",
    "\n",
    "random.seed(2525)\n",
    "\n",
    "truthPath = \"C:\\\\Users\\\\cokie\\\\Workspace\\\\GithubProjects\\\\PrecisionVaccineProject\\\\ToyNNModels\\\\\"\n"
   ]
  },
  {
   "cell_type": "code",
   "execution_count": 10,
   "metadata": {},
   "outputs": [
    {
     "name": "stdout",
     "output_type": "stream",
     "text": [
      "['0', '0', '0', '0', '0', '0', '1', '1', '1', '0', '0', '0', '0', '1', '1', '0', '1', '1', '1', '1', '1', '0', '0', '0', '0', '0', '0', '0', '0', '0', '0', '0', '0', '0', '0', '0', '0', '1', '1', '1', '0', '0', '1', '1', '1', '1', '1', '1', '1', '1', '1', '1', '1', '1', '1', '1', '1', '1', '1', '1', '1', '1', '1', '1', '1', '1', '1', '1', '1', '1', '1', '1', '1', '1', '1', '1', '1', '0', '0', '0', '0', '0', '0', '1', '1', '1', '1', '1', '1', '1', '1', '1', '1', '1', '0', '0', '0', '0', '0', '0']\n"
     ]
    }
   ],
   "source": [
    "currSNP = initSNP\n",
    "simSeq = []\n",
    "\n",
    "for snp in range(simSeqLen):\n",
    "    if (random.random() <= transitionProb):\n",
    "        currSNP = (currSNP + 1) % len(snpList)\n",
    "\n",
    "    simSeq.append(snpList[currSNP])\n",
    "\n",
    "\n",
    "with open(\"my_file.txt\", \"w\") as f:\n",
    "    f.write(simSeq)\n",
    "\n",
    "print(simSeq)"
   ]
  }
 ],
 "metadata": {
  "kernelspec": {
   "display_name": "RandomForestScikitPrecVacc",
   "language": "python",
   "name": "python3"
  },
  "language_info": {
   "codemirror_mode": {
    "name": "ipython",
    "version": 3
   },
   "file_extension": ".py",
   "mimetype": "text/x-python",
   "name": "python",
   "nbconvert_exporter": "python",
   "pygments_lexer": "ipython3",
   "version": "3.11.8"
  }
 },
 "nbformat": 4,
 "nbformat_minor": 2
}
